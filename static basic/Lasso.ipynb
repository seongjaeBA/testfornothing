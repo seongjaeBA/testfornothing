{
 "cells": [
  {
   "cell_type": "code",
   "execution_count": 1,
   "metadata": {},
   "outputs": [
    {
     "name": "stdout",
     "output_type": "stream",
     "text": [
      "C:\\Users\\OBELAB_JH_DESKTOP\\Documents\\GitHub\\testfornothing\\static basic\n",
      "C:\\Users\\OBELAB_JH_DESKTOP\\Documents\\GitHub\\testfornothing\\static basic\\data\\fnirs_feature_0322.xlsx\n"
     ]
    }
   ],
   "source": [
    "import os\n",
    "import numpy as np\n",
    "import pandas as pd\n",
    "\n",
    "\n",
    "# path = os.path.dirname(os.path.abspath(__file__))\n",
    "path = os.getcwd()\n",
    "print(path)\n",
    "\n",
    "f = os.path.join(path, \"data\", 'fnirs_feature_0322.xlsx')\n",
    "print(f)\n",
    "# data = pd.read_excel(open(f, 'rb'), index_col=0, sheet_name = 'ex_csv', header=1 )\n",
    "data = pd.read_excel(open(f, 'rb'), sheet_name = 'ex_csv', header=1 )"
   ]
  },
  {
   "cell_type": "code",
   "execution_count": 2,
   "metadata": {},
   "outputs": [
    {
     "data": {
      "text/html": [
       "<div>\n",
       "<style scoped>\n",
       "    .dataframe tbody tr th:only-of-type {\n",
       "        vertical-align: middle;\n",
       "    }\n",
       "\n",
       "    .dataframe tbody tr th {\n",
       "        vertical-align: top;\n",
       "    }\n",
       "\n",
       "    .dataframe thead th {\n",
       "        text-align: right;\n",
       "    }\n",
       "</style>\n",
       "<table border=\"1\" class=\"dataframe\">\n",
       "  <thead>\n",
       "    <tr style=\"text-align: right;\">\n",
       "      <th></th>\n",
       "      <th>fnirs_idnum</th>\n",
       "      <th>fnirs_task</th>\n",
       "      <th>fnirs_date</th>\n",
       "      <th>fnirs_name</th>\n",
       "      <th>fnirs_sex</th>\n",
       "      <th>fnirs_age</th>\n",
       "      <th>fnirs_inspector</th>\n",
       "      <th>fnirs_acc</th>\n",
       "      <th>fnirs_rt</th>\n",
       "      <th>fnirs_numchrej</th>\n",
       "      <th>...</th>\n",
       "      <th>fnirs_move_z_ctrlAvg_min</th>\n",
       "      <th>fnirs_move_z_ctrlAvg_sum</th>\n",
       "      <th>fnirs_move_z_taskAvg_avg</th>\n",
       "      <th>fnirs_move_z_taskAvg_slope</th>\n",
       "      <th>fnirs_move_z_taskAvg_variance</th>\n",
       "      <th>fnirs_move_z_taskAvg_skewness</th>\n",
       "      <th>fnirs_move_z_taskAvg_kurtosis</th>\n",
       "      <th>fnirs_move_z_taskAvg_max</th>\n",
       "      <th>fnirs_move_z_taskAvg_min</th>\n",
       "      <th>fnirs_move_z_taskAvg_sum</th>\n",
       "    </tr>\n",
       "  </thead>\n",
       "  <tbody>\n",
       "    <tr>\n",
       "      <th>0</th>\n",
       "      <td>1014</td>\n",
       "      <td>REST</td>\n",
       "      <td>190208</td>\n",
       "      <td>조훈영</td>\n",
       "      <td>남</td>\n",
       "      <td>초5</td>\n",
       "      <td>유성재</td>\n",
       "      <td>empty</td>\n",
       "      <td>empty</td>\n",
       "      <td>19</td>\n",
       "      <td>...</td>\n",
       "      <td>NaN</td>\n",
       "      <td>NaN</td>\n",
       "      <td>NaN</td>\n",
       "      <td>NaN</td>\n",
       "      <td>NaN</td>\n",
       "      <td>NaN</td>\n",
       "      <td>NaN</td>\n",
       "      <td>NaN</td>\n",
       "      <td>NaN</td>\n",
       "      <td>NaN</td>\n",
       "    </tr>\n",
       "    <tr>\n",
       "      <th>1</th>\n",
       "      <td>1015</td>\n",
       "      <td>REST</td>\n",
       "      <td>190208</td>\n",
       "      <td>조형오</td>\n",
       "      <td>남</td>\n",
       "      <td>초2</td>\n",
       "      <td>백지영</td>\n",
       "      <td>empty</td>\n",
       "      <td>empty</td>\n",
       "      <td>8</td>\n",
       "      <td>...</td>\n",
       "      <td>NaN</td>\n",
       "      <td>NaN</td>\n",
       "      <td>NaN</td>\n",
       "      <td>NaN</td>\n",
       "      <td>NaN</td>\n",
       "      <td>NaN</td>\n",
       "      <td>NaN</td>\n",
       "      <td>NaN</td>\n",
       "      <td>NaN</td>\n",
       "      <td>NaN</td>\n",
       "    </tr>\n",
       "    <tr>\n",
       "      <th>2</th>\n",
       "      <td>1016</td>\n",
       "      <td>REST</td>\n",
       "      <td>190208</td>\n",
       "      <td>박정현</td>\n",
       "      <td>남</td>\n",
       "      <td>초1</td>\n",
       "      <td>백지영</td>\n",
       "      <td>empty</td>\n",
       "      <td>empty</td>\n",
       "      <td>29</td>\n",
       "      <td>...</td>\n",
       "      <td>NaN</td>\n",
       "      <td>NaN</td>\n",
       "      <td>NaN</td>\n",
       "      <td>NaN</td>\n",
       "      <td>NaN</td>\n",
       "      <td>NaN</td>\n",
       "      <td>NaN</td>\n",
       "      <td>NaN</td>\n",
       "      <td>NaN</td>\n",
       "      <td>NaN</td>\n",
       "    </tr>\n",
       "    <tr>\n",
       "      <th>3</th>\n",
       "      <td>1017</td>\n",
       "      <td>REST</td>\n",
       "      <td>190208</td>\n",
       "      <td>박정후</td>\n",
       "      <td>남</td>\n",
       "      <td>초3</td>\n",
       "      <td>이창민</td>\n",
       "      <td>empty</td>\n",
       "      <td>empty</td>\n",
       "      <td>28</td>\n",
       "      <td>...</td>\n",
       "      <td>NaN</td>\n",
       "      <td>NaN</td>\n",
       "      <td>NaN</td>\n",
       "      <td>NaN</td>\n",
       "      <td>NaN</td>\n",
       "      <td>NaN</td>\n",
       "      <td>NaN</td>\n",
       "      <td>NaN</td>\n",
       "      <td>NaN</td>\n",
       "      <td>NaN</td>\n",
       "    </tr>\n",
       "    <tr>\n",
       "      <th>4</th>\n",
       "      <td>1018</td>\n",
       "      <td>REST</td>\n",
       "      <td>190208</td>\n",
       "      <td>김리환</td>\n",
       "      <td>남</td>\n",
       "      <td>초3</td>\n",
       "      <td>유성재</td>\n",
       "      <td>empty</td>\n",
       "      <td>empty</td>\n",
       "      <td>25</td>\n",
       "      <td>...</td>\n",
       "      <td>NaN</td>\n",
       "      <td>NaN</td>\n",
       "      <td>NaN</td>\n",
       "      <td>NaN</td>\n",
       "      <td>NaN</td>\n",
       "      <td>NaN</td>\n",
       "      <td>NaN</td>\n",
       "      <td>NaN</td>\n",
       "      <td>NaN</td>\n",
       "      <td>NaN</td>\n",
       "    </tr>\n",
       "  </tbody>\n",
       "</table>\n",
       "<p>5 rows × 5278 columns</p>\n",
       "</div>"
      ],
      "text/plain": [
       "   fnirs_idnum fnirs_task  fnirs_date fnirs_name fnirs_sex fnirs_age  \\\n",
       "0         1014       REST      190208        조훈영         남        초5   \n",
       "1         1015       REST      190208        조형오         남        초2   \n",
       "2         1016       REST      190208        박정현         남        초1   \n",
       "3         1017       REST      190208        박정후         남        초3   \n",
       "4         1018       REST      190208        김리환         남        초3   \n",
       "\n",
       "  fnirs_inspector fnirs_acc fnirs_rt  fnirs_numchrej  \\\n",
       "0             유성재     empty    empty              19   \n",
       "1             백지영     empty    empty               8   \n",
       "2             백지영     empty    empty              29   \n",
       "3             이창민     empty    empty              28   \n",
       "4             유성재     empty    empty              25   \n",
       "\n",
       "             ...            fnirs_move_z_ctrlAvg_min  \\\n",
       "0            ...                                 NaN   \n",
       "1            ...                                 NaN   \n",
       "2            ...                                 NaN   \n",
       "3            ...                                 NaN   \n",
       "4            ...                                 NaN   \n",
       "\n",
       "   fnirs_move_z_ctrlAvg_sum  fnirs_move_z_taskAvg_avg  \\\n",
       "0                       NaN                       NaN   \n",
       "1                       NaN                       NaN   \n",
       "2                       NaN                       NaN   \n",
       "3                       NaN                       NaN   \n",
       "4                       NaN                       NaN   \n",
       "\n",
       "   fnirs_move_z_taskAvg_slope  fnirs_move_z_taskAvg_variance  \\\n",
       "0                         NaN                            NaN   \n",
       "1                         NaN                            NaN   \n",
       "2                         NaN                            NaN   \n",
       "3                         NaN                            NaN   \n",
       "4                         NaN                            NaN   \n",
       "\n",
       "   fnirs_move_z_taskAvg_skewness  fnirs_move_z_taskAvg_kurtosis  \\\n",
       "0                            NaN                            NaN   \n",
       "1                            NaN                            NaN   \n",
       "2                            NaN                            NaN   \n",
       "3                            NaN                            NaN   \n",
       "4                            NaN                            NaN   \n",
       "\n",
       "   fnirs_move_z_taskAvg_max  fnirs_move_z_taskAvg_min  \\\n",
       "0                       NaN                       NaN   \n",
       "1                       NaN                       NaN   \n",
       "2                       NaN                       NaN   \n",
       "3                       NaN                       NaN   \n",
       "4                       NaN                       NaN   \n",
       "\n",
       "   fnirs_move_z_taskAvg_sum  \n",
       "0                       NaN  \n",
       "1                       NaN  \n",
       "2                       NaN  \n",
       "3                       NaN  \n",
       "4                       NaN  \n",
       "\n",
       "[5 rows x 5278 columns]"
      ]
     },
     "execution_count": 2,
     "metadata": {},
     "output_type": "execute_result"
    }
   ],
   "source": [
    "data.head()"
   ]
  },
  {
   "cell_type": "code",
   "execution_count": null,
   "metadata": {},
   "outputs": [],
   "source": [
    "cols = data.columns\n",
    "for col in cols:\n",
    "    print(col)"
   ]
  },
  {
   "cell_type": "code",
   "execution_count": null,
   "metadata": {},
   "outputs": [],
   "source": [
    "data.describe()"
   ]
  },
  {
   "cell_type": "code",
   "execution_count": null,
   "metadata": {},
   "outputs": [],
   "source": [
    "tasks = data.fnirs_task.unique()\n",
    "print(tasks)"
   ]
  },
  {
   "cell_type": "code",
   "execution_count": null,
   "metadata": {},
   "outputs": [],
   "source": [
    "dict_of_task = {k: v for k, v in data.groupby('fnirs_task')}\n",
    "print(dict_of_task)"
   ]
  },
  {
   "cell_type": "code",
   "execution_count": null,
   "metadata": {},
   "outputs": [],
   "source": [
    "dict_of_task['REST'].head()"
   ]
  },
  {
   "cell_type": "code",
   "execution_count": null,
   "metadata": {},
   "outputs": [],
   "source": [
    "for k in dict_of_task:\n",
    "    %time print(dict_of_task[k])"
   ]
  },
  {
   "cell_type": "code",
   "execution_count": null,
   "metadata": {},
   "outputs": [],
   "source": [
    "dict_of_task.keys()"
   ]
  },
  {
   "cell_type": "code",
   "execution_count": null,
   "metadata": {},
   "outputs": [],
   "source": [
    "dict_of_task['REST'].keys()"
   ]
  },
  {
   "cell_type": "code",
   "execution_count": null,
   "metadata": {},
   "outputs": [],
   "source": [
    "dictoftaskrow = [{k:v for k,v in m.items() if pd.notnull(v)} for m in data.to_dict(orient='rows')]"
   ]
  },
  {
   "cell_type": "code",
   "execution_count": null,
   "metadata": {},
   "outputs": [],
   "source": [
    "REST= dict_of_task['REST'].dropna(axis = 1, how='all')\n",
    "TWOBACK= dict_of_task['2BACK'].dropna(axis = 1, how='all')\n",
    "CBTTB= dict_of_task['CBTTB'].dropna(axis = 1, how='all')\n",
    "CBTTF= dict_of_task['CBTTF'].dropna(axis = 1, how='all')\n",
    "GNG= dict_of_task['GNG'].dropna(axis = 1, how='all')\n",
    "STROOP= dict_of_task['STROOP'].dropna(axis = 1, how='all')\n",
    "VFT= dict_of_task['VFT'].dropna(axis = 1, how='all')"
   ]
  },
  {
   "cell_type": "code",
   "execution_count": null,
   "metadata": {},
   "outputs": [],
   "source": [
    "from sklearn import linear_model\n",
    "from sklearn.feature_selection import VarianceThreshold\n",
    "from sklearn.linear_model import Lasso, LassoLars, ElasticNet, Ridge\n",
    "from sklearn.linear_model import LassoCV, LassoLarsCV, LassoLarsIC \n",
    "from sklearn.model_selection import validation_curve, GridSearchCV, ParameterGrid  # GridSearchCV n_job 인수 기억하자.  #교차분석\n",
    "\n",
    "# Lasso(alpha=1.0, fit_intercept=True, normalize=False, precompute=False, copy_X=True, max_iter=1000, tol=0.0001, warm_start=False, positive=False, random_state=None, selection=’cyclic’)\n",
    "# LassoCV(eps=0.001, n_alphas=100, alphas=None, fit_intercept=True, normalize=False, precompute=’auto’, max_iter=1000, tol=0.0001, copy_X=True, cv=’warn’, verbose=False, n_jobs=None, positive=False, random_state=None, selection=’cyclic’)\n",
    "# LassoLars(alpha=1.0, fit_intercept=True, verbose=False, normalize=True, precompute=’auto’, max_iter=500, eps=2.220446049250313e-16, copy_X=True, fit_path=True, positive=False)\n",
    "# LassoLarsIC(criterion=’aic’, fit_intercept=True, verbose=False, normalize=True, precompute=’auto’, max_iter=500, eps=2.220446049250313e-16, copy_X=True, positive=False)\n",
    "# ElasticNet(alpha=1.0, l1_ratio=0.5, fit_intercept=True, normalize=False, precompute=False, max_iter=1000, copy_X=True, tol=0.0001, warm_start=False, positive=False, random_state=None, selection=’cyclic’)[source]"
   ]
  },
  {
   "cell_type": "markdown",
   "metadata": {},
   "source": [
    "LASSO"
   ]
  },
  {
   "cell_type": "code",
   "execution_count": null,
   "metadata": {},
   "outputs": [],
   "source": [
    " \n",
    "parameters = {'alpha' : [1e-15, 1e-10, 1e-8, 1e-4, 1e-3, 1e-2, 1, 5, 10, 20]}\n",
    "\n",
    "lasso_regressor = GridSearchCV(Lasso(), parameters, scoring='neg_mean_squared_error', cv=5)\n",
    "\n",
    "REST= REST.drop(['fnirs_idnum', 'fnirs_task','fnirs_date','fnirs_name','fnirs_age','fnirs_inspector', 'fnirs_acc', 'fnirs_rt', 'fnirs_numchrej', 'fnirs_chrej'], axis=1)\n",
    "\n",
    "Target = REST.drop('fnirs_sex', axis=1)\n",
    "Target.head()\n",
    "y = REST.pop('fnirs_sex')\n",
    "\n",
    "# lasso_regressor.fit(Target, y)"
   ]
  }
 ],
 "metadata": {
  "kernelspec": {
   "display_name": "Python 3",
   "language": "python",
   "name": "python3"
  },
  "language_info": {
   "codemirror_mode": {
    "name": "ipython",
    "version": 3
   },
   "file_extension": ".py",
   "mimetype": "text/x-python",
   "name": "python",
   "nbconvert_exporter": "python",
   "pygments_lexer": "ipython3",
   "version": "3.8.5"
  }
 },
 "nbformat": 4,
 "nbformat_minor": 4
}
