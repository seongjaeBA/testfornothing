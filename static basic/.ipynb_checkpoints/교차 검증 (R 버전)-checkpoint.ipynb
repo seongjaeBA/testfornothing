{
 "cells": [
  {
   "cell_type": "markdown",
   "metadata": {
    "school_cell_uuid": "055ab3178a6042cd8c1b1bed67bfde5b"
   },
   "source": [
    "# 교차 검증"
   ]
  },
  {
   "cell_type": "markdown",
   "metadata": {
    "school_cell_uuid": "5cf508ad9cfd4b0cb2e234c79e3cd000"
   },
   "source": [
    "## 모형 검증"
   ]
  },
  {
   "cell_type": "markdown",
   "metadata": {
    "school_cell_uuid": "8a837fee3c654352998622ac3153f539"
   },
   "source": [
    "예측 모형의 최종 성능을 객관적으로 측정하려면 모수 추정(parameter fitting) 즉 트레이닝(training)에 사용되지 않은 새로운 데이터, 즉 테스트 데이터를 사용해야 한다. 모형의 모수 갯수를 증가시킨다든가 커널 모형, 신경망 모형과 같은 비선형 모형을 사용하게 되면 트레이닝 데이터에 대한 예측 성능을 얼마든지 높일 수 있기 때문이다. 이러한 방법에 의해 과최적화(overfitting)가 일어나면 트레이닝 데이터에 대해서는 예측이 잘되지만 테스트 데이터에 대해서는 예측 성능이 급격히 떨어지는 현상이 발생한다."
   ]
  },
  {
   "cell_type": "markdown",
   "metadata": {
    "school_cell_uuid": "5177fe7d5a7b4b88bd3155e6b69c4e54"
   },
   "source": [
    "## 교차 검증"
   ]
  },
  {
   "cell_type": "markdown",
   "metadata": {
    "school_cell_uuid": "32072beaf81e49579d871d9dc88edf0a"
   },
   "source": [
    "위에서 지적한 바와 같이 모형 성능을 정상적으로 검사하려면 테스트 데이터가 별도로 있어야 하기 때문에 현실에서는 확보한 데이터 중 일부를 떼어내어 테스트 데이터로 사용한다. 그런데 테스트 데이터를 어떻게 골라내느냐에 따라 모형의 성능이 달라지므로 한 개의 테스트 데이터만 사용하는 것이 아니라 각기 다른 방법으로 서로 다른 테스트 데이터를 여러번 골라내서 복수의 테스트를 실시하는 것이 일반적이다.\n",
    "\n",
    "이러한 테스트 방법을 교차 검증(cross validation)이라고 한다. 교차 검증을 통한 모형 성능은 보통 다음과 같은 두 가지 값으로 나타난다.\n",
    "\n",
    "* 오차 평균(mean performance): 트레이닝에 사용되지 않은 테스트 데이터(test data)에 대해서 평균 오차의 크기가 얼마나 작은가?\n",
    "* 오차 분산(variance): 트레이닝에 사용되지 않은 테스트 데이터(test data)에 대해 오차의 크기가 얼마나 달라지는가?\n",
    "\n",
    "이 중에서 오차 분산을 계산하려면 테스트 데이터 셋이 최소한 세 개 세트가 있어야 한다."
   ]
  },
  {
   "cell_type": "markdown",
   "metadata": {
    "school_cell_uuid": "46326e3027fc4652870b2aeec56375b1"
   },
   "source": [
    "## caret 패키지의 교차 검증 기능"
   ]
  },
  {
   "cell_type": "markdown",
   "metadata": {
    "school_cell_uuid": "6eac95b37ce345329b704e487c22821d"
   },
   "source": [
    "R의 caret 패키지는 교차 검증을 위해 전체 데이터 셋에서 트레이닝용 데이터나 테스트용 데이터를 분리해 내는 여러가지 방법을 제공한다."
   ]
  },
  {
   "cell_type": "markdown",
   "metadata": {
    "school_cell_uuid": "60dfe864a00d4ba58f9ff0cddd4cb7bc"
   },
   "source": [
    "* `createDataPartition`: 데이터를 트레이닝 데이터 세트와 테스트 데이터 세트로 단순 분리\n",
    "* `createFolds`: K-Fold 분리\n",
    "* `createResample` : 중복 허용"
   ]
  },
  {
   "cell_type": "code",
   "execution_count": 1,
   "metadata": {
    "collapsed": false,
    "school_cell_uuid": "2023bf08113b4a5d930deb1a188c2eb8"
   },
   "outputs": [
    {
     "name": "stderr",
     "output_type": "stream",
     "text": [
      "Loading required package: lattice\n",
      "Loading required package: ggplot2\n"
     ]
    }
   ],
   "source": [
    "library(caret)"
   ]
  },
  {
   "cell_type": "markdown",
   "metadata": {
    "school_cell_uuid": "f734e1ca3289467890c30c34b3a5b22c"
   },
   "source": [
    "### 단순 데이터 분리"
   ]
  },
  {
   "cell_type": "markdown",
   "metadata": {
    "school_cell_uuid": "0b0203e7ddc9457994e7e6b859109b75"
   },
   "source": [
    "`createDataParitition(x, p=0.5, groups=2)` 명령은 데이터를 단순히 트레이닝 데이터 세트와 테스트 데이터 세트로 분리한다. `times` 인수로 데이터 세트의 수를, `p` 인수로 분리 비중을 조절할 수 있다."
   ]
  },
  {
   "cell_type": "code",
   "execution_count": 2,
   "metadata": {
    "collapsed": false,
    "school_cell_uuid": "4c3832e557984aee8852ee4abbb8fa2e"
   },
   "outputs": [
    {
     "data": {
      "text/html": [
       "<ol class=list-inline>\n",
       "\t<li>10</li>\n",
       "\t<li>20</li>\n",
       "\t<li>30</li>\n",
       "\t<li>40</li>\n",
       "\t<li>50</li>\n",
       "\t<li>60</li>\n",
       "\t<li>70</li>\n",
       "\t<li>80</li>\n",
       "\t<li>90</li>\n",
       "\t<li>100</li>\n",
       "</ol>\n"
      ],
      "text/latex": [
       "\\begin{enumerate*}\n",
       "\\item 10\n",
       "\\item 20\n",
       "\\item 30\n",
       "\\item 40\n",
       "\\item 50\n",
       "\\item 60\n",
       "\\item 70\n",
       "\\item 80\n",
       "\\item 90\n",
       "\\item 100\n",
       "\\end{enumerate*}\n"
      ],
      "text/markdown": [
       "1. 10\n",
       "2. 20\n",
       "3. 30\n",
       "4. 40\n",
       "5. 50\n",
       "6. 60\n",
       "7. 70\n",
       "8. 80\n",
       "9. 90\n",
       "10. 100\n",
       "\n",
       "\n"
      ],
      "text/plain": [
       " [1]  10  20  30  40  50  60  70  80  90 100"
      ]
     },
     "metadata": {},
     "output_type": "display_data"
    }
   ],
   "source": [
    "(X <- c(1:10) * 10)"
   ]
  },
  {
   "cell_type": "code",
   "execution_count": 3,
   "metadata": {
    "collapsed": false,
    "school_cell_uuid": "90e72c84142a4fc290d08e8989af57da"
   },
   "outputs": [
    {
     "data": {
      "text/html": [
       "<strong>$Resample1</strong> = <ol class=list-inline>\n",
       "\t<li>3</li>\n",
       "\t<li>9</li>\n",
       "</ol>\n"
      ],
      "text/latex": [
       "\\textbf{\\$Resample1} = \\begin{enumerate*}\n",
       "\\item 3\n",
       "\\item 9\n",
       "\\end{enumerate*}\n"
      ],
      "text/markdown": [
       "**$Resample1** = 1. 3\n",
       "2. 9\n",
       "\n",
       "\n"
      ],
      "text/plain": [
       "$Resample1\n",
       "[1] 3 9\n"
      ]
     },
     "metadata": {},
     "output_type": "display_data"
    }
   ],
   "source": [
    "set.seed(0)\n",
    "(idx <- createDataPartition(X, p=0.2, groups=2))"
   ]
  },
  {
   "cell_type": "code",
   "execution_count": 4,
   "metadata": {
    "collapsed": false,
    "school_cell_uuid": "53911d350c1d4f358bf7d2ec54660a96"
   },
   "outputs": [
    {
     "data": {
      "text/html": [
       "<ol class=list-inline>\n",
       "\t<li>30</li>\n",
       "\t<li>90</li>\n",
       "</ol>\n"
      ],
      "text/latex": [
       "\\begin{enumerate*}\n",
       "\\item 30\n",
       "\\item 90\n",
       "\\end{enumerate*}\n"
      ],
      "text/markdown": [
       "1. 30\n",
       "2. 90\n",
       "\n",
       "\n"
      ],
      "text/plain": [
       "[1] 30 90"
      ]
     },
     "metadata": {},
     "output_type": "display_data"
    }
   ],
   "source": [
    "X[idx[[1]]]"
   ]
  },
  {
   "cell_type": "code",
   "execution_count": 5,
   "metadata": {
    "collapsed": false,
    "school_cell_uuid": "1f7b37ca2fb5458fb68686edd4e37e17"
   },
   "outputs": [
    {
     "data": {
      "text/html": [
       "<ol class=list-inline>\n",
       "\t<li>10</li>\n",
       "\t<li>20</li>\n",
       "\t<li>40</li>\n",
       "\t<li>50</li>\n",
       "\t<li>60</li>\n",
       "\t<li>70</li>\n",
       "\t<li>80</li>\n",
       "\t<li>100</li>\n",
       "</ol>\n"
      ],
      "text/latex": [
       "\\begin{enumerate*}\n",
       "\\item 10\n",
       "\\item 20\n",
       "\\item 40\n",
       "\\item 50\n",
       "\\item 60\n",
       "\\item 70\n",
       "\\item 80\n",
       "\\item 100\n",
       "\\end{enumerate*}\n"
      ],
      "text/markdown": [
       "1. 10\n",
       "2. 20\n",
       "3. 40\n",
       "4. 50\n",
       "5. 60\n",
       "6. 70\n",
       "7. 80\n",
       "8. 100\n",
       "\n",
       "\n"
      ],
      "text/plain": [
       "[1]  10  20  40  50  60  70  80 100"
      ]
     },
     "metadata": {},
     "output_type": "display_data"
    }
   ],
   "source": [
    "X[-idx[[1]]]"
   ]
  },
  {
   "cell_type": "markdown",
   "metadata": {
    "school_cell_uuid": "443b4419f68e4706a530e5682a5884b0"
   },
   "source": [
    "### K-fold CV"
   ]
  },
  {
   "cell_type": "markdown",
   "metadata": {
    "school_cell_uuid": "22487434c26f4088a9a7f156e8c447d5"
   },
   "source": [
    "K-fold CV(cross-validation) 방법은 데이터 셋을 K개의 sub-set로 분리하는 방법이다. 분리된 K개의 sub-set 중 하나만 제외한 K-1개의 sub-sets를 training set으로 이용하여 K개의 모형 추정한다. \n",
    " \n",
    "<img src=\"https://docs.google.com/drawings/d/1JdgUDzuE75LBxqT5sKOhlPgP6umEkvD3Sm-gKnu-jqA/pub?w=762&h=651\" style=\"margin: 0 auto 0 auto;\">\n",
    "\n",
    "\n",
    "`createFolds` 명령을 사용한다."
   ]
  },
  {
   "cell_type": "code",
   "execution_count": 6,
   "metadata": {
    "collapsed": false,
    "school_cell_uuid": "92a46e5d49074eeca371b639dd7296b8"
   },
   "outputs": [],
   "source": [
    "N <- 5\n",
    "X <- matrix(c(1:40) * 10, ncol=2, byrow=T)\n",
    "y <- rep(1:4, each=5)"
   ]
  },
  {
   "cell_type": "code",
   "execution_count": 7,
   "metadata": {
    "collapsed": false,
    "school_cell_uuid": "b333d0e12f6248699e1a7fcb01090145"
   },
   "outputs": [
    {
     "data": {
      "text/html": [
       "<table>\n",
       "<thead><tr><th scope=col></th><th scope=col></th><th scope=col>y</th></tr></thead>\n",
       "<tbody>\n",
       "\t<tr><td> 10</td><td> 20</td><td>1  </td></tr>\n",
       "\t<tr><td> 30</td><td> 40</td><td>1  </td></tr>\n",
       "\t<tr><td> 50</td><td> 60</td><td>1  </td></tr>\n",
       "\t<tr><td> 70</td><td> 80</td><td>1  </td></tr>\n",
       "\t<tr><td> 90</td><td>100</td><td>1  </td></tr>\n",
       "\t<tr><td>110</td><td>120</td><td>2  </td></tr>\n",
       "\t<tr><td>130</td><td>140</td><td>2  </td></tr>\n",
       "\t<tr><td>150</td><td>160</td><td>2  </td></tr>\n",
       "\t<tr><td>170</td><td>180</td><td>2  </td></tr>\n",
       "\t<tr><td>190</td><td>200</td><td>2  </td></tr>\n",
       "\t<tr><td>210</td><td>220</td><td>3  </td></tr>\n",
       "\t<tr><td>230</td><td>240</td><td>3  </td></tr>\n",
       "\t<tr><td>250</td><td>260</td><td>3  </td></tr>\n",
       "\t<tr><td>270</td><td>280</td><td>3  </td></tr>\n",
       "\t<tr><td>290</td><td>300</td><td>3  </td></tr>\n",
       "\t<tr><td>310</td><td>320</td><td>4  </td></tr>\n",
       "\t<tr><td>330</td><td>340</td><td>4  </td></tr>\n",
       "\t<tr><td>350</td><td>360</td><td>4  </td></tr>\n",
       "\t<tr><td>370</td><td>380</td><td>4  </td></tr>\n",
       "\t<tr><td>390</td><td>400</td><td>4  </td></tr>\n",
       "</tbody>\n",
       "</table>\n"
      ],
      "text/latex": [
       "\\begin{tabular}{lll}\n",
       "  &  & y\\\\\n",
       "\\hline\n",
       "\t  10 &  20 & 1  \\\\\n",
       "\t  30 &  40 & 1  \\\\\n",
       "\t  50 &  60 & 1  \\\\\n",
       "\t  70 &  80 & 1  \\\\\n",
       "\t  90 & 100 & 1  \\\\\n",
       "\t 110 & 120 & 2  \\\\\n",
       "\t 130 & 140 & 2  \\\\\n",
       "\t 150 & 160 & 2  \\\\\n",
       "\t 170 & 180 & 2  \\\\\n",
       "\t 190 & 200 & 2  \\\\\n",
       "\t 210 & 220 & 3  \\\\\n",
       "\t 230 & 240 & 3  \\\\\n",
       "\t 250 & 260 & 3  \\\\\n",
       "\t 270 & 280 & 3  \\\\\n",
       "\t 290 & 300 & 3  \\\\\n",
       "\t 310 & 320 & 4  \\\\\n",
       "\t 330 & 340 & 4  \\\\\n",
       "\t 350 & 360 & 4  \\\\\n",
       "\t 370 & 380 & 4  \\\\\n",
       "\t 390 & 400 & 4  \\\\\n",
       "\\end{tabular}\n"
      ],
      "text/markdown": [
       "1. 10\n",
       "2. 30\n",
       "3. 50\n",
       "4. 70\n",
       "5. 90\n",
       "6. 110\n",
       "7. 130\n",
       "8. 150\n",
       "9. 170\n",
       "10. 190\n",
       "11. 210\n",
       "12. 230\n",
       "13. 250\n",
       "14. 270\n",
       "15. 290\n",
       "16. 310\n",
       "17. 330\n",
       "18. 350\n",
       "19. 370\n",
       "20. 390\n",
       "21. 20\n",
       "22. 40\n",
       "23. 60\n",
       "24. 80\n",
       "25. 100\n",
       "26. 120\n",
       "27. 140\n",
       "28. 160\n",
       "29. 180\n",
       "30. 200\n",
       "31. 220\n",
       "32. 240\n",
       "33. 260\n",
       "34. 280\n",
       "35. 300\n",
       "36. 320\n",
       "37. 340\n",
       "38. 360\n",
       "39. 380\n",
       "40. 400\n",
       "41. 1\n",
       "42. 1\n",
       "43. 1\n",
       "44. 1\n",
       "45. 1\n",
       "46. 2\n",
       "47. 2\n",
       "48. 2\n",
       "49. 2\n",
       "50. 2\n",
       "51. 3\n",
       "52. 3\n",
       "53. 3\n",
       "54. 3\n",
       "55. 3\n",
       "56. 4\n",
       "57. 4\n",
       "58. 4\n",
       "59. 4\n",
       "60. 4\n",
       "\n",
       "\n"
      ],
      "text/plain": [
       "              y\n",
       " [1,]  10  20 1\n",
       " [2,]  30  40 1\n",
       " [3,]  50  60 1\n",
       " [4,]  70  80 1\n",
       " [5,]  90 100 1\n",
       " [6,] 110 120 2\n",
       " [7,] 130 140 2\n",
       " [8,] 150 160 2\n",
       " [9,] 170 180 2\n",
       "[10,] 190 200 2\n",
       "[11,] 210 220 3\n",
       "[12,] 230 240 3\n",
       "[13,] 250 260 3\n",
       "[14,] 270 280 3\n",
       "[15,] 290 300 3\n",
       "[16,] 310 320 4\n",
       "[17,] 330 340 4\n",
       "[18,] 350 360 4\n",
       "[19,] 370 380 4\n",
       "[20,] 390 400 4"
      ]
     },
     "metadata": {},
     "output_type": "display_data"
    }
   ],
   "source": [
    "(df <- cbind(X, y))"
   ]
  },
  {
   "cell_type": "code",
   "execution_count": 8,
   "metadata": {
    "collapsed": false,
    "school_cell_uuid": "1939b119558f4f428857ef11e5b38561"
   },
   "outputs": [
    {
     "data": {
      "text/html": [
       "<dl>\n",
       "\t<dt>$Fold1</dt>\n",
       "\t\t<dd><ol class=list-inline>\n",
       "\t<li>2</li>\n",
       "\t<li>7</li>\n",
       "\t<li>10</li>\n",
       "\t<li>15</li>\n",
       "\t<li>17</li>\n",
       "\t<li>18</li>\n",
       "</ol>\n",
       "</dd>\n",
       "\t<dt>$Fold2</dt>\n",
       "\t\t<dd><ol class=list-inline>\n",
       "\t<li>4</li>\n",
       "\t<li>5</li>\n",
       "\t<li>6</li>\n",
       "\t<li>9</li>\n",
       "\t<li>12</li>\n",
       "\t<li>14</li>\n",
       "\t<li>16</li>\n",
       "\t<li>20</li>\n",
       "</ol>\n",
       "</dd>\n",
       "\t<dt>$Fold3</dt>\n",
       "\t\t<dd><ol class=list-inline>\n",
       "\t<li>1</li>\n",
       "\t<li>3</li>\n",
       "\t<li>8</li>\n",
       "\t<li>11</li>\n",
       "\t<li>13</li>\n",
       "\t<li>19</li>\n",
       "</ol>\n",
       "</dd>\n",
       "</dl>\n"
      ],
      "text/latex": [
       "\\begin{description}\n",
       "\\item[\\$Fold1] \\begin{enumerate*}\n",
       "\\item 2\n",
       "\\item 7\n",
       "\\item 10\n",
       "\\item 15\n",
       "\\item 17\n",
       "\\item 18\n",
       "\\end{enumerate*}\n",
       "\n",
       "\\item[\\$Fold2] \\begin{enumerate*}\n",
       "\\item 4\n",
       "\\item 5\n",
       "\\item 6\n",
       "\\item 9\n",
       "\\item 12\n",
       "\\item 14\n",
       "\\item 16\n",
       "\\item 20\n",
       "\\end{enumerate*}\n",
       "\n",
       "\\item[\\$Fold3] \\begin{enumerate*}\n",
       "\\item 1\n",
       "\\item 3\n",
       "\\item 8\n",
       "\\item 11\n",
       "\\item 13\n",
       "\\item 19\n",
       "\\end{enumerate*}\n",
       "\n",
       "\\end{description}\n"
      ],
      "text/markdown": [
       "$Fold1\n",
       ":   1. 2\n",
       "2. 7\n",
       "3. 10\n",
       "4. 15\n",
       "5. 17\n",
       "6. 18\n",
       "\n",
       "\n",
       "\n",
       "$Fold2\n",
       ":   1. 4\n",
       "2. 5\n",
       "3. 6\n",
       "4. 9\n",
       "5. 12\n",
       "6. 14\n",
       "7. 16\n",
       "8. 20\n",
       "\n",
       "\n",
       "\n",
       "$Fold3\n",
       ":   1. 1\n",
       "2. 3\n",
       "3. 8\n",
       "4. 11\n",
       "5. 13\n",
       "6. 19\n",
       "\n",
       "\n",
       "\n",
       "\n",
       "\n"
      ],
      "text/plain": [
       "$Fold1\n",
       "[1]  2  7 10 15 17 18\n",
       "\n",
       "$Fold2\n",
       "[1]  4  5  6  9 12 14 16 20\n",
       "\n",
       "$Fold3\n",
       "[1]  1  3  8 11 13 19\n"
      ]
     },
     "metadata": {},
     "output_type": "display_data"
    }
   ],
   "source": [
    "(idx <- createFolds(y, k=3))"
   ]
  },
  {
   "cell_type": "code",
   "execution_count": 9,
   "metadata": {
    "collapsed": false,
    "school_cell_uuid": "297886bb387749a7a320a4bcbc906984"
   },
   "outputs": [
    {
     "data": {
      "text/html": [
       "<table>\n",
       "<thead><tr><th scope=col>X.idx..1...</th><th scope=col>y.idx..1...</th></tr></thead>\n",
       "<tbody>\n",
       "\t<tr><td> 30</td><td>1  </td></tr>\n",
       "\t<tr><td>130</td><td>2  </td></tr>\n",
       "\t<tr><td>190</td><td>2  </td></tr>\n",
       "\t<tr><td>290</td><td>3  </td></tr>\n",
       "\t<tr><td>330</td><td>4  </td></tr>\n",
       "\t<tr><td>350</td><td>4  </td></tr>\n",
       "</tbody>\n",
       "</table>\n"
      ],
      "text/latex": [
       "\\begin{tabular}{r|ll}\n",
       " X.idx..1... & y.idx..1...\\\\\n",
       "\\hline\n",
       "\t  30 & 1  \\\\\n",
       "\t 130 & 2  \\\\\n",
       "\t 190 & 2  \\\\\n",
       "\t 290 & 3  \\\\\n",
       "\t 330 & 4  \\\\\n",
       "\t 350 & 4  \\\\\n",
       "\\end{tabular}\n"
      ],
      "text/plain": [
       "  X.idx..1... y.idx..1...\n",
       "1  30         1          \n",
       "2 130         2          \n",
       "3 190         2          \n",
       "4 290         3          \n",
       "5 330         4          \n",
       "6 350         4          "
      ]
     },
     "metadata": {},
     "output_type": "display_data"
    }
   ],
   "source": [
    "data.frame(X[idx[[1]]], y[idx[[1]]])"
   ]
  },
  {
   "cell_type": "code",
   "execution_count": 10,
   "metadata": {
    "collapsed": false,
    "school_cell_uuid": "35dc6f2e21504d39b7387108c0b0338b"
   },
   "outputs": [
    {
     "data": {
      "text/html": [
       "<table>\n",
       "<thead><tr><th scope=col>X.idx..2...</th><th scope=col>y.idx..2...</th></tr></thead>\n",
       "<tbody>\n",
       "\t<tr><td> 70</td><td>1  </td></tr>\n",
       "\t<tr><td> 90</td><td>1  </td></tr>\n",
       "\t<tr><td>110</td><td>2  </td></tr>\n",
       "\t<tr><td>170</td><td>2  </td></tr>\n",
       "\t<tr><td>230</td><td>3  </td></tr>\n",
       "\t<tr><td>270</td><td>3  </td></tr>\n",
       "\t<tr><td>310</td><td>4  </td></tr>\n",
       "\t<tr><td>390</td><td>4  </td></tr>\n",
       "</tbody>\n",
       "</table>\n"
      ],
      "text/latex": [
       "\\begin{tabular}{r|ll}\n",
       " X.idx..2... & y.idx..2...\\\\\n",
       "\\hline\n",
       "\t  70 & 1  \\\\\n",
       "\t  90 & 1  \\\\\n",
       "\t 110 & 2  \\\\\n",
       "\t 170 & 2  \\\\\n",
       "\t 230 & 3  \\\\\n",
       "\t 270 & 3  \\\\\n",
       "\t 310 & 4  \\\\\n",
       "\t 390 & 4  \\\\\n",
       "\\end{tabular}\n"
      ],
      "text/plain": [
       "  X.idx..2... y.idx..2...\n",
       "1  70         1          \n",
       "2  90         1          \n",
       "3 110         2          \n",
       "4 170         2          \n",
       "5 230         3          \n",
       "6 270         3          \n",
       "7 310         4          \n",
       "8 390         4          "
      ]
     },
     "metadata": {},
     "output_type": "display_data"
    }
   ],
   "source": [
    "data.frame(X[idx[[2]]], y[idx[[2]]])"
   ]
  },
  {
   "cell_type": "code",
   "execution_count": 11,
   "metadata": {
    "collapsed": false,
    "school_cell_uuid": "bfeb3c502bff478b952b3ede250feb5a"
   },
   "outputs": [
    {
     "data": {
      "text/html": [
       "<table>\n",
       "<thead><tr><th scope=col>X.idx..3...</th><th scope=col>y.idx..3...</th></tr></thead>\n",
       "<tbody>\n",
       "\t<tr><td> 10</td><td>1  </td></tr>\n",
       "\t<tr><td> 50</td><td>1  </td></tr>\n",
       "\t<tr><td>150</td><td>2  </td></tr>\n",
       "\t<tr><td>210</td><td>3  </td></tr>\n",
       "\t<tr><td>250</td><td>3  </td></tr>\n",
       "\t<tr><td>370</td><td>4  </td></tr>\n",
       "</tbody>\n",
       "</table>\n"
      ],
      "text/latex": [
       "\\begin{tabular}{r|ll}\n",
       " X.idx..3... & y.idx..3...\\\\\n",
       "\\hline\n",
       "\t  10 & 1  \\\\\n",
       "\t  50 & 1  \\\\\n",
       "\t 150 & 2  \\\\\n",
       "\t 210 & 3  \\\\\n",
       "\t 250 & 3  \\\\\n",
       "\t 370 & 4  \\\\\n",
       "\\end{tabular}\n"
      ],
      "text/plain": [
       "  X.idx..3... y.idx..3...\n",
       "1  10         1          \n",
       "2  50         1          \n",
       "3 150         2          \n",
       "4 210         3          \n",
       "5 250         3          \n",
       "6 370         4          "
      ]
     },
     "metadata": {},
     "output_type": "display_data"
    }
   ],
   "source": [
    "data.frame(X[idx[[3]]], y[idx[[3]]])"
   ]
  },
  {
   "cell_type": "markdown",
   "metadata": {
    "school_cell_uuid": "a7f299b590f64ab6a6ebb210030e6172"
   },
   "source": [
    "### 중복된 데이터를 허용"
   ]
  },
  {
   "cell_type": "code",
   "execution_count": 12,
   "metadata": {
    "collapsed": false,
    "school_cell_uuid": "7643b1bcf3b749c2b8103ae803bdf9cc"
   },
   "outputs": [
    {
     "data": {
      "text/html": [
       "<dl>\n",
       "\t<dt>$Resample1</dt>\n",
       "\t\t<dd><ol class=list-inline>\n",
       "\t<li>1</li>\n",
       "\t<li>3</li>\n",
       "\t<li>4</li>\n",
       "\t<li>7</li>\n",
       "\t<li>9</li>\n",
       "\t<li>10</li>\n",
       "\t<li>10</li>\n",
       "\t<li>10</li>\n",
       "\t<li>11</li>\n",
       "\t<li>12</li>\n",
       "\t<li>12</li>\n",
       "\t<li>13</li>\n",
       "\t<li>14</li>\n",
       "\t<li>15</li>\n",
       "\t<li>15</li>\n",
       "\t<li>16</li>\n",
       "\t<li>16</li>\n",
       "\t<li>16</li>\n",
       "\t<li>17</li>\n",
       "\t<li>17</li>\n",
       "</ol>\n",
       "</dd>\n",
       "\t<dt>$Resample2</dt>\n",
       "\t\t<dd><ol class=list-inline>\n",
       "\t<li>2</li>\n",
       "\t<li>2</li>\n",
       "\t<li>2</li>\n",
       "\t<li>5</li>\n",
       "\t<li>6</li>\n",
       "\t<li>6</li>\n",
       "\t<li>7</li>\n",
       "\t<li>7</li>\n",
       "\t<li>9</li>\n",
       "\t<li>9</li>\n",
       "\t<li>10</li>\n",
       "\t<li>10</li>\n",
       "\t<li>10</li>\n",
       "\t<li>11</li>\n",
       "\t<li>14</li>\n",
       "\t<li>14</li>\n",
       "\t<li>14</li>\n",
       "\t<li>16</li>\n",
       "\t<li>18</li>\n",
       "\t<li>19</li>\n",
       "</ol>\n",
       "</dd>\n",
       "\t<dt>$Resample3</dt>\n",
       "\t\t<dd><ol class=list-inline>\n",
       "\t<li>3</li>\n",
       "\t<li>5</li>\n",
       "\t<li>5</li>\n",
       "\t<li>7</li>\n",
       "\t<li>7</li>\n",
       "\t<li>7</li>\n",
       "\t<li>7</li>\n",
       "\t<li>8</li>\n",
       "\t<li>8</li>\n",
       "\t<li>9</li>\n",
       "\t<li>10</li>\n",
       "\t<li>15</li>\n",
       "\t<li>15</li>\n",
       "\t<li>16</li>\n",
       "\t<li>16</li>\n",
       "\t<li>17</li>\n",
       "\t<li>18</li>\n",
       "\t<li>18</li>\n",
       "\t<li>18</li>\n",
       "\t<li>20</li>\n",
       "</ol>\n",
       "</dd>\n",
       "</dl>\n"
      ],
      "text/latex": [
       "\\begin{description}\n",
       "\\item[\\$Resample1] \\begin{enumerate*}\n",
       "\\item 1\n",
       "\\item 3\n",
       "\\item 4\n",
       "\\item 7\n",
       "\\item 9\n",
       "\\item 10\n",
       "\\item 10\n",
       "\\item 10\n",
       "\\item 11\n",
       "\\item 12\n",
       "\\item 12\n",
       "\\item 13\n",
       "\\item 14\n",
       "\\item 15\n",
       "\\item 15\n",
       "\\item 16\n",
       "\\item 16\n",
       "\\item 16\n",
       "\\item 17\n",
       "\\item 17\n",
       "\\end{enumerate*}\n",
       "\n",
       "\\item[\\$Resample2] \\begin{enumerate*}\n",
       "\\item 2\n",
       "\\item 2\n",
       "\\item 2\n",
       "\\item 5\n",
       "\\item 6\n",
       "\\item 6\n",
       "\\item 7\n",
       "\\item 7\n",
       "\\item 9\n",
       "\\item 9\n",
       "\\item 10\n",
       "\\item 10\n",
       "\\item 10\n",
       "\\item 11\n",
       "\\item 14\n",
       "\\item 14\n",
       "\\item 14\n",
       "\\item 16\n",
       "\\item 18\n",
       "\\item 19\n",
       "\\end{enumerate*}\n",
       "\n",
       "\\item[\\$Resample3] \\begin{enumerate*}\n",
       "\\item 3\n",
       "\\item 5\n",
       "\\item 5\n",
       "\\item 7\n",
       "\\item 7\n",
       "\\item 7\n",
       "\\item 7\n",
       "\\item 8\n",
       "\\item 8\n",
       "\\item 9\n",
       "\\item 10\n",
       "\\item 15\n",
       "\\item 15\n",
       "\\item 16\n",
       "\\item 16\n",
       "\\item 17\n",
       "\\item 18\n",
       "\\item 18\n",
       "\\item 18\n",
       "\\item 20\n",
       "\\end{enumerate*}\n",
       "\n",
       "\\end{description}\n"
      ],
      "text/markdown": [
       "$Resample1\n",
       ":   1. 1\n",
       "2. 3\n",
       "3. 4\n",
       "4. 7\n",
       "5. 9\n",
       "6. 10\n",
       "7. 10\n",
       "8. 10\n",
       "9. 11\n",
       "10. 12\n",
       "11. 12\n",
       "12. 13\n",
       "13. 14\n",
       "14. 15\n",
       "15. 15\n",
       "16. 16\n",
       "17. 16\n",
       "18. 16\n",
       "19. 17\n",
       "20. 17\n",
       "\n",
       "\n",
       "\n",
       "$Resample2\n",
       ":   1. 2\n",
       "2. 2\n",
       "3. 2\n",
       "4. 5\n",
       "5. 6\n",
       "6. 6\n",
       "7. 7\n",
       "8. 7\n",
       "9. 9\n",
       "10. 9\n",
       "11. 10\n",
       "12. 10\n",
       "13. 10\n",
       "14. 11\n",
       "15. 14\n",
       "16. 14\n",
       "17. 14\n",
       "18. 16\n",
       "19. 18\n",
       "20. 19\n",
       "\n",
       "\n",
       "\n",
       "$Resample3\n",
       ":   1. 3\n",
       "2. 5\n",
       "3. 5\n",
       "4. 7\n",
       "5. 7\n",
       "6. 7\n",
       "7. 7\n",
       "8. 8\n",
       "9. 8\n",
       "10. 9\n",
       "11. 10\n",
       "12. 15\n",
       "13. 15\n",
       "14. 16\n",
       "15. 16\n",
       "16. 17\n",
       "17. 18\n",
       "18. 18\n",
       "19. 18\n",
       "20. 20\n",
       "\n",
       "\n",
       "\n",
       "\n",
       "\n"
      ],
      "text/plain": [
       "$Resample1\n",
       " [1]  1  3  4  7  9 10 10 10 11 12 12 13 14 15 15 16 16 16 17 17\n",
       "\n",
       "$Resample2\n",
       " [1]  2  2  2  5  6  6  7  7  9  9 10 10 10 11 14 14 14 16 18 19\n",
       "\n",
       "$Resample3\n",
       " [1]  3  5  5  7  7  7  7  8  8  9 10 15 15 16 16 17 18 18 18 20\n"
      ]
     },
     "metadata": {},
     "output_type": "display_data"
    }
   ],
   "source": [
    "(idx <- createResample(y, times=3))"
   ]
  },
  {
   "cell_type": "markdown",
   "metadata": {
    "school_cell_uuid": "d10a4738afee4d7d9ce96791870804d6"
   },
   "source": [
    "## 교차 검증의 예"
   ]
  },
  {
   "cell_type": "code",
   "execution_count": 13,
   "metadata": {
    "collapsed": false,
    "school_cell_uuid": "4651559105654c37b24a6dd956c6aa4a"
   },
   "outputs": [
    {
     "data": {
      "image/png": "[encoded data removed]",
      "text/plain": [
       "Plot with title “Sample Data for Regression”"
      ]
     },
     "metadata": {},
     "output_type": "display_data"
    }
   ],
   "source": [
    "bias <- 100\n",
    "w <- 80\n",
    "set.seed(0)\n",
    "x <- rnorm(100)\n",
    "y <- w * x + bias + rnorm(100, sd=50)\n",
    "df <- data.frame(x, y)\n",
    "plot(x, y, main=\"Sample Data for Regression\")"
   ]
  },
  {
   "cell_type": "markdown",
   "metadata": {
    "school_cell_uuid": "4af1b049261643c5886a2627479dd093"
   },
   "source": [
    "위 데이터를 단순히 모두 사용하여 선형 회귀 모형을 구하고 $R^2$ 성능을 구하면 0.7197이다."
   ]
  },
  {
   "cell_type": "code",
   "execution_count": 14,
   "metadata": {
    "collapsed": false,
    "school_cell_uuid": "05e457cabf49474cacb75626d817cb0d"
   },
   "outputs": [
    {
     "data": {
      "text/html": [
       "0.719746585049418"
      ],
      "text/latex": [
       "0.719746585049418"
      ],
      "text/markdown": [
       "0.719746585049418"
      ],
      "text/plain": [
       "[1] 0.7197466"
      ]
     },
     "metadata": {},
     "output_type": "display_data"
    }
   ],
   "source": [
    "model <- lm(y ~ ., data=df)\n",
    "(r2 <- summary(model)$r.squared)"
   ]
  },
  {
   "cell_type": "markdown",
   "metadata": {
    "school_cell_uuid": "6a1be15efdda48fab8983ecb845436c2"
   },
   "source": [
    "하지만 이 데이터를 10개의 fold로 나누어 교차 검증을 하면 $R^2$ 성능은 다음과 같은 통계적 특성을 가진다. 즉, 평균 성능은 66, 성능 오차(분산)는 0.176이다."
   ]
  },
  {
   "cell_type": "code",
   "execution_count": 15,
   "metadata": {
    "collapsed": false,
    "school_cell_uuid": "9656e7c369484f028840a4fc01c0277f"
   },
   "outputs": [],
   "source": [
    "folds <- createFolds(y, k=10)\n",
    "R2s <- sapply(folds, function (idx) {\n",
    "  df.train.i <- df[-idx, ]\n",
    "  df.test.i <- df[idx, ]\n",
    "  model.i <- lm(y ~ ., data=df.train.i)\n",
    "  y.i <- df.test.i$y\n",
    "  y.hat.i <- predict(model.i, newdata=df.test.i)\n",
    "  TSS.i <- sum((y.i - mean(y.i))^2)\n",
    "  RSS.i <- sum((y.hat.i - y.i)^2)\n",
    "  R2.i <- 1 - RSS.i/TSS.i\n",
    "  return(R2.i)\n",
    "})"
   ]
  },
  {
   "cell_type": "code",
   "execution_count": 16,
   "metadata": {
    "collapsed": false,
    "school_cell_uuid": "50409f1713a749a5a0741bda26f0ee65",
    "scrolled": false
   },
   "outputs": [
    {
     "data": {
      "text/html": [
       "<dl class=dl-horizontal>\n",
       "\t<dt>Fold01</dt>\n",
       "\t\t<dd>0.806780812288875</dd>\n",
       "\t<dt>Fold02</dt>\n",
       "\t\t<dd>0.679516935636327</dd>\n",
       "\t<dt>Fold03</dt>\n",
       "\t\t<dd>0.873476267102015</dd>\n",
       "\t<dt>Fold04</dt>\n",
       "\t\t<dd>0.648479807718891</dd>\n",
       "\t<dt>Fold05</dt>\n",
       "\t\t<dd>0.706595440591066</dd>\n",
       "\t<dt>Fold06</dt>\n",
       "\t\t<dd>0.817785239446277</dd>\n",
       "\t<dt>Fold07</dt>\n",
       "\t\t<dd>0.548803605705851</dd>\n",
       "\t<dt>Fold08</dt>\n",
       "\t\t<dd>0.477173221374083</dd>\n",
       "\t<dt>Fold09</dt>\n",
       "\t\t<dd>0.800319277905376</dd>\n",
       "\t<dt>Fold10</dt>\n",
       "\t\t<dd>0.499097002760897</dd>\n",
       "</dl>\n"
      ],
      "text/latex": [
       "\\begin{description*}\n",
       "\\item[Fold01] 0.806780812288875\n",
       "\\item[Fold02] 0.679516935636327\n",
       "\\item[Fold03] 0.873476267102015\n",
       "\\item[Fold04] 0.648479807718891\n",
       "\\item[Fold05] 0.706595440591066\n",
       "\\item[Fold06] 0.817785239446277\n",
       "\\item[Fold07] 0.548803605705851\n",
       "\\item[Fold08] 0.477173221374083\n",
       "\\item[Fold09] 0.800319277905376\n",
       "\\item[Fold10] 0.499097002760897\n",
       "\\end{description*}\n"
      ],
      "text/markdown": [
       "Fold01\n",
       ":   0.806780812288875Fold02\n",
       ":   0.679516935636327Fold03\n",
       ":   0.873476267102015Fold04\n",
       ":   0.648479807718891Fold05\n",
       ":   0.706595440591066Fold06\n",
       ":   0.817785239446277Fold07\n",
       ":   0.548803605705851Fold08\n",
       ":   0.477173221374083Fold09\n",
       ":   0.800319277905376Fold10\n",
       ":   0.499097002760897\n",
       "\n"
      ],
      "text/plain": [
       "   Fold01    Fold02    Fold03    Fold04    Fold05    Fold06    Fold07    Fold08 \n",
       "0.8067808 0.6795169 0.8734763 0.6484798 0.7065954 0.8177852 0.5488036 0.4771732 \n",
       "   Fold09    Fold10 \n",
       "0.8003193 0.4990970 "
      ]
     },
     "metadata": {},
     "output_type": "display_data"
    }
   ],
   "source": [
    "R2s"
   ]
  },
  {
   "cell_type": "code",
   "execution_count": 17,
   "metadata": {
    "collapsed": false,
    "school_cell_uuid": "9d4f8fb0931e489d8857e3fbe139b048"
   },
   "outputs": [
    {
     "data": {
      "image/png": "[encoded data removed]",
      "text/plain": [
       "Plot with title “density.default(x = R2s)”"
      ]
     },
     "metadata": {},
     "output_type": "display_data"
    }
   ],
   "source": [
    "plot(density(R2s))"
   ]
  },
  {
   "cell_type": "code",
   "execution_count": 18,
   "metadata": {
    "collapsed": false,
    "school_cell_uuid": "086da78daecf4b35bd3336ce1e129186"
   },
   "outputs": [
    {
     "data": {
      "text/html": [
       "0.685802761052966"
      ],
      "text/latex": [
       "0.685802761052966"
      ],
      "text/markdown": [
       "0.685802761052966"
      ],
      "text/plain": [
       "[1] 0.6858028"
      ]
     },
     "metadata": {},
     "output_type": "display_data"
    },
    {
     "data": {
      "text/html": [
       "0.141189149933072"
      ],
      "text/latex": [
       "0.141189149933072"
      ],
      "text/markdown": [
       "0.141189149933072"
      ],
      "text/plain": [
       "[1] 0.1411891"
      ]
     },
     "metadata": {},
     "output_type": "display_data"
    }
   ],
   "source": [
    "(mean(R2s))\n",
    "(sd(R2s))"
   ]
  }
 ],
 "metadata": {
  "kernelspec": {
   "display_name": "R",
   "language": "R",
   "name": "ir33"
  },
  "language_info": {
   "codemirror_mode": "r",
   "file_extension": ".r",
   "mimetype": "text/x-r-source",
   "name": "R",
   "pygments_lexer": "r",
   "version": "3.3.1"
  }
 },
 "nbformat": 4,
 "nbformat_minor": 0
}