{
 "cells": [
  {
   "cell_type": "code",
   "execution_count": 2,
   "metadata": {},
   "outputs": [
    {
     "name": "stdout",
     "output_type": "stream",
     "text": [
      "None\n"
     ]
    }
   ],
   "source": [
    "def solution(participant, completion):\n",
    "    for i in completion:\n",
    "        answer = participant.remove(i)\n",
    "    return answer\n",
    "\n",
    "a = [\"leo\", \"kiki\", \"eden\"]\n",
    "b = [\"eden\", \"kiki\"]\n",
    "\n",
    "solution(a, b)\n",
    "print(answer)"
   ]
  },
  {
   "cell_type": "code",
   "execution_count": 31,
   "metadata": {},
   "outputs": [
    {
     "name": "stdout",
     "output_type": "stream",
     "text": [
      "None\n"
     ]
    }
   ],
   "source": [
    "a = [\"leo\", \"kiki\", \"eden\"]\n",
    "b = [\"eden\", \"kiki\"]\n",
    "for i in range(len(b)):\n",
    "    answer = a.remove(b[i])\n",
    "print(answer)"
   ]
  },
  {
   "cell_type": "code",
   "execution_count": 33,
   "metadata": {},
   "outputs": [
    {
     "name": "stdout",
     "output_type": "stream",
     "text": [
      "None\n"
     ]
    }
   ],
   "source": [
    "a = [\"leo\", \"kiki\", \"eden\"]\n",
    "b = [\"eden\", \"kiki\"]\n",
    "for i in range(len(b)):\n",
    "    answer = a.remove(b[i])\n",
    "print(answer)"
   ]
  },
  {
   "cell_type": "code",
   "execution_count": 1,
   "metadata": {},
   "outputs": [
    {
     "name": "stdout",
     "output_type": "stream",
     "text": [
      "None\n"
     ]
    }
   ],
   "source": [
    "a = [\"leo\", \"kiki\", \"eden\"]\n",
    "answer = a.remove(\"leo\")\n",
    "print(answer)"
   ]
  },
  {
   "cell_type": "code",
   "execution_count": 2,
   "metadata": {},
   "outputs": [
    {
     "ename": "ValueError",
     "evalue": "3 is not in list",
     "output_type": "error",
     "traceback": [
      "\u001b[1;31m---------------------------------------------------------------------------\u001b[0m",
      "\u001b[1;31mValueError\u001b[0m                                Traceback (most recent call last)",
      "\u001b[1;32m<ipython-input-2-a1aae5e4a555>\u001b[0m in \u001b[0;36m<module>\u001b[1;34m\u001b[0m\n\u001b[0;32m      1\u001b[0m \u001b[0ma\u001b[0m \u001b[1;33m=\u001b[0m \u001b[1;33m[\u001b[0m\u001b[1;34m\"leo\"\u001b[0m\u001b[1;33m,\u001b[0m \u001b[1;34m\"kiki\"\u001b[0m\u001b[1;33m,\u001b[0m \u001b[1;34m\"eden\"\u001b[0m\u001b[1;33m]\u001b[0m\u001b[1;33m\u001b[0m\u001b[1;33m\u001b[0m\u001b[0m\n\u001b[0;32m      2\u001b[0m \u001b[0mb\u001b[0m \u001b[1;33m=\u001b[0m \u001b[1;33m[\u001b[0m\u001b[1;34m\"eden\"\u001b[0m\u001b[1;33m,\u001b[0m \u001b[1;34m\"kiki\"\u001b[0m\u001b[1;33m]\u001b[0m\u001b[1;33m\u001b[0m\u001b[1;33m\u001b[0m\u001b[0m\n\u001b[1;32m----> 3\u001b[1;33m \u001b[1;32mdel\u001b[0m \u001b[0ma\u001b[0m\u001b[1;33m[\u001b[0m\u001b[0ma\u001b[0m\u001b[1;33m.\u001b[0m\u001b[0mindex\u001b[0m\u001b[1;33m(\u001b[0m\u001b[1;36m3\u001b[0m\u001b[1;33m)\u001b[0m\u001b[1;33m]\u001b[0m\u001b[1;33m\u001b[0m\u001b[1;33m\u001b[0m\u001b[0m\n\u001b[0m",
      "\u001b[1;31mValueError\u001b[0m: 3 is not in list"
     ]
    }
   ],
   "source": [
    "a = [\"leo\", \"kiki\", \"eden\"]\n",
    "b = [\"eden\", \"kiki\"]\n",
    "del a[a.index(3)]"
   ]
  },
  {
   "cell_type": "code",
   "execution_count": 46,
   "metadata": {},
   "outputs": [
    {
     "name": "stdout",
     "output_type": "stream",
     "text": [
      "False\n"
     ]
    }
   ],
   "source": [
    "import re\n",
    "\n",
    "def solution(phone_book):\n",
    "    l = len(phone_book)\n",
    "    for i in range(0,l):\n",
    "        c = re.compile(phone_book[i])\n",
    "        for j in range(i+1, l):\n",
    "            if c.match(phone_book[j]):\n",
    "                answer = False\n",
    "    return answer\n",
    "\n",
    "phone_book = [\"119\", \"97674223\", \"1195524421\"]\n",
    "print(solution(phone_book))"
   ]
  },
  {
   "cell_type": "code",
   "execution_count": 47,
   "metadata": {},
   "outputs": [
    {
     "name": "stdout",
     "output_type": "stream",
     "text": [
      "1번 학생 축하합니다. 합격입니다.\n",
      "3번 학생 축하합니다. 합격입니다.\n",
      "5번 학생 축하합니다. 합격입니다.\n"
     ]
    }
   ],
   "source": [
    "marks = [90, 25, 67, 45, 80]\n",
    "for number in range(len(marks)):\n",
    "    if marks[number] < 60: continue\n",
    "    print(\"%d번 학생 축하합니다. 합격입니다.\" % (number+1))"
   ]
  },
  {
   "cell_type": "code",
   "execution_count": 51,
   "metadata": {},
   "outputs": [
    {
     "name": "stdout",
     "output_type": "stream",
     "text": [
      "True\n"
     ]
    }
   ],
   "source": [
    "def solution(phone_book):\n",
    "    l = len(phone_book)\n",
    "    for i in range(0,l):\n",
    "        for j in range(i+1, l):\n",
    "            if phone_book[i] in phone_book[j]:\n",
    "                answer = False\n",
    "            else:\n",
    "                answer = True\n",
    "    return answer\n",
    "\n",
    "phone_book = [\"119\", \"97674223\", \"1195524421\"]\n",
    "print(solution(phone_book))"
   ]
  },
  {
   "cell_type": "code",
   "execution_count": 52,
   "metadata": {},
   "outputs": [],
   "source": [
    "def solution(phone_book):\n",
    "    answer = True\n",
    "    l = len(phone_book)\n",
    "    for i in range(0,l):\n",
    "        if phone_book[i] in phone_book:\n",
    "            answer = False\n",
    "        else:\n",
    "            \n",
    "    return answer"
   ]
  },
  {
   "cell_type": "code",
   "execution_count": 53,
   "metadata": {},
   "outputs": [],
   "source": [
    "def solution(phone_book):\n",
    "    phone_book = sorted(phone_book, key=lambda x: len(x))\n",
    "    answer = True\n",
    "    for i, phone1 in enumerate(phone_book):\n",
    "        hash_map = {}\n",
    "        for phone2 in phone_book[i+1:]:\n",
    "            hash_map[phone2[:len(phone1)]] = phone2\n",
    "        if phone1 in hash_map:\n",
    "            answer = False\n",
    "            break\n",
    "    return answer"
   ]
  },
  {
   "cell_type": "code",
   "execution_count": 75,
   "metadata": {},
   "outputs": [
    {
     "name": "stdout",
     "output_type": "stream",
     "text": [
      "True\n"
     ]
    }
   ],
   "source": [
    "def solution(phone_book):\n",
    "    answer = True\n",
    "    l = len(phone_book)\n",
    "    for i in range(0,l-1):\n",
    "        a = phone_book[i]\n",
    "        if a in phone_book[i+1:]:\n",
    "            answer = False\n",
    "            break\n",
    "    return answer\n",
    "\n",
    "phone_book = [\"119\", \"97674223\", \"1195524421\"]\n",
    "print(solution(phone_book))"
   ]
  },
  {
   "cell_type": "code",
   "execution_count": 77,
   "metadata": {},
   "outputs": [],
   "source": [
    "def solution(phone_book):\n",
    "    phone_book = sorted(phone_book, key=lambda x: len(x))\n",
    "    answer = True\n",
    "    for i in range(len(phone_book)):\n",
    "        if phone_book[i] in phone_book[i+1:]:\n",
    "            answer = False\n",
    "            break\n",
    "    return answer\n"
   ]
  },
  {
   "cell_type": "code",
   "execution_count": 1,
   "metadata": {},
   "outputs": [],
   "source": [
    "import re\n",
    "def solution(phone_book):\n",
    "    phone_book = sorted(phone_book)    \n",
    "    for i in range(len(phone_book)):\n",
    "        a = re.compile(\"^\"+str(phone_book[i]))\n",
    "        for b in phone_book[i+1:]:\n",
    "            if a.match(b):\n",
    "                return False\n",
    "    return True\n",
    "\n"
   ]
  },
  {
   "cell_type": "code",
   "execution_count": 39,
   "metadata": {},
   "outputs": [
    {
     "ename": "SyntaxError",
     "evalue": "invalid syntax (<ipython-input-39-5f5765a5bcd4>, line 9)",
     "output_type": "error",
     "traceback": [
      "\u001b[1;36m  File \u001b[1;32m\"<ipython-input-39-5f5765a5bcd4>\"\u001b[1;36m, line \u001b[1;32m9\u001b[0m\n\u001b[1;33m    if\u001b[0m\n\u001b[1;37m       ^\u001b[0m\n\u001b[1;31mSyntaxError\u001b[0m\u001b[1;31m:\u001b[0m invalid syntax\n"
     ]
    }
   ],
   "source": [
    "def solution(clothes):\n",
    "    answer = 0\n",
    "    hash_map = {}\n",
    "    for x, y in clothes:\n",
    "        hash_map.update({x : y})\n",
    "    print(hash_map)\n",
    "    try :\n",
    "    for key in hash_map:\n",
    "        if \n",
    "    return answer\n",
    "\n",
    "clothes =[[\"yellow_hat\", \"headgear\"], [\"blue_sunglasses\", \"eyewear\"], [\"green_turban\", \"headgear\"]]\n",
    "\n",
    "print(solution(clothes))"
   ]
  },
  {
   "cell_type": "code",
   "execution_count": 46,
   "metadata": {},
   "outputs": [],
   "source": [
    "import collections\n",
    "\n",
    "\n",
    "def solution(participant, completion):\n",
    "    answer = collections.Counter(participant) - collections.Counter(completion)\n",
    "    return list(answer.keys())[0]"
   ]
  },
  {
   "cell_type": "code",
   "execution_count": 88,
   "metadata": {},
   "outputs": [
    {
     "name": "stdout",
     "output_type": "stream",
     "text": [
      "{'headgear': 3, 'eyewear': 2}\n",
      "5\n"
     ]
    }
   ],
   "source": [
    "def solution(clothes):\n",
    "    answer = 1\n",
    "    hash_map = {}\n",
    "    dict = {}\n",
    "    for x, y in clothes:\n",
    "        hash_map.update({x : y})\n",
    "    for key, value in hash_map.items():\n",
    "        if value not in dict:\n",
    "            dict[value] = 2\n",
    "        else:\n",
    "            dict[value] += 1\n",
    "    for value in dict:\n",
    "        answer *= dict.get(value)\n",
    "    print(dict)\n",
    "    return answer - 1\n",
    "\n",
    "clothes =[[\"yellow_hat\", \"headgear\"], [\"blue_sunglasses\", \"eyewear\"], [\"green_turban\", \"headgear\"]]\n",
    "\n",
    "print(solution(clothes))"
   ]
  },
  {
   "cell_type": "code",
   "execution_count": 91,
   "metadata": {},
   "outputs": [
    {
     "name": "stdout",
     "output_type": "stream",
     "text": [
      "Counter({'headgear': 2, 'eyewear': 1})\n",
      "3\n"
     ]
    }
   ],
   "source": [
    "def solution(clothes):\n",
    "    from collections import Counter\n",
    "    from functools import reduce\n",
    "    cnt = Counter([kind for name, kind in clothes])\n",
    "    answer = reduce(lambda x, y: x*(y+1), cnt.values(), 1) - 1\n",
    "    print(cnt)\n",
    "    return answer\n",
    "\n",
    "clothes =[[\"yellow_hat\", \"headgear\"], [\"blue_sunglasses\", \"eyewear\"], [\"green_turban\", \"headgear\"]]\n",
    "\n",
    "print(solution(clothes))"
   ]
  }
 ],
 "metadata": {
  "kernelspec": {
   "display_name": "Python 3",
   "language": "python",
   "name": "python3"
  },
  "language_info": {
   "codemirror_mode": {
    "name": "ipython",
    "version": 3
   },
   "file_extension": ".py",
   "mimetype": "text/x-python",
   "name": "python",
   "nbconvert_exporter": "python",
   "pygments_lexer": "ipython3",
   "version": "3.8.3"
  }
 },
 "nbformat": 4,
 "nbformat_minor": 4
}
