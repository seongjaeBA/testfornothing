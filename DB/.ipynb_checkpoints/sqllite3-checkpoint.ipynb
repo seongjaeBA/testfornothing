{
 "cells": [
  {
   "cell_type": "code",
   "execution_count": null,
   "id": "continuous-assembly",
   "metadata": {},
   "outputs": [],
   "source": [
    "import sqlite3\n",
    "\n",
    "# SQLite DB 연결\n",
    "conn = sqlite3.connect(\"test.db\")\n",
    "\n",
    "# Connection 으로부터 Cursor 생성\n",
    "cur = conn.cursor()\n",
    "\n",
    "# SQL 쿼리 실행\n",
    "sql = \"select * from customer where category=? and region=?\"\n",
    "cur.execute(sql, (1, 'SEA'))\n",
    "\n",
    "# sql = \"select * from customer where id = :Id\"\n",
    "# cur.execute(sql, {\"Id\": 1})\n",
    "\n",
    "\n",
    "# 데이타 Fetch\n",
    "rows = cur.fetchall()\n",
    "for row in rows:\n",
    "    print(row)\n",
    "\n",
    "# Connection 닫기\n",
    "conn.close()"
   ]
  },
  {
   "cell_type": "code",
   "execution_count": null,
   "id": "pacific-designer",
   "metadata": {},
   "outputs": [],
   "source": [
    "conn = sqlite3.connect(\"test.db\")\n",
    "# Autocommit 사용시:\n",
    "# conn = sqlite3.connect(\"test.db\", isolation_level=None)\n",
    " \n",
    "cur = conn.cursor()\n",
    "sql = \"insert into customer(name,category,region) values (?, ?, ?)\"\n",
    "cur.execute(sql, ('홍길동', 1, '서울'))\n",
    "conn.commit()\n",
    " \n",
    "conn.close()"
   ]
  },
  {
   "cell_type": "code",
   "execution_count": null,
   "id": "empty-bhutan",
   "metadata": {},
   "outputs": [],
   "source": [
    "conn = sqlite3.connect(\"test.db\")\n",
    "cur = conn.cursor()\n",
    " \n",
    "data = (\n",
    "    ('홍진우', 1, '서울'),\n",
    "    ('강지수', 2, '부산'),\n",
    "    ('김청진', 1, '서울'),\n",
    ")\n",
    "sql = \"insert into customer(name,category,region) values (?, ?, ?)\"\n",
    "cur.executemany(sql, data)\n",
    " \n",
    "conn.commit()\n",
    "conn.close()"
   ]
  },
  {
   "cell_type": "code",
   "execution_count": null,
   "id": "superior-tender",
   "metadata": {},
   "outputs": [],
   "source": [
    "conn = sqlite3.connect(\"test.db\")\n",
    " \n",
    "with conn:\n",
    "    cur = conn.cursor()\n",
    "    cur.execute(\"select * from customer\")\n",
    "    rows = cur.fetchall()\n",
    " \n",
    "    for row in rows:\n",
    "        print(row)"
   ]
  },
  {
   "cell_type": "code",
   "execution_count": null,
   "id": "happy-stroke",
   "metadata": {},
   "outputs": [],
   "source": [
    "# pymssql 패키지 import\n",
    "import pymssql\n",
    " \n",
    "# MSSQL 접속\n",
    "conn = pymssql.connect(host=r\"(local)\", database='MyDB', charset='utf8')\n",
    " \n",
    "# Connection 으로부터 Cursor 생성\n",
    "cursor = conn.cursor()\n",
    " \n",
    "# SQL문 실행\n",
    "cursor.execute('SELECT * FROM Customer;')\n",
    " \n",
    "# 데이타 하나씩 Fetch하여 출력\n",
    "row = cursor.fetchone()\n",
    "# row = cursor.fetchone()\n",
    "# row = cursor.fetchmany('n')\n",
    "while row:\n",
    "    print(row[0], row[1])\n",
    "    row = cursor.fetchone()\n",
    "\n",
    "#연결 끊기\n",
    "conn.close()    "
   ]
  },
  {
   "cell_type": "code",
   "execution_count": null,
   "id": "driven-likelihood",
   "metadata": {},
   "outputs": [],
   "source": [
    "import json\n",
    " \n",
    "# 테스트용 Python Dictionary\n",
    "customer = {\n",
    "    'id': 152352,\n",
    "    'name': '강진수',\n",
    "    'history': [\n",
    "        {'date': '2015-03-11', 'item': 'iPhone'},\n",
    "        {'date': '2016-02-23', 'item': 'Monitor'},\n",
    "    ]\n",
    "}\n",
    " \n",
    "# JSON 인코딩\n",
    "jsonString = json.dumps(customer)\n",
    " \n",
    "# 문자열 출력\n",
    "print(jsonString)"
   ]
  },
  {
   "cell_type": "code",
   "execution_count": null,
   "id": "grave-terror",
   "metadata": {},
   "outputs": [],
   "source": [
    "# 테스트용 JSON 문자열\n",
    "jsonString = '{\"name\": \"강진수\", \"id\": 152352, \"history\": [{\"date\": \"2015-03-11\", \"item\": \"iPhone\"}, {\"date\": \"2016-02-23\", \"item\": \"Monitor\"}]}'\n",
    " \n",
    "# JSON 디코딩\n",
    "dict = json.loads(jsonString)\n",
    " \n",
    "# Dictionary 데이타 체크\n",
    "print(dict['name'])\n",
    "for h in dict['history']:\n",
    "    print(h['date'], h['item'])"
   ]
  },
  {
   "cell_type": "code",
   "execution_count": null,
   "id": "lined-geology",
   "metadata": {},
   "outputs": [],
   "source": [
    "conn = sqlite3.connect(\"employee.db\") \n",
    "cur = conn.cursor() \n",
    "conn.execute('CREATE TABLE employee_data\n",
    "             (id INTEGER, name TEXT, nickname TEXT, \n",
    "              department TEXT, employment_date TEXT)') \n",
    "\n",
    "cur.executemany('INSERT INTO employee_data VALUES (?, ?, ?, ?, ?)', \n",
    "                [(1001, 'Donghyun', 'SOMJANG', 'Development', '2020-04-01 00:00:00.000'), \n",
    "                 (2001, 'Sol', 'Fairy', 'Marketing', '2020-04-01 00:00:00.000'), \n",
    "                 (2002, 'Jiyoung', 'Magician', 'Marketing', '2020-04-01 00:00:00.000'), \n",
    "                 (1002, 'Hyeona', 'Theif', 'Development', '2020-04-01 00:00:00.000'), \n",
    "                 (1003, 'Soyoung', 'Chief', 'Development', '2020-04-01 00:00:00.000') ] ) \n",
    "\n",
    "conn.commit() \n",
    "conn.close()"
   ]
  },
  {
   "cell_type": "code",
   "execution_count": null,
   "id": "initial-matthew",
   "metadata": {},
   "outputs": [],
   "source": [
    "conn = sqlite3.connect(\"employee.db\") \n",
    "cur = conn.cursor() \n",
    "cur.execute(\"SELECT * FROM employee_data\") \n",
    "rows = cur.fetchall() \n",
    "\n",
    "for row in rows: \n",
    "    print(row) \n",
    "\n",
    "conn.close()"
   ]
  },
  {
   "cell_type": "code",
   "execution_count": null,
   "id": "nasty-fraud",
   "metadata": {},
   "outputs": [],
   "source": [
    "import pandas as pd \n",
    "\n",
    "conn = sqlite3.connect(\"employee.db\") \n",
    "cur = conn.cursor() \n",
    "cur.execute(\"SELECT * FROM employee_data\") \n",
    "rows = cur.fetchall() \n",
    "cols = [column[0] for column in cur.description] \n",
    "data_df = pd.DataFrame.from_records(data=rows, columns=cols) \n",
    "conn.close() \n",
    "\n",
    "data_df"
   ]
  },
  {
   "cell_type": "markdown",
   "id": "reserved-variance",
   "metadata": {},
   "source": [
    "# DDL"
   ]
  },
  {
   "cell_type": "raw",
   "id": "indirect-spelling",
   "metadata": {},
   "source": [
    "scheme, domain, table, view, index\n",
    "⒜ CREATE : 정의 \n",
    "⒝ ALTER: 수정 \n",
    "    - ADD : ALTER TABLE `테이블명` ADD `컬럼명` 자료형 FIRST/AFTER\n",
    "    - DROP : ALTER TABLE `테이블명` DROP `컬럼명`;\n",
    "    - CHANGE : ALTER TABLE `테이블명` CHANGE `기존컬럼명` `새컬럼명` 자료형\n",
    "    - MODIFY\n",
    "⒞ DROP : 삭제\n",
    "⒟ TRUNCATE : DROP 후 CREATE\n",
    "\n",
    "SHOW TABLE STATUS\n",
    "CREATE TABLE tableA (str varchar(8), PRIMARY KEY (str));\n",
    "CREATE TABLE dept (\n",
    "  dept_no INT(11) unsigned NOT NULL,\n",
    "  dept_name VARCHAR(32) NOT NULL,\n",
    "  PRIMARY KEY (dept_no)\n",
    ");\n",
    "CREATE TABLE posts ( \n",
    "  id bigint(20) unsigned NOT NULL AUTO_INCREMENT,\n",
    "  subject varchar(255) NOT NULL,\n",
    "  content mediumtext,\n",
    "  created datetime,\n",
    "  user_id int(10) unsigned NOT NULL,\n",
    "  user_name varchar(32) NOT NULL,\n",
    "  hit int(10) unsigned NOT NULL default '0',  \n",
    "  PRIMARY KEY (id)\n",
    ");\n",
    "DESC table_name"
   ]
  },
  {
   "cell_type": "markdown",
   "id": "certain-tobacco",
   "metadata": {},
   "source": [
    "# 상태 확인\n",
    "\n",
    "SELECT * FROM information_schema.`COLUMNS`  \n",
    "WHERE information_schema.`COLUMNS`.TABLE_SCHEMA = 'test'  \n",
    "AND information_schema.`COLUMNS`.COLUMN_NAME LIKE '%id%';  \n",
    "\n",
    "SHOW VARIABLES LIKE 'slow_query_%';  "
   ]
  },
  {
   "cell_type": "markdown",
   "id": "sharing-revolution",
   "metadata": {},
   "source": [
    "# DML"
   ]
  },
  {
   "cell_type": "raw",
   "id": "directed-pearl",
   "metadata": {},
   "source": [
    "⒜ SELECT : 조회\n",
    "SELECT * FROM INFORMATION_SCHEMA.TABLES where table_name='테이블명';\n",
    "\n",
    "날짜 조회 :\n",
    "SELECT id, post_date FROM wp_posts2 WHERE DATE(post_date)='2012-01-22';\n",
    "SELECT id, post_date FROM wp_posts2 WHERE DATE(post_date) BETWEEN '2012-01-22' AND '2012-01-23';\n",
    "\n",
    "월별 조회 : \n",
    "SELECT COUNT(*) FROM wp_posts;\n",
    "SELECT ID, post_date FROM wp_posts ORDER BY post_date LIMIT 2;\n",
    "SELECT ID, post_date FROM wp_posts ORDER BY post_date DESC LIMIT 2;\n",
    "SELECT DATE_FORMAT(post_date,'%Y-%m') m, COUNT(*) FROM wp_posts GROUP BY m;\n",
    "SELECT MID(post_date,1,7) m, COUNT(*) FROM wp_posts GROUP BY m;\n",
    "SELECT CONCAT(YEAR(post_date), '-', MONTH(post_date)) ym, COUNT(*) FROM wp_posts GROUP BY ym;\n",
    "\n",
    "⒝ INSERT : 추가\n",
    "INSERT INTO tableA (str) VALUES ('A'), ('B'), ('C'), ('D');\n",
    "INSERT IGNORE INTO 테이블명 [컬럼1, 컬럼2, ...] VALUES (값1, 값2, ...);\n",
    "\n",
    "\n",
    "⒞ DELETE : 삭제\n",
    "DELETE a FROM table1 a LEFT JOIN table2 b ON ...\n",
    "\n",
    "⒟ UPDATE : 변경\n",
    "REPLACE INTO 테이블명 [컬럼1, 컬럼2, ...] VALUES (값1, 값2, ...);\n",
    "INSERT INTO heroes\n",
    "    (name)\n",
    "VALUES\n",
    "    ('이순신'),('윤봉길')\n",
    "ON DUPLICATE KEY UPDATE\n",
    "    name = CONCAT(VALUES(name), idx);\n",
    "\n",
    "\n",
    "\n",
    "lock\n",
    "explain\n",
    "call\n",
    "\n",
    "SELECT column_name FROM information_schema.columns WHERE table_name ='table1';\n",
    "\n",
    "INSERT INTO tableA (str) VALUES ('A'), ('B'), ('C'), ('D');"
   ]
  },
  {
   "cell_type": "markdown",
   "id": "thrown-clause",
   "metadata": {},
   "source": [
    "# DCL"
   ]
  },
  {
   "cell_type": "markdown",
   "id": "choice-biography",
   "metadata": {},
   "source": [
    "데이터의 보안, 무결성, 회복, 병행 수행제어\n",
    "\n",
    "⒜ COMMIT : 트랜잭션의 작업 결과를 반영 \n",
    "⒝ ROLLBACK : 트랜잭션의 작업을 취소 및 원래대로 복구\n",
    "⒞ GRANT : 사용자에게 권한 부여\n",
    "⒟ REVOKE : 사용자 권한 취소  \n",
    "CREATE USER 'finley'@'localhost' IDENTIFIED BY 'P@ssw0rd';  \n",
    "GRANT ALL ON *.* TO 'finley'@'localhost' WITH GRANT OPTION;  \n",
    "DROP USER '계정'@'접속대역';  \n",
    "\n",
    "SELECT @@GLOBAL.log_output;  \n",
    "SELECT @@GLOBAL.general_log;  \n",
    "SET GLOBAL log_output = 'table';  \n",
    "SET GLOBAL general_log = 1;  \n",
    "SELECT * FROM mysql.general_log;  \n"
   ]
  },
  {
   "cell_type": "markdown",
   "id": "essential-hundred",
   "metadata": {},
   "source": [
    "# View"
   ]
  },
  {
   "cell_type": "markdown",
   "id": "burning-preservation",
   "metadata": {},
   "source": [
    "CREATE VIEW DEPT_INFO(Dept_name, No_of_emps, Total_sal)\n",
    "AS SELECT Dname, COUNT(*), SUM(Salary)\n",
    "FROM DEPARTMENT, EMPLOYEE\n",
    "WHERE Dnumber=Dno\n",
    "GROUP BY Dname;"
   ]
  },
  {
   "cell_type": "markdown",
   "id": "standing-shell",
   "metadata": {},
   "source": [
    "# Join"
   ]
  },
  {
   "cell_type": "raw",
   "id": "intimate-midwest",
   "metadata": {},
   "source": [
    "A 집합 :  \n",
    "SELECT *\n",
    "FROM 테이블1 LEFT OUTER JOIN 테이블2\n",
    "ON 테이블1.컬럼=테이블2.컬럼;\n",
    "SELECT *\n",
    "FROM 테이블1 LEFT JOIN 테이블2\n",
    "ON 테이블1.컬럼=테이블2.컬럼;\n",
    "\n",
    "B 집합 :\n",
    "SELECT *\n",
    "FROM EMPLOYEE E RIGHT OUTER JOIN DEPARTMENT D\n",
    "ON E.DepartmentID = D.DepartmentID;\n",
    "\n",
    "합집합 :  \n",
    "SELECT str FROM tableA\n",
    "UNION\n",
    "SELECT str FROM tableB;\n",
    "\n",
    "SELECT *\n",
    "FROM EMPLOYEE E FULL OUTER JOIN DEPARTMENT D\n",
    "ON E.DepartmentID = D.DepartmentID;\n",
    "\n",
    "\n",
    "교집합 :  \n",
    "SELECT a.str \n",
    "FROM tableA a, tableB b \n",
    "WHERE a.str = b.str;\n",
    "SELECT *\n",
    "FROM EMPLOYEE INNER JOIN DEPARTMENT\n",
    "ON EMPLOYEE.DepartmentID = DEPARTMENT.DepartmentID;\n",
    "SELECT *\n",
    "FROM EMPLOYEE, DEPARTMENT\n",
    "WHERE EMPLOYEE.DepartmentID = DEPARTMENT.DepartmentID;\n",
    "\n",
    "차집합 :  \n",
    "SELECT str FROM tableA WHERE str NOT IN (\n",
    "\tSELECT DISTINCT str FROM tableB\n",
    "); \n",
    "SELECT a.str FROM tableA a LEFT JOIN tableB b ON a.str = b.str\n",
    "WHERE b.str IS NULL;\n",
    "\n",
    "대칭차집합:  \n",
    "SELECT str FROM (\n",
    "\tSELECT str FROM tableA\n",
    "\tUNION ALL\n",
    "\tSELECT str FROM tableB\n",
    ") AS tmp\n",
    "GROUP BY str HAVING COUNT(*)=1\n",
    "SELECT str FROM tableA WHERE str NOT IN ( SELECT DISTINCT str FROM tableB )\n",
    "UNION ALL\n",
    "SELECT str FROM tableB WHERE str NOT IN ( SELECT DISTINCT str FROM tableA )\n",
    "\n",
    "교차 조인 :  \n",
    "SELECT *\n",
    "FROM EMPLOYEE CROSS JOIN DEPARTMENT;"
   ]
  },
  {
   "cell_type": "markdown",
   "id": "competent-still",
   "metadata": {},
   "source": [
    "# Group by 사용법"
   ]
  },
  {
   "cell_type": "markdown",
   "id": "rubber-lover",
   "metadata": {},
   "source": [
    "### MySQL에서 group by 로 문자열을 합칠땐 group_concat 을 이용한다."
   ]
  },
  {
   "cell_type": "raw",
   "id": "waiting-bennett",
   "metadata": {},
   "source": [
    "1. 기본형 : group_concat(필드명)\n",
    "2. 구분자 변경 : group_concat(필드명 separator '구분자')\n",
    "3. 중복제거 : group_concat(distinct 필드명)\n",
    "4. 문자열 정렬 : group_concat(필드명 order by 필드명)"
   ]
  },
  {
   "cell_type": "raw",
   "id": "typical-calvin",
   "metadata": {},
   "source": [
    "Select Description  \n",
    "\n",
    "AVG()\tReturn the average value of the argument  \n",
    "BIT_AND()\tReturn bitwise and  \n",
    "BIT_OR()\tReturn bitwise or  \n",
    "BIT_XOR()\tReturn bitwise xor  \n",
    "COUNT(DISTINCT)\tReturn the count of a number of different values  \n",
    "COUNT()\tReturn a count of the number of rows returned  \n",
    "GROUP_CONCAT()\tReturn a concatenated string  \n",
    "MAX()\tReturn the maximum value  \n",
    "MIN()\tReturn the minimum value  \n",
    "STD()\tReturn the population standard deviation  \n",
    "STDDEV_POP()\tReturn the population standard deviation  \n",
    "STDDEV_SAMP()\tReturn the sample standard deviation  \n",
    "STDDEV()\tReturn the population standard deviation  \n",
    "SUM()\tReturn the sum  \n",
    "VAR_POP()\tReturn the population standard variance  \n",
    "VAR_SAMP()\tReturn the sample variance  \n",
    "VARIANCE()\tReturn the population standard variance  "
   ]
  },
  {
   "cell_type": "markdown",
   "id": "agricultural-appendix",
   "metadata": {},
   "source": [
    "# CAST"
   ]
  },
  {
   "cell_type": "raw",
   "id": "therapeutic-persian",
   "metadata": {},
   "source": [
    "SELECT CAST('2020-10-19 12:35:29.123' AS DATE) AS 'DATE';\n",
    "SELECT CAST('2020-10-19 12:35:29.123' AS TIME) AS 'TIME';\n",
    "SELECT CAST('2020-10-19 12:35;29.123' AS DATETIME) AS 'DATETIME';\n",
    "    \n",
    "CAST (expression AS 데이터형식 [ (길이) ]);\n",
    "CONVERT (expression , 데이터형식 [ (길이) ]);\n",
    "\n",
    "DATETIME에서 DATE로 형 변환\n",
    "SELECT ANIMAL_ID, NAME, DATE_FORMAT(DATETIME, '%Y-%m-%d') AS 날짜 \n",
    "FROM ANIMAL_INS"
   ]
  },
  {
   "cell_type": "markdown",
   "id": "immediate-projection",
   "metadata": {},
   "source": [
    "# 문자열 처리"
   ]
  },
  {
   "cell_type": "raw",
   "id": "arbitrary-potato",
   "metadata": {},
   "source": [
    "CONCAT(문자열1, 문자열2 ...)\n",
    "CONCAT_WS(문자열1, 문자열2 ...)\n",
    "\n",
    "SELECT LEFT('abcdefg', 3)\n",
    "SELECT MID('abcdefg', 2, 4);\n",
    "-- SELECT SUBSTR('abcdefg', 2, 4);\n",
    "-- SELECT SUBSTRING('abcdefg', 2, 4);\n",
    "SELECT RIGHT('abcdefg', 3);\n",
    "REVERSE(문자열)\n",
    "\n",
    "INSERT(기준 문자열, 위치, 길이, 삽입할 문자열)\n",
    "SELECT INSERT('abcdefghi', 3, 4, '@@@@'), \n",
    " > 'ab@@@@ghi'\n",
    "INSERT('abcdefghi', 3, 2, '@@@@');\n",
    " > 'ab@@@@efghi'\n",
    " \n",
    " * REPLACE(문자열, 원래 문자열, 바꿀 문자열)\n",
    "SELECT REPLACE('이것이 MySQL이다', '이것이', 'This is');\n",
    " > 'This is MySQL이다.'\n",
    " \n",
    "SELECT UPPER('Abcdef'); UCASE\n",
    "SELECT LOWER('Abcdef'); LCASE\n",
    "\n",
    "SELECT TRIM(' aabbccbbaa ');\n",
    "-- 또는 SELECT TRIM(BOTH FROM ' aabbccbbaa ');\n",
    "SELECT TRIM(BOTH 'a' FROM 'aabbccbbaa');\n",
    "SELECT TRIM(LEADING FROM ' aabbccbbaa ');\n",
    "SELECT LTRIM(' aabbccbbaa ');\n",
    "SELECT TRIM(LEADING 'a' FROM 'aabbccbbaa');\n",
    "SELECT TRIM(TRAILING FROM ' aabbccbbaa ');\n",
    "SELECT RTRIM(' aabbccbbaa ');\n",
    "SELECT TRIM(TRAILING 'a' FROM 'aabbccbbaa');\n",
    "\n",
    "SELECT LENGTH('안녕');\n",
    "SELECT CHAR_LENGTH('Hello');\n",
    "SELECT CHARACTER_LENGTH('Hello');\n",
    "\n",
    "ASCII(아스키 코드), CHAR(숫자)\n",
    "\n",
    "BIT_LENGTH(문자열), CHAR_LENGTH(문자열), LENGTH(문자열)"
   ]
  },
  {
   "cell_type": "markdown",
   "id": "mysterious-bristol",
   "metadata": {},
   "source": [
    "# 문자열 색인"
   ]
  },
  {
   "cell_type": "raw",
   "id": "artificial-morris",
   "metadata": {},
   "source": [
    "ELT(위치 문자열1, 문자열2, ...)\n",
    "SELECT ELT(2, '하나', '둘', '셋'),\n",
    "/* 둘\n",
    "\n",
    "FIELD(찾을 문자열, 문자열1, 문자열2, ...)\n",
    "FIELD('둘', '하나', '둘', '셋'),\n",
    "/* 2\n",
    "\n",
    "FIND_IN_SET(찾을 문자열, 문자열 리스트)\n",
    "FIND_IN_SET('둘', '하나,둘,셋'),\n",
    "/* 2\n",
    "\n",
    "INSTR(기준 분자열, 부분 문자열), \n",
    "INSTR('하나둘셋', '둘'),\n",
    "/* 3\n",
    "\n",
    "LOCATE(부분 문자열, 기준 문자열)\n",
    "LOCATE('둘', '하나둘셋');\n",
    "/% 3"
   ]
  },
  {
   "cell_type": "markdown",
   "id": "cosmetic-joyce",
   "metadata": {},
   "source": [
    "# 수처리"
   ]
  },
  {
   "cell_type": "raw",
   "id": "lonely-determination",
   "metadata": {},
   "source": [
    "BIN(숫자), HEX(숫자), OCT(숫자)\n",
    "SELECT ABS(-5);\n",
    "SELECT CEILING(4.6);\n",
    "SELECT FLOOR(4.789);\n",
    "SELECT ROUND(4.567, 2);\n",
    "SELECT ROUND(4567, -2);\n",
    "SELECT TRUNCATE(4.567, 2);\n",
    "SELECT FORMAT(1234.5678, 0);\n",
    "# 1,235\n",
    "SELECT POW(2, 3);\n",
    "SELECT MOD(15, 4);\n",
    "SELECT GREATEST(15, 4, 21, 7);\n",
    "SELECT LEAST(15, 4, 21, 7);\n",
    "\n",
    "# 삼각함수\n",
    "ACOS(숫자), ASIN(숫자), ATAN(숫자), ATAN2(숫자1, 숫자2), SIN(숫자), COS(숫자), TAN(숫자),  \n",
    "\n",
    "#각도 \n",
    "DEGREES(숫자), RADIANS(숫자), PI()\n",
    "\n",
    "# 지수 로그\n",
    " * EXP(X), LN(숫자), LOG(숫자), LOG(밑수, 숫자), LOG2(숫자), LOG10(숫자)\n",
    " \n",
    "#SIGN(숫자) = 1, 0, -1 로 반환\n",
    "\n",
    "* CONV(숫자, 원래 진수, 변환할 진수)\n",
    "> 숫자를 원래 진수에서 변환할 진수로 계산한다.\n",
    "SELECT CONV('AA', 16, 2), \n",
    "> 16진수 AA를 2진수로 변환한 10101010 \n",
    "SELECT CONV(100, 10, 8);\n",
    "> 100을 8진수로 변환한 144"
   ]
  },
  {
   "cell_type": "markdown",
   "id": "disturbed-journal",
   "metadata": {},
   "source": [
    "# 데이터 치환 전처리"
   ]
  },
  {
   "cell_type": "raw",
   "id": "ruled-measure",
   "metadata": {},
   "source": [
    "IFNULL(수식1, 수식2)\n",
    "SELECT ANIMAL_TYPE, IFNULL(NAME, \"No name\") AS NAME, SEX_UPON_INTAKE \n",
    "FROM ANIMAL_INS\n",
    "\n",
    "CASE ~ WHEN ~ ELSE ~ END\n",
    "SELECT ANIMAL_ID, NAME, \n",
    "CASE WHEN SEX_UPON_INTAKE LIKE \"%Neutered%\" OR SEX_UPON_INTAKE LIKE \"%Spayed%\" \n",
    "THEN \"O\" \n",
    "ELSE \"X\" \n",
    "END AS \"중성화\" \n",
    "FROM ANIMAL_INS\n",
    "\n",
    "중복 제거하기\n",
    "SELECT COUNT(A.NAME) count\n",
    "FROM (SELECT NAME FROM ANIMAL_INS GROUP BY NAME) AS A\n",
    "WHERE NAME IS NOT NULL\n",
    "GROUP BY\n",
    "\n",
    "IF(수식, 참, 거짓)\n",
    "\n",
    "NULLIF(수식1, 수식2)"
   ]
  },
  {
   "cell_type": "markdown",
   "id": "dress-fruit",
   "metadata": {},
   "source": [
    "# 시간 계산"
   ]
  },
  {
   "cell_type": "raw",
   "id": "automatic-battlefield",
   "metadata": {},
   "source": [
    "* CURDATE(), CURTIME(), NOW(), SYSDATE()\n",
    "* DAYOFWEEK(날짜), MONTHNAME(), DAYOFYEAR(날짜), * QUARTER(날짜)\n",
    "* LAST_DAY(날짜)\n",
    "* MAKEDATE(연도, 정수)\n",
    "* DATE(), TIME()\n",
    "SELECT YEAR('2017-01-02 12:30:45');\n",
    "SELECT MONTH('2017-01-02 12:30:45')\n",
    "SELECT DAY('2017-01-02 12:30:45');\n",
    "SELECT HOUR('2017-01-02 12:30:45');\n",
    "SELECT MINUTE('2017-01-02 12:30:45');\n",
    "SELECT SECOND('2017-01-02 12:30:45');\n",
    "SELECT TIMESTAMPDIFF(QUARTER, '2017-03-01', '2018-03-28');\n",
    "SELECT DATEDIFF('2018-03-28 23:59:59', '2017-03-01 00:00:00');\n",
    "SELECT TIMESTAMPDIFF(SECOND, '2017-03-01', '2018-03-28');\n",
    "SELECT TIMESTAMPDIFF(MINUTE, '2017-03-01', '2018-03-28');\n",
    "\n",
    "SELECT ADDDATE('2020-01-01', INTERVAL 31 DAYS), ADDDATE('2020-01-01', INTERVAL 1 MONTH);\n",
    "\n",
    "SELECT SUBDATE('2020-01-01', INTERVAL 31 DAYS), SUBDATE('2020-01-01', INTErVAL 1 MONTH);\n",
    "         \n",
    "시각 구하기(2)\n",
    "SET @HOUR = -1;\n",
    "SELECT\n",
    "    (@HOUR := @HOUR +1) AS HOUR,\n",
    "    (SELECT COUNT(*) FROM ANIMAL_OUTS WHERE HOUR(DATETIME) = @HOUR) AS COUNT\n",
    "FROM ANIMAL_OUTS\n",
    "WHERE @HOUR < 23\n",
    "String, Date\n",
    "\n",
    "\n",
    "* DATEDIFF(날짜1, 날짜2), TIMEDIFF(날짜1 또는 시간1, 날짜2 또는 시간2)\n",
    "SELECT A.ANIMAL_ID, A.NAME\n",
    "FROM ANIMAL_INS A, ANIMAL_OUTS B \n",
    "WHERE A.ANIMAL_ID = B.ANIMAL_ID \n",
    "ORDER BY DATEDIFF(A.DATETIME, B.DATETIME) \n",
    "LIMIT 2\n",
    "\n",
    "* PERIOD_ADD(연월, 개월수), PEIOD_DIFF(연월1, 연월2)\n",
    "SELECT RERIOD_ADD(202001, 11);\n",
    "> 12\n",
    "SELECT PERIOD_DIFF(202001, 201812);\n",
    "> 13"
   ]
  },
  {
   "cell_type": "markdown",
   "id": "architectural-yugoslavia",
   "metadata": {},
   "source": [
    "# 고급 예문"
   ]
  },
  {
   "cell_type": "raw",
   "id": "exclusive-brook",
   "metadata": {},
   "source": [
    "set @변수 명 = xx;\n",
    "or set @변수 := xx\n",
    "\n",
    "/* 1. 사용자 변수 */\n",
    "SET @IN_DELIMITER = '|';\n",
    "SET @IN_DATA = '10|20|30||40|50||70|80|||90';\n",
    " \n",
    " \n",
    "/* 구분자를 기준으로 로우(ROW) 데이터 생성 쿼리*/  \n",
    "SELECT TRIM(SUBSTRING_INDEX(SUBSTRING_INDEX(A.DATA, @IN_DELIMITER, B.RN), @IN_DELIMITER, -1)) AS ROW_DATA  \n",
    "FROM      \n",
    "    (SELECT CASE  \n",
    "           WHEN CONVERT( ( LENGTH(A.DATA) - LENGTH(REPLACE (A.DATA, @IN_DELIMITER, '') ) ) / LENGTH(','), UNSIGNED) > 0 \n",
    "           THEN CONVERT( ( LENGTH(A.DATA) - LENGTH(REPLACE (A.DATA, @IN_DELIMITER, '') ) ) / LENGTH(',') + 1, UNSIGNED)\n",
    "           ELSE 0  \n",
    "           END AS DELIMITER_CNT, A.DATA  \n",
    "    FROM (SELECT @IN_DATA DATA) A) \n",
    "/* [조건] 데이터 입력 */  \n",
    "INNER JOIN (SELECT CAST(seq AS INT) as RN \n",
    "            FROM seq_1_to_1000) B \n",
    "ON (B.RN <= A.DELIMITER_CNT)  \n",
    ";"
   ]
  },
  {
   "cell_type": "markdown",
   "id": "lyric-calvin",
   "metadata": {},
   "source": [
    "# 프로그래머스 예문"
   ]
  },
  {
   "cell_type": "raw",
   "id": "written-adelaide",
   "metadata": {},
   "source": [
    "동명\n",
    "SELECT NAME,COUNT(*) COUNT \n",
    "FROM ANIMAL_INS \n",
    "WHERE NAME IS NOT NULL\n",
    "GROUP BY NAME\n",
    "HAVING COUNT > 1\n",
    "ORDER BY NAME\n",
    "\n",
    "\n",
    "SELECT\n",
    "CASE WHEN F1.ID1 =F2.friend \n",
    "THEN F1.ID1\n",
    "ELSE F1.ID2 \n",
    "END AS ID\n",
    "FROM FRIENDS F1, \n",
    "    (SELECT CASE WHEN ID1 = 'naneekgunpowder1886' \n",
    "     THEN ID2 \n",
    "     ELSE ID1 \n",
    "     END AS friend \n",
    "     FROM FRIENDS \n",
    "     WHERE ID1 = 'naneekgunpowder1886' \n",
    "        OR ID2 = 'naneekgunpowder1886') F2\n",
    "WHERE (F1.ID1 = F2.friend \n",
    "       OR F1.ID2 = F2.friend) \n",
    "    AND (F1.ID1 != 'naneekgunpowder1886' \n",
    "         AND F1.ID2 != 'naneekgunpowder1886')\n",
    "GROUP BY ID\n",
    "ORDER BY count(*) DESC, ID\n",
    "LIMIT 1;\n",
    "\n",
    "# SELECT *,\n",
    "# CASE WHEN ID1 = 'naneekgunpowder1886' \n",
    "#      THEN ID2 \n",
    "#      ELSE ID1 \n",
    "#      END AS friend \n",
    "# FROM FRIENDS \n",
    "# WHERE ID1 = 'naneekgunpowder1886' \n",
    "#         OR ID2 = 'naneekgunpowder1886'"
   ]
  }
 ],
 "metadata": {
  "kernelspec": {
   "display_name": "Python 3.7",
   "language": "python",
   "name": "py37"
  },
  "language_info": {
   "codemirror_mode": {
    "name": "ipython",
    "version": 3
   },
   "file_extension": ".py",
   "mimetype": "text/x-python",
   "name": "python",
   "nbconvert_exporter": "python",
   "pygments_lexer": "ipython3",
   "version": "3.7.9"
  }
 },
 "nbformat": 4,
 "nbformat_minor": 5
}
