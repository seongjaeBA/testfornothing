{
 "cells": [
  {
   "cell_type": "code",
   "execution_count": 2,
   "id": "dependent-logistics",
   "metadata": {},
   "outputs": [
    {
     "data": {
      "text/plain": [
       "200"
      ]
     },
     "execution_count": 2,
     "metadata": {},
     "output_type": "execute_result"
    }
   ],
   "source": [
    "import requests\n",
    "\n",
    "URL = 'http://www.tistory.com' \n",
    "response = requests.get(URL) \n",
    "response.status_code "
   ]
  },
  {
   "cell_type": "code",
   "execution_count": null,
   "id": "cognitive-positive",
   "metadata": {},
   "outputs": [],
   "source": [
    "response.text"
   ]
  },
  {
   "cell_type": "code",
   "execution_count": null,
   "id": "sacred-cannon",
   "metadata": {},
   "outputs": [],
   "source": [
    "params = {'param1': 'value1', 'param2': 'value'} \n",
    "res = requests.get(URL, params=params)\n",
    "# URL/ ?param1=value1"
   ]
  },
  {
   "cell_type": "code",
   "execution_count": null,
   "id": "married-cathedral",
   "metadata": {},
   "outputs": [],
   "source": [
    "data = {'param1': 'value1', 'param2': 'value'} \n",
    "res = requests.post(URL, data=data)"
   ]
  },
  {
   "cell_type": "code",
   "execution_count": null,
   "id": "antique-bunch",
   "metadata": {},
   "outputs": [],
   "source": [
    "import requests, json \n",
    "\n",
    "data = {'outer': {'inner': 'value'}} \n",
    "res = requests.post(URL, data=json.dumps(data))"
   ]
  },
  {
   "cell_type": "code",
   "execution_count": null,
   "id": "lesbian-battery",
   "metadata": {},
   "outputs": [],
   "source": [
    "headers = {'Content-Type': 'application/json; charset=utf-8'} \n",
    "cookies = {'session_id': 'sorryidontcare'} \n",
    "res = requests.get(URL, headers=headers, cookies=cookies)"
   ]
  }
 ],
 "metadata": {
  "kernelspec": {
   "display_name": "Python 3",
   "language": "python",
   "name": "python3"
  },
  "language_info": {
   "codemirror_mode": {
    "name": "ipython",
    "version": 3
   },
   "file_extension": ".py",
   "mimetype": "text/x-python",
   "name": "python",
   "nbconvert_exporter": "python",
   "pygments_lexer": "ipython3",
   "version": "3.8.5"
  }
 },
 "nbformat": 4,
 "nbformat_minor": 5
}
