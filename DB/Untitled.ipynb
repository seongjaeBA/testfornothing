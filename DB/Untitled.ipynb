{
 "cells": [
  {
   "cell_type": "markdown",
   "id": "specified-kansas",
   "metadata": {},
   "source": [
    "# 서버 관리"
   ]
  },
  {
   "cell_type": "code",
   "execution_count": null,
   "id": "general-validation",
   "metadata": {},
   "outputs": [],
   "source": [
    "SHOW VARIABLES LIKE 'slow_query_%';  \n"
   ]
  }
 ],
 "metadata": {
  "kernelspec": {
   "display_name": "Python 3.7",
   "language": "python",
   "name": "py37"
  },
  "language_info": {
   "codemirror_mode": {
    "name": "ipython",
    "version": 3
   },
   "file_extension": ".py",
   "mimetype": "text/x-python",
   "name": "python",
   "nbconvert_exporter": "python",
   "pygments_lexer": "ipython3",
   "version": "3.7.9"
  }
 },
 "nbformat": 4,
 "nbformat_minor": 5
}
