{
 "cells": [
  {
   "cell_type": "code",
   "execution_count": null,
   "metadata": {},
   "outputs": [],
   "source": [
    "from bs4 import BeautifulSoup\n",
    "from konlpy.tag import Twitter\n",
    "import collections\n",
    "\n",
    "f = open(r'address',encoding='utf16') \n",
    "text = f.read()\n",
    "#print(text)\n",
    "f.close()\n",
    "\n",
    "soup = BeautifulSoup(text, 'html.parser')\n",
    "body = soup.select_one('text > body > text')\n",
    "text = body.text\n",
    "#print(text)\n",
    "\n",
    "results = []\n",
    "malist = Twitter().pos(text, norm=True, stem=True)\n",
    "#from konlpy.tag import Komoran\n",
    "#malist = Komoran().pos(text)\n",
    "for taeso, pumsa in malist:    \n",
    "    if not pumsa in [\"Josa\", \"Eomi\", \"Punctuation\"]: #조사,어미,구두점 제외 \n",
    "        results.append(taeso)    \n",
    "\n",
    "print(' '.join(results))"
   ]
  }
 ],
 "metadata": {
  "kernelspec": {
   "display_name": "Python 3",
   "language": "python",
   "name": "python3"
  },
  "language_info": {
   "codemirror_mode": {
    "name": "ipython",
    "version": 3
   },
   "file_extension": ".py",
   "mimetype": "text/x-python",
   "name": "python",
   "nbconvert_exporter": "python",
   "pygments_lexer": "ipython3",
   "version": "3.8.5"
  }
 },
 "nbformat": 4,
 "nbformat_minor": 4
}
