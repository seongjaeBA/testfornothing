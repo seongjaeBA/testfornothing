{
 "cells": [
  {
   "cell_type": "code",
   "execution_count": null,
   "metadata": {},
   "outputs": [],
   "source": [
    "lambda args : func\n",
    "(lambda x,y: x + y)(10, 20)\n",
    "\n",
    "map(func, list)\n",
    ">>> map(lambda x: x ** 2, range(5))             # 파이썬 2\n",
    "[0, 1, 4, 9, 16]  \n",
    ">>> list(map(lambda x: x ** 2, range(5)))     # 파이썬 2 및 파이썬 3\n",
    "[0, 1, 4, 9, 16]\n",
    "\n",
    "reduce(func, 순서형 자료)\n",
    ">>> from functools import reduce   # 파이썬 3에서는 써주셔야 해요  \n",
    ">>> reduce(lambda x, y: x + y, [0, 1, 2, 3, 4])\n",
    "10\n",
    "\n",
    "filter(func, list) # func(list) = True\n",
    ">>> filter(lambda x: x < 5, range(10))       # 파이썬 2\n",
    "[0, 1, 2, 3, 4]  \n",
    ">>> list(filter(lambda x: x < 5, range(10))) # 파이썬 2 및 파이썬 3\n",
    "[0, 1, 2, 3, 4]\n",
    "\n",
    "functional programming"
   ]
  }
 ],
 "metadata": {
  "kernelspec": {
   "display_name": "Python 3",
   "language": "python",
   "name": "python3"
  },
  "language_info": {
   "codemirror_mode": {
    "name": "ipython",
    "version": 3
   },
   "file_extension": ".py",
   "mimetype": "text/x-python",
   "name": "python",
   "nbconvert_exporter": "python",
   "pygments_lexer": "ipython3",
   "version": "3.7.1"
  }
 },
 "nbformat": 4,
 "nbformat_minor": 2
}
