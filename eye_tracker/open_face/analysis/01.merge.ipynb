{
 "cells": [
  {
   "cell_type": "code",
   "execution_count": 1,
   "id": "local-opening",
   "metadata": {},
   "outputs": [],
   "source": [
    "import os\n",
    "import pandas as pd"
   ]
  },
  {
   "cell_type": "code",
   "execution_count": 4,
   "id": "disciplinary-jones",
   "metadata": {},
   "outputs": [],
   "source": [
    "cwd = os.getcwd()\n",
    "os.chdir(\"../processed\")\n",
    "processed_vd_dir = os.getcwd()\n",
    "os.chdir(\"../datas\")\n",
    "raw_merge_dir = os.getcwd()\n",
    "os.chdir(\"../models\")\n",
    "model_dir = os.getcwd()"
   ]
  },
  {
   "cell_type": "code",
   "execution_count": 28,
   "id": "architectural-reflection",
   "metadata": {},
   "outputs": [
    {
     "name": "stdout",
     "output_type": "stream",
     "text": [
      "['.ipynb_checkpoints', 'baby1.csv', 'baby1.hog', 'baby1.jpg', 'baby1_aligned', 'baby1_of_details.txt', 'baby2.csv', 'baby2.hog', 'baby2.jpg', 'baby2_aligned', 'baby2_of_details.txt', 'baby3.csv', 'baby3.hog', 'baby3.jpg', 'baby3_aligned', 'baby3_of_details.txt', 'baby4.csv', 'baby4.hog', 'baby4.jpg', 'baby4_aligned', 'baby4_of_details.txt', 'baby5.csv', 'baby5.hog', 'baby5.jpg', 'baby5_aligned', 'baby5_of_details.txt', 'baby6.csv', 'baby6.hog', 'baby6.jpg', 'baby6_aligned', 'baby6_of_details.txt', 'baby7.csv', 'baby7.hog', 'baby7.jpg', 'baby7_aligned', 'baby7_of_details.txt', 'center1.csv', 'center1.hog', 'center1.jpg', 'center1_aligned', 'center1_of_details.txt', 'center2.csv', 'center2.hog', 'center2.jpg', 'center2_aligned', 'center2_of_details.txt', 'center3.csv', 'center3.hog', 'center3.jpg', 'center3_aligned', 'center3_of_details.txt', 'cf_center.csv', 'cf_center.hog', 'cf_center.jpg', 'cf_center2.csv', 'cf_center_aligned', 'cf_center_of_details.txt', 'cf_lb.csv', 'cf_lb.hog', 'cf_lb.jpg', 'cf_lb2.csv', 'cf_lb_aligned', 'cf_lb_of_details.txt', 'cf_lt.csv', 'cf_lt.hog', 'cf_lt.jpg', 'cf_lt2.csv', 'cf_lt_aligned', 'cf_lt_of_details.txt', 'cf_rb.csv', 'cf_rb.hog', 'cf_rb.jpg', 'cf_rb2.csv', 'cf_rb_aligned', 'cf_rb_of_details.txt', 'cf_rt.csv', 'cf_rt.hog', 'cf_rt.jpg', 'cf_rt2.csv', 'cf_rt_aligned', 'cf_rt_of_details.txt', 'df_c.csv', 'df_c.hog', 'df_c.jpg', 'df_c2.csv', 'df_c_aligned', 'df_c_of_details.txt', 'df_lb.csv', 'df_lb.hog', 'df_lb.jpg', 'df_lb2.csv', 'df_lb_aligned', 'df_lb_of_details.txt', 'df_lt.csv', 'df_lt.hog', 'df_lt.jpg', 'df_lt2.csv', 'df_lt_aligned', 'df_lt_of_details.txt', 'df_rb.csv', 'df_rb.hog', 'df_rb.jpg', 'df_rb2.csv', 'df_rb_aligned', 'df_rb_of_details.txt', 'df_rt.csv', 'df_rt.hog', 'df_rt.jpg', 'df_rt2.csv', 'df_rt_aligned', 'df_rt_of_details.txt', 'ds_c.csv', 'ds_c.hog', 'ds_c.jpg', 'ds_c2.csv', 'ds_c_aligned', 'ds_c_of_details.txt', 'ds_lb.csv', 'ds_lb.hog', 'ds_lb.jpg', 'ds_lb2.csv', 'ds_lb_aligned', 'ds_lb_of_details.txt', 'ds_lt.csv', 'ds_lt.hog', 'ds_lt.jpg', 'ds_lt2.csv', 'ds_lt_aligned', 'ds_lt_of_details.txt', 'ds_rb.csv', 'ds_rb.hog', 'ds_rb.jpg', 'ds_rb2.csv', 'ds_rb_aligned', 'ds_rb_of_details.txt', 'ds_rt.csv', 'ds_rt.hog', 'ds_rt.jpg', 'ds_rt2.csv', 'ds_rt_aligned', 'ds_rt_of_details.txt', 'exp1.avi', 'exp1.csv', 'exp1.hog', 'exp1_aligned', 'exp1_of_details.txt', 'exp2.avi', 'exp2.csv', 'exp2.hog', 'exp2_aligned', 'exp2_of_details.txt', 'exp3.avi', 'exp3.csv', 'exp3.hog', 'exp3_aligned', 'exp3_of_details.txt', 'exp4.avi', 'exp4.csv', 'exp4.hog', 'exp4_aligned', 'exp4_of_details.txt', 'exp5.avi', 'exp5.csv', 'exp5.hog', 'exp5_of_details.txt', 'kid1.avi', 'kid1.csv', 'kid2.avi', 'left.csv', 'left.hog', 'left.jpg', 'left_aligned', 'left_of_details.txt', 'right.csv', 'right.hog', 'right.jpg', 'right_aligned', 'right_of_details.txt', 'sample1.avi', 'sample1.csv', 'sample1_of_details.txt', 'sample2.csv', 'sample2.jpg', 'up1.csv', 'up1.hog', 'up1.jpg', 'up1_aligned', 'up1_of_details.txt', 'up2.csv', 'up2.hog', 'up2.jpg', 'up2_aligned', 'up2_of_details.txt']\n"
     ]
    }
   ],
   "source": [
    "flist = os.listdir(processed_vd_dir)\n",
    "os.chdir(processed_vd_dir)\n",
    "print(flist)"
   ]
  },
  {
   "cell_type": "code",
   "execution_count": 35,
   "id": "dressed-importance",
   "metadata": {},
   "outputs": [],
   "source": [
    "vd_list = [f[:-4] for f in flist if 'avi' in f]"
   ]
  },
  {
   "cell_type": "code",
   "execution_count": 33,
   "id": "retired-interim",
   "metadata": {},
   "outputs": [],
   "source": [
    "combined_csv = pd.concat([pd.read_csv(f) for f in csv_flist if 'csv' in f and f[:-4] in vd_list])"
   ]
  },
  {
   "cell_type": "code",
   "execution_count": 34,
   "id": "forbidden-leone",
   "metadata": {},
   "outputs": [
    {
     "name": "stdout",
     "output_type": "stream",
     "text": [
      "      frame   face_id   timestamp   confidence   success   gaze_0_x  \\\n",
      "0         1         0       0.000         0.98         1   0.324716   \n",
      "1         2         0       0.033         0.98         1   0.324561   \n",
      "2         3         0       0.067         0.98         1   0.308996   \n",
      "3         4         0       0.100         0.98         1   0.303932   \n",
      "4         5         0       0.133         0.98         1   0.297506   \n",
      "...     ...       ...         ...          ...       ...        ...   \n",
      "1110    364         1      12.001         0.98         1  -0.593285   \n",
      "1111    365         0      12.034         0.98         1   0.269338   \n",
      "1112    365         1      12.034         0.98         1  -0.531211   \n",
      "1113    366         0      12.067         0.98         1   0.267460   \n",
      "1114    366         1      12.067         0.98         1  -0.495244   \n",
      "\n",
      "       gaze_0_y   gaze_0_z   gaze_1_x   gaze_1_y  ...   AU12_c   AU14_c  \\\n",
      "0      0.176502  -0.929197  -0.063634   0.128998  ...      0.0      0.0   \n",
      "1      0.188440  -0.926904  -0.089469   0.144061  ...      0.0      0.0   \n",
      "2      0.188364  -0.932223  -0.069082   0.130767  ...      0.0      0.0   \n",
      "3      0.186108  -0.934339  -0.074117   0.130996  ...      0.0      0.0   \n",
      "4      0.189808  -0.935662  -0.076421   0.135506  ...      0.0      0.0   \n",
      "...         ...        ...        ...        ...  ...      ...      ...   \n",
      "1110   0.247318  -0.766059  -0.760774   0.425549  ...      0.0      0.0   \n",
      "1111   0.373672  -0.887596   0.038470   0.439862  ...      0.0      0.0   \n",
      "1112   0.250145  -0.809470  -0.732875   0.435414  ...      0.0      0.0   \n",
      "1113   0.378462  -0.886133   0.039006   0.433816  ...      0.0      0.0   \n",
      "1114   0.253920  -0.830818  -0.746912   0.422034  ...      0.0      0.0   \n",
      "\n",
      "       AU15_c   AU17_c   AU20_c   AU23_c   AU25_c   AU26_c   AU28_c   AU45_c  \n",
      "0         1.0      0.0      0.0      0.0      0.0      0.0      0.0      0.0  \n",
      "1         1.0      0.0      0.0      0.0      0.0      0.0      0.0      0.0  \n",
      "2         1.0      0.0      0.0      0.0      0.0      0.0      0.0      0.0  \n",
      "3         1.0      0.0      0.0      0.0      0.0      0.0      0.0      0.0  \n",
      "4         1.0      0.0      0.0      0.0      0.0      0.0      0.0      0.0  \n",
      "...       ...      ...      ...      ...      ...      ...      ...      ...  \n",
      "1110      1.0      0.0      0.0      0.0      1.0      1.0      0.0      0.0  \n",
      "1111      0.0      0.0      0.0      0.0      1.0      1.0      0.0      1.0  \n",
      "1112      1.0      0.0      0.0      0.0      1.0      1.0      0.0      1.0  \n",
      "1113      0.0      0.0      0.0      0.0      1.0      1.0      0.0      1.0  \n",
      "1114      1.0      0.0      0.0      0.0      1.0      1.0      0.0      1.0  \n",
      "\n",
      "[9707 rows x 714 columns]\n"
     ]
    }
   ],
   "source": [
    "print(combined_csv)"
   ]
  },
  {
   "cell_type": "code",
   "execution_count": 36,
   "id": "invalid-christmas",
   "metadata": {},
   "outputs": [],
   "source": [
    "combined_csv.to_csv(os.path.join(raw_merge_dir, \"combined_csv.csv\"), index=False, encoding='utf-8-sig')"
   ]
  },
  {
   "cell_type": "code",
   "execution_count": 4,
   "id": "sharp-legend",
   "metadata": {
    "collapsed": true,
    "jupyter": {
     "outputs_hidden": true
    }
   },
   "outputs": [
    {
     "name": "stdout",
     "output_type": "stream",
     "text": [
      "center1.csv\n"
     ]
    },
    {
     "name": "stdin",
     "output_type": "stream",
     "text": [
      " c\n"
     ]
    },
    {
     "name": "stdout",
     "output_type": "stream",
     "text": [
      "center2.csv\n"
     ]
    },
    {
     "name": "stdin",
     "output_type": "stream",
     "text": [
      " c\n"
     ]
    },
    {
     "name": "stdout",
     "output_type": "stream",
     "text": [
      "center3.csv\n"
     ]
    },
    {
     "name": "stdin",
     "output_type": "stream",
     "text": [
      " c\n"
     ]
    },
    {
     "name": "stdout",
     "output_type": "stream",
     "text": [
      "cf_center.csv\n"
     ]
    },
    {
     "name": "stdin",
     "output_type": "stream",
     "text": [
      " c\n"
     ]
    },
    {
     "name": "stdout",
     "output_type": "stream",
     "text": [
      "cf_center2.csv\n"
     ]
    },
    {
     "name": "stdin",
     "output_type": "stream",
     "text": [
      " c\n"
     ]
    },
    {
     "name": "stdout",
     "output_type": "stream",
     "text": [
      "cf_lb.csv\n"
     ]
    },
    {
     "name": "stdin",
     "output_type": "stream",
     "text": [
      " l\n"
     ]
    },
    {
     "name": "stdout",
     "output_type": "stream",
     "text": [
      "cf_lb2.csv\n"
     ]
    },
    {
     "name": "stdin",
     "output_type": "stream",
     "text": [
      " l\n"
     ]
    },
    {
     "name": "stdout",
     "output_type": "stream",
     "text": [
      "cf_lt.csv\n"
     ]
    },
    {
     "name": "stdin",
     "output_type": "stream",
     "text": [
      " l\n"
     ]
    },
    {
     "name": "stdout",
     "output_type": "stream",
     "text": [
      "cf_lt2.csv\n"
     ]
    },
    {
     "name": "stdin",
     "output_type": "stream",
     "text": [
      " l\n"
     ]
    },
    {
     "name": "stdout",
     "output_type": "stream",
     "text": [
      "cf_rb.csv\n"
     ]
    },
    {
     "name": "stdin",
     "output_type": "stream",
     "text": [
      " r\n"
     ]
    },
    {
     "name": "stdout",
     "output_type": "stream",
     "text": [
      "cf_rb2.csv\n"
     ]
    },
    {
     "name": "stdin",
     "output_type": "stream",
     "text": [
      " r\n"
     ]
    },
    {
     "name": "stdout",
     "output_type": "stream",
     "text": [
      "cf_rt.csv\n"
     ]
    },
    {
     "name": "stdin",
     "output_type": "stream",
     "text": [
      " r\n"
     ]
    },
    {
     "name": "stdout",
     "output_type": "stream",
     "text": [
      "cf_rt2.csv\n"
     ]
    },
    {
     "name": "stdin",
     "output_type": "stream",
     "text": [
      " r\n"
     ]
    },
    {
     "name": "stdout",
     "output_type": "stream",
     "text": [
      "df_c.csv\n"
     ]
    },
    {
     "name": "stdin",
     "output_type": "stream",
     "text": [
      " c\n"
     ]
    },
    {
     "name": "stdout",
     "output_type": "stream",
     "text": [
      "df_c2.csv\n"
     ]
    },
    {
     "name": "stdin",
     "output_type": "stream",
     "text": [
      " c\n"
     ]
    },
    {
     "name": "stdout",
     "output_type": "stream",
     "text": [
      "df_lb.csv\n"
     ]
    },
    {
     "name": "stdin",
     "output_type": "stream",
     "text": [
      " l\n"
     ]
    },
    {
     "name": "stdout",
     "output_type": "stream",
     "text": [
      "df_lb2.csv\n"
     ]
    },
    {
     "name": "stdin",
     "output_type": "stream",
     "text": [
      " l\n"
     ]
    },
    {
     "name": "stdout",
     "output_type": "stream",
     "text": [
      "df_lt.csv\n"
     ]
    },
    {
     "name": "stdin",
     "output_type": "stream",
     "text": [
      " l\n"
     ]
    },
    {
     "name": "stdout",
     "output_type": "stream",
     "text": [
      "df_lt2.csv\n"
     ]
    },
    {
     "name": "stdin",
     "output_type": "stream",
     "text": [
      " l\n"
     ]
    },
    {
     "name": "stdout",
     "output_type": "stream",
     "text": [
      "df_rb.csv\n"
     ]
    },
    {
     "name": "stdin",
     "output_type": "stream",
     "text": [
      " r\n"
     ]
    },
    {
     "name": "stdout",
     "output_type": "stream",
     "text": [
      "df_rb2.csv\n"
     ]
    },
    {
     "name": "stdin",
     "output_type": "stream",
     "text": [
      " r\n"
     ]
    },
    {
     "name": "stdout",
     "output_type": "stream",
     "text": [
      "df_rt.csv\n"
     ]
    },
    {
     "name": "stdin",
     "output_type": "stream",
     "text": [
      " r\n"
     ]
    },
    {
     "name": "stdout",
     "output_type": "stream",
     "text": [
      "df_rt2.csv\n"
     ]
    },
    {
     "name": "stdin",
     "output_type": "stream",
     "text": [
      " r\n"
     ]
    },
    {
     "name": "stdout",
     "output_type": "stream",
     "text": [
      "ds_c.csv\n"
     ]
    },
    {
     "name": "stdin",
     "output_type": "stream",
     "text": [
      " c\n"
     ]
    },
    {
     "name": "stdout",
     "output_type": "stream",
     "text": [
      "ds_c2.csv\n"
     ]
    },
    {
     "name": "stdin",
     "output_type": "stream",
     "text": [
      " c\n"
     ]
    },
    {
     "name": "stdout",
     "output_type": "stream",
     "text": [
      "ds_lb.csv\n"
     ]
    },
    {
     "name": "stdin",
     "output_type": "stream",
     "text": [
      " l\n"
     ]
    },
    {
     "name": "stdout",
     "output_type": "stream",
     "text": [
      "ds_lb2.csv\n"
     ]
    },
    {
     "name": "stdin",
     "output_type": "stream",
     "text": [
      " l\n"
     ]
    },
    {
     "name": "stdout",
     "output_type": "stream",
     "text": [
      "ds_lt.csv\n"
     ]
    },
    {
     "name": "stdin",
     "output_type": "stream",
     "text": [
      " l\n"
     ]
    },
    {
     "name": "stdout",
     "output_type": "stream",
     "text": [
      "ds_lt2.csv\n"
     ]
    },
    {
     "name": "stdin",
     "output_type": "stream",
     "text": [
      " l\n"
     ]
    },
    {
     "name": "stdout",
     "output_type": "stream",
     "text": [
      "ds_rb.csv\n"
     ]
    },
    {
     "name": "stdin",
     "output_type": "stream",
     "text": [
      " r\n"
     ]
    },
    {
     "name": "stdout",
     "output_type": "stream",
     "text": [
      "ds_rb2.csv\n"
     ]
    },
    {
     "name": "stdin",
     "output_type": "stream",
     "text": [
      " r\n"
     ]
    },
    {
     "name": "stdout",
     "output_type": "stream",
     "text": [
      "ds_rt.csv\n"
     ]
    },
    {
     "name": "stdin",
     "output_type": "stream",
     "text": [
      " r\n"
     ]
    },
    {
     "name": "stdout",
     "output_type": "stream",
     "text": [
      "ds_rt2.csv\n"
     ]
    },
    {
     "name": "stdin",
     "output_type": "stream",
     "text": [
      " r\n"
     ]
    },
    {
     "name": "stdout",
     "output_type": "stream",
     "text": [
      "left.csv\n"
     ]
    },
    {
     "name": "stdin",
     "output_type": "stream",
     "text": [
      " l\n"
     ]
    },
    {
     "name": "stdout",
     "output_type": "stream",
     "text": [
      "right.csv\n"
     ]
    },
    {
     "name": "stdin",
     "output_type": "stream",
     "text": [
      " r\n"
     ]
    },
    {
     "name": "stdout",
     "output_type": "stream",
     "text": [
      "sample2.csv\n"
     ]
    },
    {
     "name": "stdin",
     "output_type": "stream",
     "text": [
      " r\n"
     ]
    },
    {
     "name": "stdout",
     "output_type": "stream",
     "text": [
      "up1.csv\n"
     ]
    },
    {
     "name": "stdin",
     "output_type": "stream",
     "text": [
      " o\n"
     ]
    },
    {
     "name": "stdout",
     "output_type": "stream",
     "text": [
      "up2.csv\n"
     ]
    },
    {
     "name": "stdin",
     "output_type": "stream",
     "text": [
      " o\n"
     ]
    }
   ],
   "source": [
    "'''\n",
    "test code 임의로 이미지 라벨링\n",
    "'''\n",
    "\n",
    "# csv_list = [pd.read_csv(f) for f in csv_flist]\n",
    "# print(csv_list.index)\n",
    "# for df in csv_list:\n",
    "#     print(str(df))\n",
    "#     df[\"direction\"] = input() \n",
    "#     df.to_csv(str(df))\n",
    "\n",
    "# for i in csv_flist:\n",
    "#     print(i)\n",
    "#     f = pd.read_csv(i)\n",
    "#     f[\"direction\"] = input()\n",
    "#     f.to_csv(i)"
   ]
  },
  {
   "cell_type": "code",
   "execution_count": 8,
   "id": "lasting-monroe",
   "metadata": {},
   "outputs": [],
   "source": [
    "combined_direction_csv = pd.concat([pd.read_csv(f) for f in csv_flist])\n",
    "combined_direction_csv = combined_direction_csv.drop(combined_direction_csv.columns[[0, 1, 2]], axis=1)\n",
    "combined_direction_csv.to_csv( \"combined_direction_csv.csv\", index=False, encoding='utf-8-sig')"
   ]
  },
  {
   "cell_type": "code",
   "execution_count": 9,
   "id": "anonymous-lightweight",
   "metadata": {},
   "outputs": [
    {
     "data": {
      "text/html": [
       "<div>\n",
       "<style scoped>\n",
       "    .dataframe tbody tr th:only-of-type {\n",
       "        vertical-align: middle;\n",
       "    }\n",
       "\n",
       "    .dataframe tbody tr th {\n",
       "        vertical-align: top;\n",
       "    }\n",
       "\n",
       "    .dataframe thead th {\n",
       "        text-align: right;\n",
       "    }\n",
       "</style>\n",
       "<table border=\"1\" class=\"dataframe\">\n",
       "  <thead>\n",
       "    <tr style=\"text-align: right;\">\n",
       "      <th></th>\n",
       "      <th>face</th>\n",
       "      <th>confidence</th>\n",
       "      <th>gaze_0_x</th>\n",
       "      <th>gaze_0_y</th>\n",
       "      <th>gaze_0_z</th>\n",
       "      <th>gaze_1_x</th>\n",
       "      <th>gaze_1_y</th>\n",
       "      <th>gaze_1_z</th>\n",
       "      <th>gaze_angle_x</th>\n",
       "      <th>gaze_angle_y</th>\n",
       "      <th>...</th>\n",
       "      <th>AU14_c</th>\n",
       "      <th>AU15_c</th>\n",
       "      <th>AU17_c</th>\n",
       "      <th>AU20_c</th>\n",
       "      <th>AU23_c</th>\n",
       "      <th>AU25_c</th>\n",
       "      <th>AU26_c</th>\n",
       "      <th>AU28_c</th>\n",
       "      <th>AU45_c</th>\n",
       "      <th>direction</th>\n",
       "    </tr>\n",
       "  </thead>\n",
       "  <tbody>\n",
       "    <tr>\n",
       "      <th>0</th>\n",
       "      <td>0</td>\n",
       "      <td>0.975</td>\n",
       "      <td>0.179348</td>\n",
       "      <td>0.285255</td>\n",
       "      <td>-0.941522</td>\n",
       "      <td>-0.233119</td>\n",
       "      <td>0.300690</td>\n",
       "      <td>-0.924792</td>\n",
       "      <td>-0.029</td>\n",
       "      <td>0.304</td>\n",
       "      <td>...</td>\n",
       "      <td>0.0</td>\n",
       "      <td>0.0</td>\n",
       "      <td>0.0</td>\n",
       "      <td>1.0</td>\n",
       "      <td>0.0</td>\n",
       "      <td>0.0</td>\n",
       "      <td>1.0</td>\n",
       "      <td>0.0</td>\n",
       "      <td>0.0</td>\n",
       "      <td>c</td>\n",
       "    </tr>\n",
       "    <tr>\n",
       "      <th>0</th>\n",
       "      <td>0</td>\n",
       "      <td>0.975</td>\n",
       "      <td>0.082859</td>\n",
       "      <td>0.389287</td>\n",
       "      <td>-0.917382</td>\n",
       "      <td>-0.333520</td>\n",
       "      <td>0.364557</td>\n",
       "      <td>-0.869404</td>\n",
       "      <td>-0.139</td>\n",
       "      <td>0.399</td>\n",
       "      <td>...</td>\n",
       "      <td>0.0</td>\n",
       "      <td>1.0</td>\n",
       "      <td>0.0</td>\n",
       "      <td>1.0</td>\n",
       "      <td>0.0</td>\n",
       "      <td>1.0</td>\n",
       "      <td>1.0</td>\n",
       "      <td>0.0</td>\n",
       "      <td>0.0</td>\n",
       "      <td>c</td>\n",
       "    </tr>\n",
       "    <tr>\n",
       "      <th>0</th>\n",
       "      <td>0</td>\n",
       "      <td>0.975</td>\n",
       "      <td>0.117509</td>\n",
       "      <td>0.152782</td>\n",
       "      <td>-0.981249</td>\n",
       "      <td>-0.287088</td>\n",
       "      <td>0.242902</td>\n",
       "      <td>-0.926596</td>\n",
       "      <td>-0.089</td>\n",
       "      <td>0.204</td>\n",
       "      <td>...</td>\n",
       "      <td>0.0</td>\n",
       "      <td>1.0</td>\n",
       "      <td>0.0</td>\n",
       "      <td>0.0</td>\n",
       "      <td>0.0</td>\n",
       "      <td>1.0</td>\n",
       "      <td>1.0</td>\n",
       "      <td>0.0</td>\n",
       "      <td>0.0</td>\n",
       "      <td>c</td>\n",
       "    </tr>\n",
       "    <tr>\n",
       "      <th>0</th>\n",
       "      <td>0</td>\n",
       "      <td>0.975</td>\n",
       "      <td>0.115496</td>\n",
       "      <td>0.274159</td>\n",
       "      <td>-0.954724</td>\n",
       "      <td>-0.122216</td>\n",
       "      <td>0.259011</td>\n",
       "      <td>-0.958111</td>\n",
       "      <td>-0.004</td>\n",
       "      <td>0.272</td>\n",
       "      <td>...</td>\n",
       "      <td>0.0</td>\n",
       "      <td>0.0</td>\n",
       "      <td>0.0</td>\n",
       "      <td>0.0</td>\n",
       "      <td>0.0</td>\n",
       "      <td>0.0</td>\n",
       "      <td>0.0</td>\n",
       "      <td>0.0</td>\n",
       "      <td>0.0</td>\n",
       "      <td>c</td>\n",
       "    </tr>\n",
       "    <tr>\n",
       "      <th>0</th>\n",
       "      <td>0</td>\n",
       "      <td>0.975</td>\n",
       "      <td>0.115496</td>\n",
       "      <td>0.274159</td>\n",
       "      <td>-0.954724</td>\n",
       "      <td>-0.122216</td>\n",
       "      <td>0.259011</td>\n",
       "      <td>-0.958111</td>\n",
       "      <td>-0.004</td>\n",
       "      <td>0.272</td>\n",
       "      <td>...</td>\n",
       "      <td>0.0</td>\n",
       "      <td>0.0</td>\n",
       "      <td>0.0</td>\n",
       "      <td>0.0</td>\n",
       "      <td>0.0</td>\n",
       "      <td>0.0</td>\n",
       "      <td>0.0</td>\n",
       "      <td>0.0</td>\n",
       "      <td>0.0</td>\n",
       "      <td>c</td>\n",
       "    </tr>\n",
       "  </tbody>\n",
       "</table>\n",
       "<p>5 rows × 712 columns</p>\n",
       "</div>"
      ],
      "text/plain": [
       "   face   confidence   gaze_0_x   gaze_0_y   gaze_0_z   gaze_1_x   gaze_1_y  \\\n",
       "0     0        0.975   0.179348   0.285255  -0.941522  -0.233119   0.300690   \n",
       "0     0        0.975   0.082859   0.389287  -0.917382  -0.333520   0.364557   \n",
       "0     0        0.975   0.117509   0.152782  -0.981249  -0.287088   0.242902   \n",
       "0     0        0.975   0.115496   0.274159  -0.954724  -0.122216   0.259011   \n",
       "0     0        0.975   0.115496   0.274159  -0.954724  -0.122216   0.259011   \n",
       "\n",
       "    gaze_1_z   gaze_angle_x   gaze_angle_y  ...   AU14_c   AU15_c   AU17_c  \\\n",
       "0  -0.924792         -0.029          0.304  ...      0.0      0.0      0.0   \n",
       "0  -0.869404         -0.139          0.399  ...      0.0      1.0      0.0   \n",
       "0  -0.926596         -0.089          0.204  ...      0.0      1.0      0.0   \n",
       "0  -0.958111         -0.004          0.272  ...      0.0      0.0      0.0   \n",
       "0  -0.958111         -0.004          0.272  ...      0.0      0.0      0.0   \n",
       "\n",
       "    AU20_c   AU23_c   AU25_c   AU26_c   AU28_c   AU45_c  direction  \n",
       "0      1.0      0.0      0.0      1.0      0.0      0.0          c  \n",
       "0      1.0      0.0      1.0      1.0      0.0      0.0          c  \n",
       "0      0.0      0.0      1.0      1.0      0.0      0.0          c  \n",
       "0      0.0      0.0      0.0      0.0      0.0      0.0          c  \n",
       "0      0.0      0.0      0.0      0.0      0.0      0.0          c  \n",
       "\n",
       "[5 rows x 712 columns]"
      ]
     },
     "execution_count": 9,
     "metadata": {},
     "output_type": "execute_result"
    }
   ],
   "source": [
    "combined_direction_csv.head()"
   ]
  },
  {
   "cell_type": "code",
   "execution_count": 27,
   "id": "pacific-stopping",
   "metadata": {},
   "outputs": [
    {
     "data": {
      "text/html": [
       "<div>\n",
       "<style scoped>\n",
       "    .dataframe tbody tr th:only-of-type {\n",
       "        vertical-align: middle;\n",
       "    }\n",
       "\n",
       "    .dataframe tbody tr th {\n",
       "        vertical-align: top;\n",
       "    }\n",
       "\n",
       "    .dataframe thead th {\n",
       "        text-align: right;\n",
       "    }\n",
       "</style>\n",
       "<table border=\"1\" class=\"dataframe\">\n",
       "  <thead>\n",
       "    <tr style=\"text-align: right;\">\n",
       "      <th></th>\n",
       "      <th>face</th>\n",
       "      <th>confidence</th>\n",
       "      <th>direction</th>\n",
       "      <th>gaze_0_x</th>\n",
       "      <th>gaze_0_y</th>\n",
       "      <th>gaze_0_z</th>\n",
       "      <th>gaze_1_x</th>\n",
       "      <th>gaze_1_y</th>\n",
       "      <th>gaze_1_z</th>\n",
       "      <th>gaze_angle_x</th>\n",
       "      <th>...</th>\n",
       "      <th>AU12_c</th>\n",
       "      <th>AU14_c</th>\n",
       "      <th>AU15_c</th>\n",
       "      <th>AU17_c</th>\n",
       "      <th>AU20_c</th>\n",
       "      <th>AU23_c</th>\n",
       "      <th>AU25_c</th>\n",
       "      <th>AU26_c</th>\n",
       "      <th>AU28_c</th>\n",
       "      <th>AU45_c</th>\n",
       "    </tr>\n",
       "  </thead>\n",
       "  <tbody>\n",
       "    <tr>\n",
       "      <th>0</th>\n",
       "      <td>0</td>\n",
       "      <td>0.975</td>\n",
       "      <td>c</td>\n",
       "      <td>0.179348</td>\n",
       "      <td>0.285255</td>\n",
       "      <td>-0.941522</td>\n",
       "      <td>-0.233119</td>\n",
       "      <td>0.300690</td>\n",
       "      <td>-0.924792</td>\n",
       "      <td>-0.029</td>\n",
       "      <td>...</td>\n",
       "      <td>0.0</td>\n",
       "      <td>0.0</td>\n",
       "      <td>0.0</td>\n",
       "      <td>0.0</td>\n",
       "      <td>1.0</td>\n",
       "      <td>0.0</td>\n",
       "      <td>0.0</td>\n",
       "      <td>1.0</td>\n",
       "      <td>0.0</td>\n",
       "      <td>0.0</td>\n",
       "    </tr>\n",
       "    <tr>\n",
       "      <th>0</th>\n",
       "      <td>0</td>\n",
       "      <td>0.975</td>\n",
       "      <td>c</td>\n",
       "      <td>0.082859</td>\n",
       "      <td>0.389287</td>\n",
       "      <td>-0.917382</td>\n",
       "      <td>-0.333520</td>\n",
       "      <td>0.364557</td>\n",
       "      <td>-0.869404</td>\n",
       "      <td>-0.139</td>\n",
       "      <td>...</td>\n",
       "      <td>0.0</td>\n",
       "      <td>0.0</td>\n",
       "      <td>1.0</td>\n",
       "      <td>0.0</td>\n",
       "      <td>1.0</td>\n",
       "      <td>0.0</td>\n",
       "      <td>1.0</td>\n",
       "      <td>1.0</td>\n",
       "      <td>0.0</td>\n",
       "      <td>0.0</td>\n",
       "    </tr>\n",
       "    <tr>\n",
       "      <th>0</th>\n",
       "      <td>0</td>\n",
       "      <td>0.975</td>\n",
       "      <td>c</td>\n",
       "      <td>0.117509</td>\n",
       "      <td>0.152782</td>\n",
       "      <td>-0.981249</td>\n",
       "      <td>-0.287088</td>\n",
       "      <td>0.242902</td>\n",
       "      <td>-0.926596</td>\n",
       "      <td>-0.089</td>\n",
       "      <td>...</td>\n",
       "      <td>0.0</td>\n",
       "      <td>0.0</td>\n",
       "      <td>1.0</td>\n",
       "      <td>0.0</td>\n",
       "      <td>0.0</td>\n",
       "      <td>0.0</td>\n",
       "      <td>1.0</td>\n",
       "      <td>1.0</td>\n",
       "      <td>0.0</td>\n",
       "      <td>0.0</td>\n",
       "    </tr>\n",
       "    <tr>\n",
       "      <th>0</th>\n",
       "      <td>0</td>\n",
       "      <td>0.975</td>\n",
       "      <td>c</td>\n",
       "      <td>0.115496</td>\n",
       "      <td>0.274159</td>\n",
       "      <td>-0.954724</td>\n",
       "      <td>-0.122216</td>\n",
       "      <td>0.259011</td>\n",
       "      <td>-0.958111</td>\n",
       "      <td>-0.004</td>\n",
       "      <td>...</td>\n",
       "      <td>0.0</td>\n",
       "      <td>0.0</td>\n",
       "      <td>0.0</td>\n",
       "      <td>0.0</td>\n",
       "      <td>0.0</td>\n",
       "      <td>0.0</td>\n",
       "      <td>0.0</td>\n",
       "      <td>0.0</td>\n",
       "      <td>0.0</td>\n",
       "      <td>0.0</td>\n",
       "    </tr>\n",
       "    <tr>\n",
       "      <th>0</th>\n",
       "      <td>0</td>\n",
       "      <td>0.975</td>\n",
       "      <td>c</td>\n",
       "      <td>0.115496</td>\n",
       "      <td>0.274159</td>\n",
       "      <td>-0.954724</td>\n",
       "      <td>-0.122216</td>\n",
       "      <td>0.259011</td>\n",
       "      <td>-0.958111</td>\n",
       "      <td>-0.004</td>\n",
       "      <td>...</td>\n",
       "      <td>0.0</td>\n",
       "      <td>0.0</td>\n",
       "      <td>0.0</td>\n",
       "      <td>0.0</td>\n",
       "      <td>0.0</td>\n",
       "      <td>0.0</td>\n",
       "      <td>0.0</td>\n",
       "      <td>0.0</td>\n",
       "      <td>0.0</td>\n",
       "      <td>0.0</td>\n",
       "    </tr>\n",
       "  </tbody>\n",
       "</table>\n",
       "<p>5 rows × 712 columns</p>\n",
       "</div>"
      ],
      "text/plain": [
       "   face   confidence direction   gaze_0_x   gaze_0_y   gaze_0_z   gaze_1_x  \\\n",
       "0     0        0.975         c   0.179348   0.285255  -0.941522  -0.233119   \n",
       "0     0        0.975         c   0.082859   0.389287  -0.917382  -0.333520   \n",
       "0     0        0.975         c   0.117509   0.152782  -0.981249  -0.287088   \n",
       "0     0        0.975         c   0.115496   0.274159  -0.954724  -0.122216   \n",
       "0     0        0.975         c   0.115496   0.274159  -0.954724  -0.122216   \n",
       "\n",
       "    gaze_1_y   gaze_1_z   gaze_angle_x  ...   AU12_c   AU14_c   AU15_c  \\\n",
       "0   0.300690  -0.924792         -0.029  ...      0.0      0.0      0.0   \n",
       "0   0.364557  -0.869404         -0.139  ...      0.0      0.0      1.0   \n",
       "0   0.242902  -0.926596         -0.089  ...      0.0      0.0      1.0   \n",
       "0   0.259011  -0.958111         -0.004  ...      0.0      0.0      0.0   \n",
       "0   0.259011  -0.958111         -0.004  ...      0.0      0.0      0.0   \n",
       "\n",
       "    AU17_c   AU20_c   AU23_c   AU25_c   AU26_c   AU28_c   AU45_c  \n",
       "0      0.0      1.0      0.0      0.0      1.0      0.0      0.0  \n",
       "0      0.0      1.0      0.0      1.0      1.0      0.0      0.0  \n",
       "0      0.0      0.0      0.0      1.0      1.0      0.0      0.0  \n",
       "0      0.0      0.0      0.0      0.0      0.0      0.0      0.0  \n",
       "0      0.0      0.0      0.0      0.0      0.0      0.0      0.0  \n",
       "\n",
       "[5 rows x 712 columns]"
      ]
     },
     "execution_count": 27,
     "metadata": {},
     "output_type": "execute_result"
    }
   ],
   "source": [
    "c0 = combined_direction_csv.columns[0:2].to_list()\n",
    "c1 = combined_direction_csv.columns[2:-1].to_list()\n",
    "c2 = combined_direction_csv.columns[-1:].to_list()\n",
    "ca = c0 + c2 + c1\n",
    "cd_csv = combined_direction_csv[ca]\n",
    "cd_csv.head()"
   ]
  },
  {
   "cell_type": "code",
   "execution_count": 28,
   "id": "peripheral-magnitude",
   "metadata": {},
   "outputs": [],
   "source": [
    "cd_csv.to_csv( \"cd_csv.csv\", index=False, encoding='utf-8-sig')"
   ]
  },
  {
   "cell_type": "code",
   "execution_count": 30,
   "id": "legal-sustainability",
   "metadata": {},
   "outputs": [
    {
     "ename": "ModuleNotFoundError",
     "evalue": "No module named 'kneed'",
     "output_type": "error",
     "traceback": [
      "\u001b[1;31m---------------------------------------------------------------------------\u001b[0m",
      "\u001b[1;31mModuleNotFoundError\u001b[0m                       Traceback (most recent call last)",
      "\u001b[1;32m<ipython-input-30-2b480584e5ac>\u001b[0m in \u001b[0;36m<module>\u001b[1;34m\u001b[0m\n\u001b[0;32m      1\u001b[0m \u001b[1;32mimport\u001b[0m \u001b[0mmatplotlib\u001b[0m\u001b[1;33m.\u001b[0m\u001b[0mpyplot\u001b[0m \u001b[1;32mas\u001b[0m \u001b[0mplt\u001b[0m\u001b[1;33m\u001b[0m\u001b[1;33m\u001b[0m\u001b[0m\n\u001b[1;32m----> 2\u001b[1;33m \u001b[1;32mfrom\u001b[0m \u001b[0mkneed\u001b[0m \u001b[1;32mimport\u001b[0m \u001b[0mKneeLocator\u001b[0m\u001b[1;33m\u001b[0m\u001b[1;33m\u001b[0m\u001b[0m\n\u001b[0m\u001b[0;32m      3\u001b[0m \u001b[1;32mfrom\u001b[0m \u001b[0msklearn\u001b[0m\u001b[1;33m.\u001b[0m\u001b[0mdatasets\u001b[0m \u001b[1;32mimport\u001b[0m \u001b[0mmake_blobs\u001b[0m\u001b[1;33m\u001b[0m\u001b[1;33m\u001b[0m\u001b[0m\n\u001b[0;32m      4\u001b[0m \u001b[1;32mfrom\u001b[0m \u001b[0msklearn\u001b[0m\u001b[1;33m.\u001b[0m\u001b[0mcluster\u001b[0m \u001b[1;32mimport\u001b[0m \u001b[0mKMeans\u001b[0m\u001b[1;33m\u001b[0m\u001b[1;33m\u001b[0m\u001b[0m\n\u001b[0;32m      5\u001b[0m \u001b[1;32mfrom\u001b[0m \u001b[0msklearn\u001b[0m\u001b[1;33m.\u001b[0m\u001b[0mmetrics\u001b[0m \u001b[1;32mimport\u001b[0m \u001b[0msilhouette_score\u001b[0m\u001b[1;33m\u001b[0m\u001b[1;33m\u001b[0m\u001b[0m\n",
      "\u001b[1;31mModuleNotFoundError\u001b[0m: No module named 'kneed'"
     ]
    }
   ],
   "source": [
    "import matplotlib.pyplot as plt\n",
    "from kneed import KneeLocator\n",
    "from sklearn.datasets import make_blobs\n",
    "from sklearn.cluster import KMeans\n",
    "from sklearn.metrics import silhouette_score\n",
    "from sklearn.preprocessing import StandardScaler"
   ]
  },
  {
   "cell_type": "code",
   "execution_count": null,
   "id": "pacific-blade",
   "metadata": {},
   "outputs": [],
   "source": []
  }
 ],
 "metadata": {
  "kernelspec": {
   "display_name": "Python 3.7",
   "language": "python",
   "name": "py37"
  },
  "language_info": {
   "codemirror_mode": {
    "name": "ipython",
    "version": 3
   },
   "file_extension": ".py",
   "mimetype": "text/x-python",
   "name": "python",
   "nbconvert_exporter": "python",
   "pygments_lexer": "ipython3",
   "version": "3.7.9"
  }
 },
 "nbformat": 4,
 "nbformat_minor": 5
}
