{
 "cells": [
  {
   "cell_type": "code",
   "execution_count": 2,
   "metadata": {},
   "outputs": [],
   "source": [
    "import os\n",
    "import pandas as pd\n",
    "import numpy as np \n",
    "import scipy as sc \n",
    "import matplotlib.pyplot as plt \n",
    "import seaborn as sns\n",
    "import statsmodels.api as sm\n",
    "from pandas import Series, DataFrame\n",
    "from sklearn.linear_model import Lasso, LassoCV\n",
    "sns.set(style=\"whitegrid\")\n",
    "%matplotlib inline"
   ]
  },
  {
   "cell_type": "code",
   "execution_count": 3,
   "metadata": {},
   "outputs": [],
   "source": [
    "def age_to_numeric(x):\n",
    "    if x=='초1':\n",
    "        return 1\n",
    "    if x=='초2':\n",
    "        return 2\n",
    "    if x=='초3':\n",
    "        return 3\n",
    "    if x=='초4':\n",
    "        return 4\n",
    "    if x=='초5':\n",
    "        return 5\n",
    "    if x=='초6':\n",
    "        return 6\n",
    "    if x=='중1':\n",
    "        return 7\n",
    "    \n",
    "def ID_to_IDNum(x):\n",
    "    temp = str(x).strip().split('_')\n",
    "    if len(temp) < 2:\n",
    "        return np.nan\n",
    "    return int(temp[2])"
   ]
  },
  {
   "cell_type": "code",
   "execution_count": 4,
   "metadata": {},
   "outputs": [],
   "source": [
    "# Child List \n",
    "\n",
    "list_child = pd.read_csv('./data/list.csv', encoding = \"euc_kr\", na_values = 'empty')\n",
    "list_child['IDNum'] = list_child['UID'].apply(ID_to_IDNum)\n",
    "list_child['AgeNum'] = list_child['Age'].apply(age_to_numeric)"
   ]
  },
  {
   "cell_type": "code",
   "execution_count": 5,
   "metadata": {},
   "outputs": [],
   "source": [
    "# Feature List \n",
    "# path = os.getcwd()\n",
    "# file = os.path.join(path, \"data\", 'fnirs_feature_0322.xlsx')\n",
    "# data_whole = pd.read_excel(open(file, 'rb'), sheet_name = 'ex_csv', header=1 )\n",
    "data_whole = pd.read_csv('./data/fnirs_feature_0322.csv', encoding = \"euc_kr\", na_values = 'empty')\n",
    "data_whole['age_num'] = data_whole['fnirs_age'].apply(age_to_numeric)\n",
    "data_whole.rename({'fnirs_idnum' : 'IDNum'}, inplace = True, axis = 'columns')"
   ]
  },
  {
   "cell_type": "code",
   "execution_count": 9,
   "metadata": {
    "scrolled": false
   },
   "outputs": [
    {
     "name": "stderr",
     "output_type": "stream",
     "text": [
      "C:\\Users\\OBELAB_JH_DESKTOP\\Anaconda3\\lib\\site-packages\\ipykernel_launcher.py:16: SettingWithCopyWarning: \n",
      "A value is trying to be set on a copy of a slice from a DataFrame.\n",
      "Try using .loc[row_indexer,col_indexer] = value instead\n",
      "\n",
      "See the caveats in the documentation: http://pandas.pydata.org/pandas-docs/stable/indexing.html#indexing-view-versus-copy\n",
      "  app.launch_new_instance()\n",
      "C:\\Users\\OBELAB_JH_DESKTOP\\Anaconda3\\lib\\site-packages\\ipykernel_launcher.py:17: SettingWithCopyWarning: \n",
      "A value is trying to be set on a copy of a slice from a DataFrame.\n",
      "Try using .loc[row_indexer,col_indexer] = value instead\n",
      "\n",
      "See the caveats in the documentation: http://pandas.pydata.org/pandas-docs/stable/indexing.html#indexing-view-versus-copy\n",
      "C:\\Users\\OBELAB_JH_DESKTOP\\Anaconda3\\lib\\site-packages\\ipykernel_launcher.py:50: SettingWithCopyWarning: \n",
      "A value is trying to be set on a copy of a slice from a DataFrame.\n",
      "Try using .loc[row_indexer,col_indexer] = value instead\n",
      "\n",
      "See the caveats in the documentation: http://pandas.pydata.org/pandas-docs/stable/indexing.html#indexing-view-versus-copy\n"
     ]
    },
    {
     "name": "stdout",
     "output_type": "stream",
     "text": [
      "fnirs_feature_HbO_brodmann7_taskAvg_block_avg    0.023559\n",
      "fnirs_feature_HbO_brodmann5_taskAvg_block_avg    0.071045\n",
      "fnirs_feature_HbO_brodmann3_taskAvg_block_avg    0.076222\n",
      "fnirs_feature_HbO_brodmann8_taskAvg_block_avg    0.591149\n",
      "fnirs_feature_HbO_brodmann4_taskAvg_block_avg    0.617647\n",
      "fnirs_feature_HbO_brodmann6_taskAvg_block_avg    0.633227\n",
      "fnirs_feature_HbO_right_taskAvg_block_avg        0.669810\n",
      "dtype: float64\n"
     ]
    },
    {
     "name": "stderr",
     "output_type": "stream",
     "text": [
      "C:\\Users\\OBELAB_JH_DESKTOP\\Anaconda3\\lib\\site-packages\\ipykernel_launcher.py:77: SettingWithCopyWarning: \n",
      "A value is trying to be set on a copy of a slice from a DataFrame.\n",
      "Try using .loc[row_indexer,col_indexer] = value instead\n",
      "\n",
      "See the caveats in the documentation: http://pandas.pydata.org/pandas-docs/stable/indexing.html#indexing-view-versus-copy\n",
      "C:\\Users\\OBELAB_JH_DESKTOP\\Anaconda3\\lib\\site-packages\\ipykernel_launcher.py:86: SettingWithCopyWarning: \n",
      "A value is trying to be set on a copy of a slice from a DataFrame.\n",
      "Try using .loc[row_indexer,col_indexer] = value instead\n",
      "\n",
      "See the caveats in the documentation: http://pandas.pydata.org/pandas-docs/stable/indexing.html#indexing-view-versus-copy\n"
     ]
    },
    {
     "name": "stdout",
     "output_type": "stream",
     "text": [
      "fnirs_feature_HbO_brodmann8_taskAvg_block_avg    0.036502\n",
      "fnirs_feature_HbO_brodmann5_taskAvg_block_avg    0.538613\n",
      "fnirs_feature_HbO_brodmann1_taskAvg_block_avg    0.557850\n",
      "fnirs_feature_HbO_all_taskAvg_block_avg          0.677517\n",
      "fnirs_feature_HbO_brodmann6_taskAvg_block_avg    0.692698\n",
      "fnirs_feature_HbO_brodmann2_taskAvg_block_avg    0.696405\n",
      "fnirs_feature_HbO_brodmann7_taskAvg_block_avg    0.780894\n",
      "fnirs_feature_HbO_brodmann4_taskAvg_block_avg    0.851227\n",
      "fnirs_feature_HbO_left_taskAvg_block_avg         0.917746\n",
      "dtype: float64\n"
     ]
    },
    {
     "name": "stderr",
     "output_type": "stream",
     "text": [
      "C:\\Users\\OBELAB_JH_DESKTOP\\Anaconda3\\lib\\site-packages\\ipykernel_launcher.py:10: SettingWithCopyWarning: \n",
      "A value is trying to be set on a copy of a slice from a DataFrame.\n",
      "Try using .loc[row_indexer,col_indexer] = value instead\n",
      "\n",
      "See the caveats in the documentation: http://pandas.pydata.org/pandas-docs/stable/indexing.html#indexing-view-versus-copy\n",
      "  # Remove the CWD from sys.path while we load stuff.\n",
      "C:\\Users\\OBELAB_JH_DESKTOP\\Anaconda3\\lib\\site-packages\\ipykernel_launcher.py:11: SettingWithCopyWarning: \n",
      "A value is trying to be set on a copy of a slice from a DataFrame.\n",
      "Try using .loc[row_indexer,col_indexer] = value instead\n",
      "\n",
      "See the caveats in the documentation: http://pandas.pydata.org/pandas-docs/stable/indexing.html#indexing-view-versus-copy\n",
      "  # This is added back by InteractiveShellApp.init_path()\n"
     ]
    },
    {
     "name": "stdout",
     "output_type": "stream",
     "text": [
      "fnirs_feature_HbO_brodmann4_taskAvg_block_avg    0.164142\n",
      "fnirs_feature_HbO_brodmann3_taskAvg_block_avg    0.240565\n",
      "fnirs_feature_HbO_brodmann7_taskAvg_block_avg    0.422418\n",
      "fnirs_feature_HbO_brodmann2_taskAvg_block_avg    0.589480\n",
      "fnirs_feature_HbO_brodmann8_taskAvg_block_avg    0.923529\n",
      "dtype: float64\n",
      "fnirs_feature_HbO_all_taskAvg_block_avg          0.402196\n",
      "fnirs_feature_HbO_brodmann8_taskAvg_block_avg    0.646150\n",
      "fnirs_feature_HbO_brodmann7_taskAvg_block_avg    0.683160\n",
      "fnirs_feature_HbO_brodmann6_taskAvg_block_avg    0.893124\n",
      "fnirs_feature_HbO_brodmann3_taskAvg_block_avg    0.910607\n",
      "dtype: float64\n",
      "fnirs_feature_HbO_left_taskAvg_block_avg     0.002925\n",
      "fnirs_feature_HbO_all_taskAvg_block_avg      0.503277\n",
      "fnirs_feature_HbO_right_taskAvg_block_avg    0.591235\n",
      "dtype: float64\n"
     ]
    }
   ],
   "source": [
    "## Feature selection\n",
    "for task in set(data_whole['fnirs_task']): \n",
    "    if task == 'REST' or task == 'CBTTF': #task가 REST와 CBTTF면 data_rest = data_whole.fnirs_task 가 rest와 cbttf를 그대로 가져온다.\n",
    "        continue\n",
    "    \n",
    "    data_rest = data_whole.query('fnirs_task == \"' + task + '\"') \n",
    "    \n",
    "    #Calculate Performance \n",
    "    if task == 'CBTTB': #CBTTB면 정답률을 가져오고, zscore는 nan이 아닌 데이터 평균/분산; temp는 zscore \n",
    "        data_rest[task + '_' + 'Performance'] = data_rest['fnirs_acc']\n",
    "        data_rest[task + '_' + 'Performance' + '_zscore'] = (data_rest[task + '_' + 'Performance'] - np.nanmean(data_rest[task + '_' + 'Performance'])) / np.nanstd(data_rest[task + '_' + 'Performance'])\n",
    "        temp = data_rest[task + '_' + 'Performance' + '_zscore']\n",
    "    elif task == 'VFT': # 행동데이터 없음\n",
    "        pass \n",
    "    else: #stroop/ gng는 정답에 반응 속도 나눔.\n",
    "        data_rest[task + '_Performance'] = data_rest['fnirs_acc'] / data_rest['fnirs_rt']\n",
    "        data_rest[task + '_Performance_zscore'] = (data_rest[task + '_' + 'Performance'] - np.nanmean(data_rest[task + '_' + 'Performance'])) / np.nanstd(data_rest[task + '_' + 'Performance'])\n",
    "    \n",
    "    # Save performance data to list_child, except VFT \n",
    "    if task != 'VFT':    \n",
    "        list_child = list_child.merge(data_rest[['IDNum', task + '_' + 'Performance', task + '_' + 'Performance' + '_zscore']], on = 'IDNum', how = 'outer')\n",
    "    \n",
    "    target_var = task + '_Performance_zscore'\n",
    "    \n",
    "    if task == 'VFT':\n",
    "        target_var = 'age_num'\n",
    "        \n",
    "    ### Feature selection 1 : Average \n",
    "    featureName = 'block_avg'\n",
    "    features = []\n",
    "    \n",
    "    for i in data_whole.columns:\n",
    "        if featureName in i and 'taskAvg' in i and 'HbO' in i:\n",
    "            features.append(i)\n",
    "    data_reduced = data_rest[features]\n",
    "    data_reduced.fillna(0, inplace = True) #  train 데이터 행렬 전처리\n",
    "    \n",
    "    X = sm.add_constant(data_reduced) #staticmodel 상수 정의 -- 필수 인지듯 보임.\n",
    "    y = data_rest[target_var]\n",
    "    mod = sm.OLS(y, X, missing = 'drop') \n",
    "    res = mod.fit()\n",
    "\n",
    "    temp_pvalues = res.pvalues[res.params > 0][1:]\n",
    "    temp_pvalues.sort_values(inplace=True)\n",
    "#     print(temp_pvalues)\n",
    "    feature_selected = temp_pvalues.index[0]\n",
    "#     print(featureName, temp_pvalues)\n",
    "    \n",
    "    ### 개인별 Feature score 1 : Average \n",
    "    data_final = data_rest[[feature_selected, 'IDNum']]\n",
    "    data_final[feature_selected + '_zscore'] = (data_final[feature_selected] - np.nanmean(data_final[feature_selected])) / np.nanstd(data_final[feature_selected])\n",
    "    data_final.rename({feature_selected + '_zscore' : task + '_' + featureName + '_zscore', feature_selected : task + '_' + feature_selected}, inplace = True, axis = 'columns')\n",
    "    list_child = list_child.merge(data_final, on = 'IDNum', how = 'outer')\n",
    "    \n",
    "    ### Feature selection 2 : Variance \n",
    "    featureName = 'block_variance'\n",
    "    features = []\n",
    "    \n",
    "    for i in data_whole.columns:\n",
    "        if featureName in i and 'taskAvg' in i and 'HbO' in i:\n",
    "            features.append(i)\n",
    "    \n",
    "    data_reduced = data_rest[features]\n",
    "    data_reduced.fillna(0, inplace = True)\n",
    "    \n",
    "    X = sm.add_constant(data_reduced)\n",
    "    y = data_rest[target_var]\n",
    "    mod = sm.OLS(y, X, missing = 'drop')\n",
    "    res = mod.fit()\n",
    "#     print(res.summary())\n",
    "    \n",
    "    temp_pvalues = res.pvalues[res.params < 0][1:]\n",
    "    temp_pvalues.sort_values(inplace=True)\n",
    "    feature_selected = temp_pvalues.index[0]\n",
    "#     print(featureName, temp_pvalues)\n",
    "    \n",
    "    ### individual score 2 : variance\n",
    "    data_final = data_rest[[feature_selected, 'IDNum']]\n",
    "    data_final[feature_selected + '_zscore'] = (data_final[feature_selected] - np.nanmean(data_final[feature_selected])) / np.nanstd(data_final[feature_selected])\n",
    "    data_final.rename({feature_selected + '_zscore' : task + '_' + featureName + '_zscore', feature_selected : task + '_' + feature_selected}, inplace = True, axis = 'columns')\n",
    "    list_child = list_child.merge(data_final, on = 'IDNum', how = 'outer')\n",
    "    \n",
    "    \n",
    "    ### Feature selection 3 : Connectivity \n",
    "    featureName = 'fnirs_feature_HbO_all_taskAvg_conn_conn_bin_con_den'\n",
    "    feature_selected = 'fnirs_feature_HbO_all_taskAvg_conn_conn_bin_con_den'\n",
    "    \n",
    "    ### individual score 3 : Connectivity\n",
    "    data_final = data_rest[[feature_selected, 'IDNum']]\n",
    "    data_final[feature_selected + '_zscore'] = (data_final[feature_selected] - np.nanmean(data_final[feature_selected])) / np.nanstd(data_final[feature_selected])\n",
    "    data_final.rename({feature_selected + '_zscore' : task + '_' + featureName + '_zscore', feature_selected : task + '_' + feature_selected}, inplace = True, axis = 'columns')\n",
    "    list_child = list_child.merge(data_final, on = 'IDNum', how = 'outer')"
   ]
  },
  {
   "cell_type": "code",
   "execution_count": 7,
   "metadata": {},
   "outputs": [],
   "source": [
    "for col in list_child.columns:\n",
    "    if 'zscore' in col:\n",
    "        cur100 = col.replace('zscore', '100')\n",
    "        temp = list_child[col]\n",
    "        ttt = 75 + 25 * temp\n",
    "        for idx in range(len(ttt)):\n",
    "            if ttt[idx] > 100:\n",
    "                ttt[idx] = 100\n",
    "            elif ttt[idx] < 50:\n",
    "                ttt[idx] = 50\n",
    "            \n",
    "        list_child[cur100] = ttt"
   ]
  },
  {
   "cell_type": "code",
   "execution_count": 27,
   "metadata": {},
   "outputs": [],
   "source": [
    "list_child.to_csv('20190410_Result.csv')"
   ]
  },
  {
   "cell_type": "code",
   "execution_count": 9,
   "metadata": {},
   "outputs": [],
   "source": [
    "list_child.to_excel('20190410_Result.xlsx')"
   ]
  },
  {
   "cell_type": "code",
   "execution_count": 8,
   "metadata": {},
   "outputs": [
    {
     "data": {
      "text/plain": [
       "Index(['Date', 'UID', 'Age', 'IDNum', 'AgeNum', 'STROOP_Performance',\n",
       "       'STROOP_Performance_zscore',\n",
       "       'STROOP_fnirs_feature_HbO_brodmann7_taskAvg_block_avg',\n",
       "       'STROOP_block_avg_zscore',\n",
       "       'STROOP_fnirs_feature_HbO_all_taskAvg_block_variance',\n",
       "       'STROOP_block_variance_zscore',\n",
       "       'STROOP_fnirs_feature_HbO_all_taskAvg_conn_conn_bin_con_den',\n",
       "       'STROOP_fnirs_feature_HbO_all_taskAvg_conn_conn_bin_con_den_zscore',\n",
       "       'VFT_fnirs_feature_HbO_brodmann8_taskAvg_block_avg',\n",
       "       'VFT_block_avg_zscore',\n",
       "       'VFT_fnirs_feature_HbO_right_taskAvg_block_variance',\n",
       "       'VFT_block_variance_zscore',\n",
       "       'VFT_fnirs_feature_HbO_all_taskAvg_conn_conn_bin_con_den',\n",
       "       'VFT_fnirs_feature_HbO_all_taskAvg_conn_conn_bin_con_den_zscore',\n",
       "       'CBTTB_Performance', 'CBTTB_Performance_zscore',\n",
       "       'CBTTB_fnirs_feature_HbO_brodmann4_taskAvg_block_avg',\n",
       "       'CBTTB_block_avg_zscore',\n",
       "       'CBTTB_fnirs_feature_HbO_all_taskAvg_block_variance',\n",
       "       'CBTTB_block_variance_zscore',\n",
       "       'CBTTB_fnirs_feature_HbO_all_taskAvg_conn_conn_bin_con_den',\n",
       "       'CBTTB_fnirs_feature_HbO_all_taskAvg_conn_conn_bin_con_den_zscore',\n",
       "       '2BACK_Performance', '2BACK_Performance_zscore',\n",
       "       '2BACK_fnirs_feature_HbO_all_taskAvg_block_avg',\n",
       "       '2BACK_block_avg_zscore',\n",
       "       '2BACK_fnirs_feature_HbO_brodmann8_taskAvg_block_variance',\n",
       "       '2BACK_block_variance_zscore',\n",
       "       '2BACK_fnirs_feature_HbO_all_taskAvg_conn_conn_bin_con_den',\n",
       "       '2BACK_fnirs_feature_HbO_all_taskAvg_conn_conn_bin_con_den_zscore',\n",
       "       'GNG_Performance', 'GNG_Performance_zscore',\n",
       "       'GNG_fnirs_feature_HbO_left_taskAvg_block_avg', 'GNG_block_avg_zscore',\n",
       "       'GNG_fnirs_feature_HbO_brodmann7_taskAvg_block_variance',\n",
       "       'GNG_block_variance_zscore',\n",
       "       'GNG_fnirs_feature_HbO_all_taskAvg_conn_conn_bin_con_den',\n",
       "       'GNG_fnirs_feature_HbO_all_taskAvg_conn_conn_bin_con_den_zscore',\n",
       "       'STROOP_Performance_100', 'STROOP_block_avg_100',\n",
       "       'STROOP_block_variance_100',\n",
       "       'STROOP_fnirs_feature_HbO_all_taskAvg_conn_conn_bin_con_den_100',\n",
       "       'VFT_block_avg_100', 'VFT_block_variance_100',\n",
       "       'VFT_fnirs_feature_HbO_all_taskAvg_conn_conn_bin_con_den_100',\n",
       "       'CBTTB_Performance_100', 'CBTTB_block_avg_100',\n",
       "       'CBTTB_block_variance_100',\n",
       "       'CBTTB_fnirs_feature_HbO_all_taskAvg_conn_conn_bin_con_den_100',\n",
       "       '2BACK_Performance_100', '2BACK_block_avg_100',\n",
       "       '2BACK_block_variance_100',\n",
       "       '2BACK_fnirs_feature_HbO_all_taskAvg_conn_conn_bin_con_den_100',\n",
       "       'GNG_Performance_100', 'GNG_block_avg_100', 'GNG_block_variance_100',\n",
       "       'GNG_fnirs_feature_HbO_all_taskAvg_conn_conn_bin_con_den_100'],\n",
       "      dtype='object')"
      ]
     },
     "execution_count": 8,
     "metadata": {},
     "output_type": "execute_result"
    }
   ],
   "source": [
    "list_child.columns"
   ]
  },
  {
   "cell_type": "code",
   "execution_count": null,
   "metadata": {},
   "outputs": [],
   "source": []
  }
 ],
 "metadata": {
  "kernelspec": {
   "display_name": "Python 3",
   "language": "python",
   "name": "python3"
  },
  "language_info": {
   "codemirror_mode": {
    "name": "ipython",
    "version": 3
   },
   "file_extension": ".py",
   "mimetype": "text/x-python",
   "name": "python",
   "nbconvert_exporter": "python",
   "pygments_lexer": "ipython3",
   "version": "3.7.1"
  }
 },
 "nbformat": 4,
 "nbformat_minor": 2
}
