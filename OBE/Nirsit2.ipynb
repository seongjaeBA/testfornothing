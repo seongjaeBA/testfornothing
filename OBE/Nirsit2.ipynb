{
 "cells": [
  {
   "cell_type": "markdown",
   "metadata": {},
   "source": [
    "# Nirsit 1차 정제 data - 개인 별 Nirsit raw data 정제해서 정리된 data"
   ]
  },
  {
   "cell_type": "raw",
   "metadata": {},
   "source": [
    "idnum : ID\n",
    "task : REST, VFT CBTTF, CBTTB, STROOP\n",
    "date : 측정 날짜\n",
    "name : 이름\n",
    "sex : 성별\n",
    "age : 연령\n",
    "inspector : 측정자\n",
    "acc : 과제 정확도\n",
    "rt : 과제 반응 시간\n",
    "move : 움직임\n",
    "    block:  블록 별 결과가 나옴 : rest1, control1, task1, rest2, control2, task2\n",
    "        값 : mean, var\n",
    "            좌표 : x, y, z\n",
    "feature : 변인 : avg, slope, variance, skewness, kurtosis, max, min, sum : 평균, slope, 분산, 왜도, 첨도, 최대값, 최소값, 전체합 값\n",
    "        block:  블록 별 결과가 나옴 : rest1, control1, task1, rest2, control2, task2, control_avg, task_avg : 과제 구성 및 평균치\n",
    "            영역 : brodmann1, brodmann2, brodmann3, brodmann4, brodmann5, brodmann6, brodmann7, brodmann8, right, left, all : brodmann 영역과 좌,우, 전체\n",
    "connectivity\n",
    "        block:  블록 별 결과가 나옴 : rest1, control1, task1, rest2, control2, task2, control_avg, task_avg : 과제 구성 및 평균치\n",
    "            영역 : brodmann1, brodmann2, brodmann3, brodmann4, brodmann5, brodmann6, brodmann7, brodmann8, right, left, all : brodmann 영역과 좌,우, 전체\n",
    "                값 : cpl, den, cce, leff : 모름, 강도, 모름, 모름"
   ]
  },
  {
   "cell_type": "markdown",
   "metadata": {},
   "source": [
    "# WJ 1ckTASK SCORE"
   ]
  },
  {
   "cell_type": "raw",
   "metadata": {},
   "source": [
    "No : 고유 번호\n",
    "검사일자 : yyyymmdd\n",
    "검사장소\n",
    "아동연구번호 : 부여 식별자\n",
    "아동명\n",
    "성별 : 한글 성별\n",
    "성별_1 : 남 1, 여 2\n",
    "학년 : 초x 학년 ---> age\n",
    "학년_1 : 1~7(초1~중1)\n",
    "생년월일 : yyyy-mm-dd\n",
    "월령\n",
    "연령(만:개월)\n",
    "연령 월\n",
    "검사자 ---> inspector\n",
    "TASK\n",
    "    UM\n",
    "        DIGIT : DSF, LDSF, DSB, LDSB, DS_Raw Score, DS_환산점수\n",
    "        CODING, SYMBOLICSEARCH : 유형, raw score, 환산점수\n",
    "        CCTT1,2 : raw, t score, %ile, 간섭 raw, 간섭 T, 간섭 %ile\n",
    "    OBE\n",
    "        CBTT(F/B), GNG, STROOP, 2BACK\n",
    "            acc, rt"
   ]
  },
  {
   "cell_type": "code",
   "execution_count": 6,
   "metadata": {},
   "outputs": [],
   "source": [
    "Index=['No.', '검사일자', '검사장소', '아동연구번호', '아동명', '성별', '성별_1', '학년', '학년_1',\n",
    "       '생년월일', '월령', '연령(만:개월)', '연령 월', '검사자', 'DSF', 'LDSF', 'DSB', 'LDSB',\n",
    "       'DS_Raw Score', 'DS_환산점수', '유형', 'Coding_Raw Score', 'Coding_환산점수',\n",
    "       'SymbolSearchRaw Score', 'SymbolSearch_환산점수', 'CCTT-1_Raw Socre',\n",
    "       'CCTT-1_T Score', 'CCTT-1_%ile', 'CCTT-2_Raw Socre', 'CCTT-2_T Score',\n",
    "       'CCTT-2_%ile', '간섭지표A_Raw Socre', '간섭지표A_%ile', '간섭지표B_Raw Socre',\n",
    "       '간섭지표B_T Score', '간섭지표B_%ile', 'CBTTF Accuracy(%)', 'CBTTB Accuracy(%)',\n",
    "       'GNG Accuracy(%)', 'GNG ReactionTime(s)', 'cong acc', 'cong rt',\n",
    "       'incong acc', 'incog_rt', 'Unnamed: 44', 'Unnamed: 45',\n",
    "       'STROOP Accuracy(%)', 'STROOP ReactionTime(s)', '2BACK Accuracy(%)',\n",
    "       '2BACK ReactionTime(s)']"
   ]
  },
  {
   "cell_type": "markdown",
   "metadata": {},
   "source": [
    "# Nirsit_kids data feature selection"
   ]
  },
  {
   "cell_type": "code",
   "execution_count": 4,
   "metadata": {},
   "outputs": [],
   "source": [
    "#package\n",
    "\n",
    "import os\n",
    "import pandas as pd\n",
    "import numpy as np\n",
    "import scipy as sp\n",
    "import matplotlib.pyplot as plt\n",
    "import seaborn as sns\n",
    "import statsmodels.api as sm\n",
    "import sklearn\n",
    "\n",
    "%matplotlib inline\n",
    "sns.set(style=\"whitegrid\")"
   ]
  },
  {
   "cell_type": "markdown",
   "metadata": {},
   "source": [
    "RAW data columns of lim"
   ]
  },
  {
   "cell_type": "raw",
   "metadata": {},
   "source": [
    "UID : 식별자\n",
    "IDNum : 숫자 ID\n",
    "Date : 측정 날짜\n",
    "Age : 학년(연령 : x학년) --> grade로 변환해도 괜찮음\n",
    "AgeNum : 학년(숫자) \n",
    "    task : STROOP, VFT, CBTTB, 2BACK, GNG\n",
    "        task 별 data : \n",
    "            performance : 과제 수행 원점수 : task reaction time 과 task accuracy;\n",
    "            Performance_zscore : 과제 수행 환산 점수 : 원점수 - 평균/분산;\n",
    "            fnirs_feature_HbO_(Area)_taskAvg_block_avg : OLS에서 feature 중에서 '양의 t score' 중 '가장 pvalue가 낮은' 지표 score;\n",
    "            block_avg_zscore : 위 점수의 환산 점수 : score - 평균/분산;\n",
    "            fnirs_feature_HbO_(Area)_taskAvg_block_variance : OLS에서 feature 중에서 '음의 t score' 중 '가장 pvalue가 낮은' 지표 score;\n",
    "            block_variance_zscore : 위 점수의 환산 점수 : score - 평균/분산;\n",
    "            fnirs_feature_HbO_all_taskAvg_conn_conn_bin_con_den : Connectivity 점수;\n",
    "            fnirs_feature_HbO_all_taskAvg_conn_conn_bin_con_den_zscore :  Connectivity 환산 점수;\n",
    "            Performance_100 : 100점 만점으로 표준화한 Performance_zscore;\n",
    "            block_avg_100 : 100점 만점으로 표준화한 block_avg_zscore;\n",
    "            block_variance_100 : 100점 만점으로 표준화한 block_variance_zscore;\n",
    "            fnirs_feature_HbO_all_taskAvg_conn_conn_bin_con_den_100 : 100점 만점으로 표준화한 fnirs_feature_HbO_all_taskAvg_conn_conn_bin_con_den_zscore;\n",
    "       "
   ]
  },
  {
   "cell_type": "code",
   "execution_count": 8,
   "metadata": {},
   "outputs": [],
   "source": [
    "eng_idx = ['Date', 'UID', 'Age', 'IDNum', 'AgeNum', 'STROOP_Performance',\n",
    "       'STROOP_Performance_zscore',\n",
    "       'STROOP_fnirs_feature_HbO_brodmann7_taskAvg_block_avg',\n",
    "       'STROOP_block_avg_zscore',\n",
    "       'STROOP_fnirs_feature_HbO_all_taskAvg_block_variance',\n",
    "       'STROOP_block_variance_zscore',\n",
    "       'STROOP_fnirs_feature_HbO_all_taskAvg_conn_conn_bin_con_den',\n",
    "       'STROOP_fnirs_feature_HbO_all_taskAvg_conn_conn_bin_con_den_zscore',\n",
    "       'VFT_fnirs_feature_HbO_brodmann8_taskAvg_block_avg',\n",
    "       'VFT_block_avg_zscore',\n",
    "       'VFT_fnirs_feature_HbO_right_taskAvg_block_variance',\n",
    "       'VFT_block_variance_zscore',\n",
    "       'VFT_fnirs_feature_HbO_all_taskAvg_conn_conn_bin_con_den',\n",
    "       'VFT_fnirs_feature_HbO_all_taskAvg_conn_conn_bin_con_den_zscore',\n",
    "       'CBTTB_Performance', 'CBTTB_Performance_zscore',\n",
    "       'CBTTB_fnirs_feature_HbO_brodmann4_taskAvg_block_avg',\n",
    "       'CBTTB_block_avg_zscore',\n",
    "       'CBTTB_fnirs_feature_HbO_all_taskAvg_block_variance',\n",
    "       'CBTTB_block_variance_zscore',\n",
    "       'CBTTB_fnirs_feature_HbO_all_taskAvg_conn_conn_bin_con_den',\n",
    "       'CBTTB_fnirs_feature_HbO_all_taskAvg_conn_conn_bin_con_den_zscore',\n",
    "       '2BACK_Performance', '2BACK_Performance_zscore',\n",
    "       '2BACK_fnirs_feature_HbO_all_taskAvg_block_avg',\n",
    "       '2BACK_block_avg_zscore',\n",
    "       '2BACK_fnirs_feature_HbO_brodmann8_taskAvg_block_variance',\n",
    "       '2BACK_block_variance_zscore',\n",
    "       '2BACK_fnirs_feature_HbO_all_taskAvg_conn_conn_bin_con_den',\n",
    "       '2BACK_fnirs_feature_HbO_all_taskAvg_conn_conn_bin_con_den_zscore',\n",
    "       'GNG_Performance', 'GNG_Performance_zscore',\n",
    "       'GNG_fnirs_feature_HbO_left_taskAvg_block_avg', 'GNG_block_avg_zscore',\n",
    "       'GNG_fnirs_feature_HbO_brodmann7_taskAvg_block_variance',\n",
    "       'GNG_block_variance_zscore',\n",
    "       'GNG_fnirs_feature_HbO_all_taskAvg_conn_conn_bin_con_den',\n",
    "       'GNG_fnirs_feature_HbO_all_taskAvg_conn_conn_bin_con_den_zscore',\n",
    "       'STROOP_Performance_100', 'STROOP_block_avg_100',\n",
    "       'STROOP_block_variance_100',\n",
    "       'STROOP_fnirs_feature_HbO_all_taskAvg_conn_conn_bin_con_den_100',\n",
    "       'VFT_block_avg_100', 'VFT_block_variance_100',\n",
    "       'VFT_fnirs_feature_HbO_all_taskAvg_conn_conn_bin_con_den_100',\n",
    "       'CBTTB_Performance_100', 'CBTTB_block_avg_100',\n",
    "       'CBTTB_block_variance_100',\n",
    "       'CBTTB_fnirs_feature_HbO_all_taskAvg_conn_conn_bin_con_den_100',\n",
    "       '2BACK_Performance_100', '2BACK_block_avg_100',\n",
    "       '2BACK_block_variance_100',\n",
    "       '2BACK_fnirs_feature_HbO_all_taskAvg_conn_conn_bin_con_den_100',\n",
    "       'GNG_Performance_100', 'GNG_block_avg_100', 'GNG_block_variance_100',\n",
    "       'GNG_fnirs_feature_HbO_all_taskAvg_conn_conn_bin_con_den_100']"
   ]
  },
  {
   "cell_type": "markdown",
   "metadata": {},
   "source": [
    "# 1차 보고서 그래프 data of B"
   ]
  },
  {
   "cell_type": "raw",
   "metadata": {},
   "source": [
    "IDNum\n",
    "Date : yymmdd\n",
    "name\n",
    "sex : 남/여\n",
    "Age : 초 x\n",
    "다각형 그리기 데이터 : 성장 곡선 데이터 학년 적용된 z-score\n",
    "    :REST(휴식 연결도), GNG(집중력), STROOP(실행능력), VFT(언어능력), 2BACK(작업기억력), CBTT(공간 기억력)\n",
    "성장 곡선 데이터 : 100점 만점 종합 평균\n",
    "    :REST(휴식 연결도), GNG(집중력), STROOP(실행능력), VFT(언어능력), 2BACK(작업기억력), CBTT(공간 기억력)\n",
    "점수 표시 : 다각형 데이터(학년 별 z score (0 미만, 0~1, 1 이상))\n",
    "    :REST(휴식 연결도), GNG(집중력), STROOP(실행능력), VFT(언어능력), 2BACK(작업기억력), CBTT(공간 기억력)\n",
    "바 그래프 : lim's data 100점 만점\n",
    "    :REST(휴식 연결도), GNG(집중력), STROOP(실행능력), VFT(언어능력), 2BACK(작업기억력), CBTT(공간 기억력), 종합 평균\n",
    "z score : lim's data\n",
    "    :REST(휴식 연결도), GNG(집중력), STROOP(실행능력), VFT(언어능력), 2BACK(작업기억력), CBTT(공간 기억력), 종합 평균\n",
    "평가 : lim's z score(0 미만, 0~1, 1 이상)\n",
    "    :REST(휴식 연결도), GNG(집중력), STROOP(실행능력), VFT(언어능력), 2BACK(작업기억력), CBTT(공간 기억력), 종합 평균"
   ]
  },
  {
   "cell_type": "code",
   "execution_count": 9,
   "metadata": {},
   "outputs": [],
   "source": [
    "### 그래프 그리기 "
   ]
  },
  {
   "cell_type": "markdown",
   "metadata": {},
   "source": [
    "# 레포트 기획\n"
   ]
  },
  {
   "cell_type": "markdown",
   "metadata": {},
   "source": [
    "## 1. 레포트 구성  "
   ]
  },
  {
   "cell_type": "markdown",
   "metadata": {},
   "source": [
    "### 1-1. 레포트 내용"
   ]
  },
  {
   "cell_type": "markdown",
   "metadata": {},
   "source": [
    "* 전체 집단 내 점수\n",
    "* 연령 * task * fnirs 데이터\n",
    "* 연령 * task 별 수행 점수"
   ]
  },
  {
   "cell_type": "markdown",
   "metadata": {},
   "source": [
    "### 1-2. 내용 순서 -- 목차"
   ]
  },
  {
   "cell_type": "markdown",
   "metadata": {},
   "source": [
    "* 표지\n",
    "* 목차"
   ]
  },
  {
   "cell_type": "markdown",
   "metadata": {},
   "source": [
    "### 1-3. 피규어"
   ]
  },
  {
   "cell_type": "markdown",
   "metadata": {},
   "source": [
    "#### 종류 : 그래프/ 이미지/ 멘트 박스/ 웅진 케릭터\n",
    "\n",
    "* fnirs 기반 : 뇌 활성화 점수, 동년배 뇌 활성화 정도, 개인 뇌 활성화 그래프\n",
    "* 과제 기반 : 과제 수행 점수\n",
    "\n",
    "#### 배치\n",
    "* 그래프, 이미지, 멘트 박스, 케릭터\n",
    "\n",
    "#### 멘트\n",
    "* 멘트에 사용될 단어(보고서를 보게될 주 고객층의 피드백이 있는지?)"
   ]
  },
  {
   "cell_type": "markdown",
   "metadata": {},
   "source": [
    "## 2. 레포트 양식"
   ]
  },
  {
   "cell_type": "markdown",
   "metadata": {},
   "source": [
    "### 2-1. 최종 배포 양식\n",
    "* PPT? PDF? 혹은 제 3의 양식이 필요한가?\n",
    "\n",
    "### 2-2. 레포트의 서식\n",
    "* 글꼴\n",
    "* 레포트 컬러\n",
    "* 레포트 크기와 양"
   ]
  },
  {
   "cell_type": "markdown",
   "metadata": {},
   "source": [
    "## 3. 일정"
   ]
  },
  {
   "cell_type": "markdown",
   "metadata": {},
   "source": [
    "* 1차 가안 - 1차 내부 피드백 - 1차 웅진 피드백 - 수정 - 확정(프로젝트 완료 일정)"
   ]
  },
  {
   "cell_type": "markdown",
   "metadata": {},
   "source": [
    "### 4. 웅진 피드백\n",
    "\n",
    "1. 지금까지 웅진의 요구사항은 무엇인가?\n",
    "2. 요구 사항에 구체적인 대안이 있는가?\n",
    "3. 요구 사항에 대하여 우리가 웅진에게 자료를 요청하면 어떤 자료를 받을 수 있고, 언제까지 받을 수 있는가?"
   ]
  }
 ],
 "metadata": {
  "kernelspec": {
   "display_name": "Python 3",
   "language": "python",
   "name": "python3"
  },
  "language_info": {
   "codemirror_mode": {
    "name": "ipython",
    "version": 3
   },
   "file_extension": ".py",
   "mimetype": "text/x-python",
   "name": "python",
   "nbconvert_exporter": "python",
   "pygments_lexer": "ipython3",
   "version": "3.7.1"
  }
 },
 "nbformat": 4,
 "nbformat_minor": 2
}
