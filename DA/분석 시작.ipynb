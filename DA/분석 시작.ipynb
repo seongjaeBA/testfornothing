{
 "cells": [
  {
   "cell_type": "code",
   "execution_count": 1,
   "id": "printable-cooking",
   "metadata": {},
   "outputs": [
    {
     "data": {
      "text/plain": [
       "'3.7.9 (default, Aug 31 2020, 17:10:11) [MSC v.1916 64 bit (AMD64)]'"
      ]
     },
     "execution_count": 1,
     "metadata": {},
     "output_type": "execute_result"
    }
   ],
   "source": [
    "import sys\n",
    "sys.version"
   ]
  },
  {
   "cell_type": "markdown",
   "id": "labeled-advocate",
   "metadata": {},
   "source": [
    "Data Analysis\n",
    "\n",
    "1. DB 구조 분석\n",
    "    1. 데이터 요구사항에 대한 분석 (결과 : 요구사항 명세서)\n",
    "    2. 개념 스키마 설계 (결과 : ERD)\n",
    "    3. 논리 스키마 설계 (결과 : 릴레이션 스키마의 테이블 명세서)\n",
    "    4. 내부 스키마 설계 (결과 : DB 스키마 생성 SQL 문)\n",
    "- 요구사항 분석하기\n",
    "- ERD 로 구조 파악\n",
    "    - 개체와 속성을 추출한다\n",
    "        - 대부분 명사로 선별한다\n",
    "    - 개체 간의 관계를 추출한다\n",
    "        - 대부분 동사로 선별한다 (개체간의 관계를 나타내는 동사이여야 한다)\n",
    "        - 관계에 속한 속성도 있을 수 있다\n",
    "        - 1:1, 1:N, N:M\n",
    "        - 필수적인 참여, 선택적인 참여\n",
    "- shema 파악\n",
    "    - entity-attribute\n",
    "\n",
    "|개체|속성| \n",
    "|----|----|  \n",
    "|A|A.a,A.b,A.c|  \n",
    "\n",
    "- relation\n",
    "    - 일대일(1:1), 일대다(1:N), 다대다(N:M)\n",
    "    - 관계 : 선택적인 관계, 필수적인 관계\n",
    "    \n",
    "    |관계|관계 개체| 관계 유형| 관계 속성|\n",
    "    |---|---|---|---|\n",
    "    |관계명|attribute|1:@|비고|\n",
    "\n",
    "join : 합집합, 교집합, 차집합\n",
    "\n",
    "2. 가설 단계\n",
    "\n",
    "3. EDA\n",
    "- uni data\n",
    "    - category\n",
    "    - quen\n",
    "    - time series\n",
    "- multi data\n",
    "\n",
    "\n",
    "3. prediction model\n",
    "- 모델 학습\n",
    "- 모델 핏"
   ]
  },
  {
   "cell_type": "code",
   "execution_count": null,
   "id": "postal-louisville",
   "metadata": {},
   "outputs": [],
   "source": []
  },
  {
   "cell_type": "code",
   "execution_count": null,
   "id": "documentary-commander",
   "metadata": {},
   "outputs": [],
   "source": []
  }
 ],
 "metadata": {
  "kernelspec": {
   "display_name": "Python 3.7",
   "language": "python",
   "name": "py37"
  },
  "language_info": {
   "codemirror_mode": {
    "name": "ipython",
    "version": 3
   },
   "file_extension": ".py",
   "mimetype": "text/x-python",
   "name": "python",
   "nbconvert_exporter": "python",
   "pygments_lexer": "ipython3",
   "version": "3.7.9"
  }
 },
 "nbformat": 4,
 "nbformat_minor": 5
}
