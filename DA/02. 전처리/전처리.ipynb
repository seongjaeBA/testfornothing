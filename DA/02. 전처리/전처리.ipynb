{
 "cells": [
  {
   "cell_type": "code",
   "execution_count": 25,
   "metadata": {},
   "outputs": [
    {
     "name": "stdout",
     "output_type": "stream",
     "text": [
      "    가열    나열    다열   라열   마열\n",
      "0  1.0   2.0   3.0  4.0  3.0\n",
      "1  5.0   6.0   NaN  8.0  4.0\n",
      "2  0.0  11.0  12.0  NaN  7.0\n",
      "3  1.0   7.5   3.0  7.0  3.0\n"
     ]
    },
    {
     "ename": "NameError",
     "evalue": "name 'join' is not defined",
     "output_type": "error",
     "traceback": [
      "\u001b[1;31m---------------------------------------------------------------------------\u001b[0m",
      "\u001b[1;31mNameError\u001b[0m                                 Traceback (most recent call last)",
      "\u001b[1;32m<ipython-input-25-af83a88bfed7>\u001b[0m in \u001b[0;36m<module>\u001b[1;34m\u001b[0m\n\u001b[0;32m     27\u001b[0m \u001b[1;33m\u001b[0m\u001b[0m\n\u001b[0;32m     28\u001b[0m \u001b[1;33m\u001b[0m\u001b[0m\n\u001b[1;32m---> 29\u001b[1;33m \u001b[0muser_details\u001b[0m\u001b[1;33m=\u001b[0m \u001b[0mpd\u001b[0m\u001b[1;33m.\u001b[0m\u001b[0mread_csv\u001b[0m\u001b[1;33m(\u001b[0m\u001b[0mjoin\u001b[0m\u001b[1;33m(\u001b[0m\u001b[0mdata_path\u001b[0m\u001b[1;33m,\u001b[0m \u001b[0mfiles_list\u001b[0m\u001b[1;33m[\u001b[0m\u001b[1;36m4\u001b[0m\u001b[1;33m]\u001b[0m\u001b[1;33m)\u001b[0m\u001b[1;33m,\u001b[0m \u001b[0msep\u001b[0m\u001b[1;33m=\u001b[0m\u001b[1;34m'delimiter'\u001b[0m\u001b[1;33m,\u001b[0m\u001b[0mencoding\u001b[0m\u001b[1;33m=\u001b[0m\u001b[1;34m\"utf-8\"\u001b[0m\u001b[1;33m)\u001b[0m\u001b[1;33m\u001b[0m\u001b[1;33m\u001b[0m\u001b[0m\n\u001b[0m\u001b[0;32m     30\u001b[0m \u001b[1;33m\u001b[0m\u001b[0m\n\u001b[0;32m     31\u001b[0m \u001b[1;33m\u001b[0m\u001b[0m\n",
      "\u001b[1;31mNameError\u001b[0m: name 'join' is not defined"
     ]
    }
   ],
   "source": [
    "import pandas as pd\n",
    "\n",
    "### 0. 데이터 불러오기\n",
    "# pd.read_csv('https://raw.githubusercontent.com/datascienceschool/docker_rpython/master/data/titanic.csv',\n",
    "#             names=['c1', 'c2', 'c3'], \n",
    "#             index=False, index_col='c1', \n",
    "#             skiprows=[0, 1],\n",
    "#             na_values=['누락'], na_rep='누락')\n",
    "\n",
    "pd.read_csv('https://raw.githubusercontent.com/datascienceschool/docker_rpython/master/data/titanic.csv')\n",
    "# 인덱스 수정에 대한 추가 정보는 https://datascienceschool.net/view-notebook/a49bde24674a46699639c1fa9bb7e213/\n",
    "### 0-1  그 외 패키지 pandas_datareader\n",
    "\n",
    "### 1. 결측값 처리 - 기댓값 최대화 알고리즘(E-M 알고리즘)\n",
    "\n",
    "from io import StringIO\n",
    "csv_dat = '''가열,나열,다열,라열,마열\n",
    "1.0,2.0,3.0,4.0,3.0\n",
    "5.0,6.0,,8.0, 4.0\n",
    "0.0,11.0,12.0,,7.0\n",
    "1.0,7.5,3.0,7.0,3.0'''\n",
    "###csv_dat = unicode(csv_dat) # 파이썬 2.7 계열인 경우 필요하다.\n",
    "df = pd.read_csv(StringIO(csv_dat)) # 데이터 읽어오기 / 위는 임의의 데이터\n",
    "print(df)\n",
    "\n",
    "df.values # df의 배열\n",
    "\n",
    "\n",
    "user_details= pd.read_csv(join(data_path, files_list[4]), sep='delimiter',encoding=\"utf-8\")\n",
    "\n",
    "\n",
    "\n"
   ]
  },
  {
   "cell_type": "code",
   "execution_count": 37,
   "metadata": {},
   "outputs": [
    {
     "data": {
      "text/plain": [
       "-1"
      ]
     },
     "execution_count": 37,
     "metadata": {},
     "output_type": "execute_result"
    }
   ],
   "source": []
  },
  {
   "cell_type": "code",
   "execution_count": 73,
   "metadata": {},
   "outputs": [],
   "source": [
    "def solution(office, r, c, move):\n",
    "    answer = 0\n",
    "    office_loc = pd.DataFrame(office)\n",
    "    #location setting\n",
    "    location = [r,c]\n",
    "    answer = office_loc.iloc[location[0],location[1]]\n",
    "    office_loc.iloc[location[0],location[1]] = 0\n",
    "    print(location)\n",
    "    print(answer)\n",
    "    print(office_loc.iloc[r,c])\n",
    "    #direction\n",
    "    directions = {'up' : [-1,0], 'left' : [0,-1], 'down' : [1,0], 'right' : [0,1]}\n",
    "    d = 0\n",
    "    #move\n",
    "    for m in move :\n",
    "        print(m)\n",
    "        if m == 'go':\n",
    "            location = [location[i] + directions[list(directions.keys())[d]][i] for i in range(len(location))]\n",
    "            if office_loc.iloc[location[0],location[1]] == -1 or location[0] <0 or location[1]<0 :\n",
    "                location = [location[i] - directions[list(directions.keys())[d]][i] for i in range(len(location))]\n",
    "            else:\n",
    "                answer += office_loc.iloc[location[0],location[1]]\n",
    "                office_loc.iloc[location[0],location[1]] = 0\n",
    "        elif m == 'left':\n",
    "            d += 1\n",
    "        elif m == 'right' :\n",
    "            d -= 1\n",
    "        \n",
    "    return answer"
   ]
  },
  {
   "cell_type": "code",
   "execution_count": 76,
   "metadata": {},
   "outputs": [],
   "source": [
    "def solution(office, r, c, move):\n",
    "    answer = 0\n",
    "    #location setting\n",
    "    location = [r,c]\n",
    "    answer = office[location[0]][location[1]]\n",
    "    office[location[0]][location[1]] = 0\n",
    "    print(location)\n",
    "    print(answer)\n",
    "    print(office[r][c])\n",
    "    #direction\n",
    "    directions = {'up' : [-1,0], 'left' : [0,-1], 'down' : [1,0], 'right' : [0,1]}\n",
    "    d = 0\n",
    "    #move\n",
    "    for m in move :\n",
    "        print(m)\n",
    "        if m == 'go':\n",
    "            location = [location[i] + directions[list(directions.keys())[d]][i] for i in range(len(location))]\n",
    "            if office[location[0]][location[1]] == -1 or location[0] <0 or location[1]<0 :\n",
    "                location = [location[i] - directions[list(directions.keys())[d]][i] for i in range(len(location))]\n",
    "            else:\n",
    "                answer += office[location[0]][location[1]]\n",
    "                office[location[0]][location[1]] = 0\n",
    "        elif m == 'left':\n",
    "            d += 1\n",
    "        elif m == 'right' :\n",
    "            d -= 1\n",
    "        \n",
    "    return answer"
   ]
  },
  {
   "cell_type": "code",
   "execution_count": 83,
   "metadata": {},
   "outputs": [
    {
     "name": "stdout",
     "output_type": "stream",
     "text": [
      "3\n",
      "[1, 0]\n",
      "6\n",
      "0\n",
      "go\n",
      "go\n",
      "right\n",
      "go\n",
      "right\n",
      "go\n",
      "left\n",
      "go\n"
     ]
    },
    {
     "data": {
      "text/plain": [
       "14"
      ]
     },
     "execution_count": 83,
     "metadata": {},
     "output_type": "execute_result"
    }
   ],
   "source": [
    "office = [[5, -1, 4], [6, 3, -1], [2, -1, 1]]\n",
    "r = 1\n",
    "c= 0\n",
    "move = [\"go\", \"go\", \"right\", \"go\", \"right\", \"go\", \"left\", \"go\"]\n",
    "print(len(office))     \n",
    "\n",
    "solution(office, r, c, move)"
   ]
  },
  {
   "cell_type": "code",
   "execution_count": 108,
   "metadata": {},
   "outputs": [
    {
     "name": "stdout",
     "output_type": "stream",
     "text": [
      "[1, 4, 8, 10, 15, 20, 30]\n",
      "[1, 4, 8]\n",
      "30\n"
     ]
    }
   ],
   "source": [
    "a = [20, 8, 10, 1, 4, 15, 30]\n",
    "result  = []\n",
    "a.sort()\n",
    "half = int(len(a)/2)\n",
    "print(a)\n",
    "min_list = a[:half]\n",
    "max_list = a[half:]\n",
    "print(min_list)\n",
    "print(max(max_list))"
   ]
  },
  {
   "cell_type": "code",
   "execution_count": null,
   "metadata": {},
   "outputs": [],
   "source": []
  },
  {
   "cell_type": "code",
   "execution_count": 69,
   "metadata": {},
   "outputs": [
    {
     "data": {
      "text/plain": [
       "[1, 0]"
      ]
     },
     "execution_count": 69,
     "metadata": {},
     "output_type": "execute_result"
    }
   ],
   "source": [
    "direction = {'up' : [1,0], 'left' : [0,-1], 'down' : [-1,0], 'right' : [0,1]}\n",
    "direction[list(direction.keys())[0]]"
   ]
  },
  {
   "cell_type": "code",
   "execution_count": 6,
   "metadata": {},
   "outputs": [
    {
     "ename": "SyntaxError",
     "evalue": "invalid syntax (<ipython-input-6-c064fae466b5>, line 10)",
     "output_type": "error",
     "traceback": [
      "\u001b[1;36m  File \u001b[1;32m\"<ipython-input-6-c064fae466b5>\"\u001b[1;36m, line \u001b[1;32m10\u001b[0m\n\u001b[1;33m    df.replace([,,],[,,])\u001b[0m\n\u001b[1;37m                ^\u001b[0m\n\u001b[1;31mSyntaxError\u001b[0m\u001b[1;31m:\u001b[0m invalid syntax\n"
     ]
    }
   ],
   "source": [
    "df.isnull().sum() # df = null 을 sum\n",
    "\n",
    "### 결측값 제거\n",
    "\n",
    "df.dropna() # 결측값 제거 drop na\n",
    "'''thresh=3, subset=['나열'], how='all', axis = ? 로 정하여 사용 가능'''\n",
    "df.dropna(axis=0, how='all', thresh=None, subset= None, inplace = False)\n",
    "df.drop(labels=None, axis=0, index=None, columns=None, level=None, inplace=False, errors='raise')\n",
    "df.drop_duplicates(subset='', keep='last', inplace = true)\n",
    "df.mask(where##np\n",
    "### 결측값 대치\n",
    "\n",
    "df.replace(['','',''],[np.nan,np.nan,np.nan])"
   ]
  },
  {
   "cell_type": "code",
   "execution_count": 2,
   "metadata": {},
   "outputs": [
    {
     "data": {
      "text/plain": [
       "dict_items([('__header__', b'MATLAB 5.0 MAT-file, Platform: PCWIN64, Created on: Fri Sep 08 13:53:12 2017'), ('__version__', '1.0'), ('__globals__', []), ('faces', array([[     2,      1,      7],\n",
       "       [     7,      8,      2],\n",
       "       [   186,      1,    187],\n",
       "       ...,\n",
       "       [296192, 296178, 296185],\n",
       "       [296794, 296178, 297430],\n",
       "       [297430, 296178, 296192]])), ('vertices', array([[-8.00349983e-02,  7.56397976e-03,  5.75316543e-02],\n",
       "       [-8.01474566e-02,  8.35255177e-03,  5.73143500e-02],\n",
       "       [-8.02328942e-02,  9.24216997e-03,  5.70168796e-02],\n",
       "       ...,\n",
       "       [ 7.68914960e-02, -1.17900330e-05,  1.66907871e-02],\n",
       "       [ 7.64176562e-02, -1.76043251e-04,  1.56237322e-02],\n",
       "       [ 7.58013051e-02, -7.64329814e-04,  1.40110437e-02]])), ('scale', array([[4]], dtype=uint8)), ('n_elem', array([[15360]], dtype=uint16)), ('face_matching_dot', array([[0],\n",
       "       [0],\n",
       "       [0],\n",
       "       ...,\n",
       "       [0],\n",
       "       [0],\n",
       "       [0]], dtype=uint16))])"
      ]
     },
     "execution_count": 2,
     "metadata": {},
     "output_type": "execute_result"
    }
   ],
   "source": [
    "import scipy.io\n",
    "import numpy as np\n",
    "import pandas as pd\n",
    "\n",
    "data = scipy.io.loadmat('C:/Users/OBELAB_JH_DESKTOP/Documents/GitHub/Data_AnalysisTool/ActivationMap/brainmodel.mat')\n",
    "\n",
    "data.items()"
   ]
  },
  {
   "cell_type": "code",
   "execution_count": 3,
   "metadata": {},
   "outputs": [
    {
     "data": {
      "text/plain": [
       "dict_keys(['__header__', '__version__', '__globals__', 'faces', 'vertices', 'scale', 'n_elem', 'face_matching_dot'])"
      ]
     },
     "execution_count": 3,
     "metadata": {},
     "output_type": "execute_result"
    }
   ],
   "source": [
    "data.keys()"
   ]
  },
  {
   "cell_type": "code",
   "execution_count": 4,
   "metadata": {},
   "outputs": [
    {
     "data": {
      "text/plain": [
       "[]"
      ]
     },
     "execution_count": 4,
     "metadata": {},
     "output_type": "execute_result"
    }
   ],
   "source": [
    "data.pop('__header__', '__version__')\n",
    "data.pop('__globals__')"
   ]
  },
  {
   "cell_type": "code",
   "execution_count": 5,
   "metadata": {},
   "outputs": [
    {
     "data": {
      "text/plain": [
       "dict_keys(['__version__', 'faces', 'vertices', 'scale', 'n_elem', 'face_matching_dot'])"
      ]
     },
     "execution_count": 5,
     "metadata": {},
     "output_type": "execute_result"
    }
   ],
   "source": [
    "data.keys()"
   ]
  },
  {
   "cell_type": "code",
   "execution_count": 6,
   "metadata": {},
   "outputs": [
    {
     "data": {
      "text/plain": [
       "'1.0'"
      ]
     },
     "execution_count": 6,
     "metadata": {},
     "output_type": "execute_result"
    }
   ],
   "source": [
    "data.pop('__version__')"
   ]
  },
  {
   "cell_type": "code",
   "execution_count": 7,
   "metadata": {},
   "outputs": [
    {
     "data": {
      "text/plain": [
       "dict_keys(['faces', 'vertices', 'scale', 'n_elem', 'face_matching_dot'])"
      ]
     },
     "execution_count": 7,
     "metadata": {},
     "output_type": "execute_result"
    }
   ],
   "source": [
    "data.keys()"
   ]
  },
  {
   "cell_type": "code",
   "execution_count": null,
   "metadata": {},
   "outputs": [],
   "source": [
    "str.replace()"
   ]
  },
  {
   "cell_type": "code",
   "execution_count": 8,
   "metadata": {},
   "outputs": [],
   "source": [
    "# import scipy.io\n",
    "from scipy.io import loadmat\n",
    "import numpy as np\n",
    "import pandas as pd\n",
    "import xlsxwriter\n",
    "\n",
    "\n",
    "\n",
    "# mat = scipy.io.loadmat('C:/Users/OBELAB_JH_DESKTOP/Documents/GitHub/Data_AnalysisTool/ActivationMap/brainmodel.mat')\n",
    "mat = loadmat('C:/Users/OBELAB_JH_DESKTOP/Documents/GitHub/Data_AnalysisTool/ActivationMap/brainmodel.mat')\n",
    "\n",
    "# for i in mat:\n",
    "#     if '__' not in i and 'readme' not in i:\n",
    "#           np.savetxt((\"file.csv\"),mat[i],delimiter=',')\n",
    "\n",
    "\n",
    "# mat.pop('__header__')\n",
    "# mat.pop('__version__')\n",
    "# mat.pop('__globals__')\n",
    "\n",
    "\n",
    "workbook =  xlsxwriter.Workbook('brainmodel.xlsx')\n",
    "worksheet = workbook.add_worksheet()\n",
    "\n",
    "row = 0\n",
    "col = 0"
   ]
  },
  {
   "cell_type": "code",
   "execution_count": 9,
   "metadata": {},
   "outputs": [
    {
     "data": {
      "text/plain": [
       "str"
      ]
     },
     "execution_count": 9,
     "metadata": {},
     "output_type": "execute_result"
    }
   ],
   "source": [
    "a = \"abc\"\n",
    "type(a)"
   ]
  },
  {
   "cell_type": "code",
   "execution_count": 10,
   "metadata": {},
   "outputs": [
    {
     "ename": "SyntaxError",
     "evalue": "invalid syntax (<ipython-input-10-055793600d55>, line 5)",
     "output_type": "error",
     "traceback": [
      "\u001b[1;36m  File \u001b[1;32m\"<ipython-input-10-055793600d55>\"\u001b[1;36m, line \u001b[1;32m5\u001b[0m\n\u001b[1;33m    if v.type\u001b[0m\n\u001b[1;37m             ^\u001b[0m\n\u001b[1;31mSyntaxError\u001b[0m\u001b[1;31m:\u001b[0m invalid syntax\n"
     ]
    }
   ],
   "source": [
    "for k in mat.keys():\n",
    "    row += 1\n",
    "    worksheet.write(row, col, k)\n",
    "    for v in mat[k]:\n",
    "        if v.type\n",
    "        worksheet.write(row, col + 1, v)\n",
    "        row += 1\n",
    "        \n",
    "workbook.close()"
   ]
  },
  {
   "cell_type": "code",
   "execution_count": null,
   "metadata": {},
   "outputs": [],
   "source": [
    "# outlier\n",
    "\n",
    "IQR\n",
    "Z-score\n",
    "MAD"
   ]
  },
  {
   "cell_type": "markdown",
   "metadata": {},
   "source": [
    "# 이산 변수 casting"
   ]
  },
  {
   "cell_type": "code",
   "execution_count": null,
   "metadata": {},
   "outputs": [],
   "source": [
    "df[].cat.codes"
   ]
  }
 ],
 "metadata": {
  "kernelspec": {
   "display_name": "Python 3",
   "language": "python",
   "name": "python3"
  },
  "language_info": {
   "codemirror_mode": {
    "name": "ipython",
    "version": 3
   },
   "file_extension": ".py",
   "mimetype": "text/x-python",
   "name": "python",
   "nbconvert_exporter": "python",
   "pygments_lexer": "ipython3",
   "version": "3.8.5"
  }
 },
 "nbformat": 4,
 "nbformat_minor": 4
}
