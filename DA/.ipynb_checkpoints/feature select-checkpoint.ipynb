{
 "cells": [
  {
   "cell_type": "code",
   "execution_count": null,
   "metadata": {},
   "outputs": [],
   "source": [
    "##01 pca\n",
    "\"\"\"\n",
    "PCA (Principal Component Analysis) 주성분분석 : feature 간의 covariance를 계산하여 각 데이터가 가장 퍼진 축을 principal component (즉, feature 간의 서로 다른 특성을 가장 잘 보존하는 중요한 축)으로 가정하여, 해당 축에 데이터를 projection (투사)하여 차원을 감소시킴. 아래 그림은 covariance matrix의 eigen vector를 나타냄. 즉, 고유벡터1이 해당 분포의 공분산을 가장 잘 보존하는 축임. 자세한 설명은 이후에 따로 Dimensionality reduction 챕터에서 다룰 예정임.\n",
    "\"\"\""
   ]
  },
  {
   "cell_type": "code",
   "execution_count": 1,
   "metadata": {},
   "outputs": [],
   "source": [
    "## biplot"
   ]
  },
  {
   "cell_type": "code",
   "execution_count": null,
   "metadata": {},
   "outputs": [],
   "source": [
    "## SVD(Singular Value Decomposition)\n",
    "\n",
    "\"\"\"\n",
    "SVD를 이용해 임의의 행렬 A를 정보량에 따라 여러 layer로 쪼개서 생각할 수 있게 해줌. 기존의 분해되어 있던 A 행렬을 특이값 p개만을 이용해 A’라는 행렬로 ‘부분 복원’ 할 수 있음. 특이값의 크기에 따라 A의 정보량이 결정되기 때문에 값이 큰 몇 개의 특이값들을 가지고도 충분히 유용한 정보를 유지할 수 있음. 자세한 설명은 이후에 따로 Dimensionality reduction 챕터에서 다룰 예정임.\n",
    "\"\"\"\n",
    "\n",
    "import seaborn as sns\n",
    "\n",
    "sns.distplot(df[col])\n",
    "\n",
    "import numpy as np\n",
    "np.log(df[col]) # log transformation\n",
    "np.sqrt(df[col]) # sqrt transformation\n",
    "\n",
    "\n",
    "#Categorical feature encoding\n",
    "## 데이터프레임에서 object 타입으로 되어있는 변수는 dummy 변수화\n",
    "pd.get_dummies(df)\n",
    "\n",
    "# 특정 컬럼에 대해서만 dummy 변수화한 df 반환\n",
    "pd.get_dummies(df['colA'])\n",
    "pd.get_dummies(df[['colA']]) #대괄호가 두번 들어가면 prefix로 변수명이 붙어서 반환\n",
    "\n",
    "# sklearn 사용하기\n",
    "from sklearn.preprocessing import OneHotEncoder\n",
    "\n",
    "onehotencoder = OneHotEncoder()\n",
    "df[col] = onehotencoder.fit_transform(df[col])"
   ]
  }
 ],
 "metadata": {
  "kernelspec": {
   "display_name": "Python 3",
   "language": "python",
   "name": "python3"
  },
  "language_info": {
   "codemirror_mode": {
    "name": "ipython",
    "version": 3
   },
   "file_extension": ".py",
   "mimetype": "text/x-python",
   "name": "python",
   "nbconvert_exporter": "python",
   "pygments_lexer": "ipython3",
   "version": "3.8.3"
  }
 },
 "nbformat": 4,
 "nbformat_minor": 4
}
