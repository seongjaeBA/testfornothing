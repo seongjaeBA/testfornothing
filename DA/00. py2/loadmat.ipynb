{
 "cells": [
  {
   "cell_type": "code",
   "execution_count": 2,
   "metadata": {},
   "outputs": [
    {
     "data": {
      "text/plain": [
       "dict_items([('__header__', b'MATLAB 5.0 MAT-file, Platform: PCWIN64, Created on: Fri Sep 08 13:53:12 2017'), ('__version__', '1.0'), ('__globals__', []), ('faces', array([[     2,      1,      7],\n",
       "       [     7,      8,      2],\n",
       "       [   186,      1,    187],\n",
       "       ...,\n",
       "       [296192, 296178, 296185],\n",
       "       [296794, 296178, 297430],\n",
       "       [297430, 296178, 296192]])), ('vertices', array([[-8.00349983e-02,  7.56397976e-03,  5.75316543e-02],\n",
       "       [-8.01474566e-02,  8.35255177e-03,  5.73143500e-02],\n",
       "       [-8.02328942e-02,  9.24216997e-03,  5.70168796e-02],\n",
       "       ...,\n",
       "       [ 7.68914960e-02, -1.17900330e-05,  1.66907871e-02],\n",
       "       [ 7.64176562e-02, -1.76043251e-04,  1.56237322e-02],\n",
       "       [ 7.58013051e-02, -7.64329814e-04,  1.40110437e-02]])), ('scale', array([[4]], dtype=uint8)), ('n_elem', array([[15360]], dtype=uint16)), ('face_matching_dot', array([[0],\n",
       "       [0],\n",
       "       [0],\n",
       "       ...,\n",
       "       [0],\n",
       "       [0],\n",
       "       [0]], dtype=uint16))])"
      ]
     },
     "execution_count": 2,
     "metadata": {},
     "output_type": "execute_result"
    }
   ],
   "source": [
    "import scipy.io\n",
    "import numpy as np\n",
    "import pandas as pd\n",
    "\n",
    "data = scipy.io.loadmat('C:/Users/OBELAB_JH_DESKTOP/Documents/GitHub/Data_AnalysisTool/ActivationMap/brainmodel.mat')\n",
    "\n",
    "data.items()"
   ]
  },
  {
   "cell_type": "code",
   "execution_count": 3,
   "metadata": {},
   "outputs": [
    {
     "data": {
      "text/plain": [
       "dict_keys(['__header__', '__version__', '__globals__', 'faces', 'vertices', 'scale', 'n_elem', 'face_matching_dot'])"
      ]
     },
     "execution_count": 3,
     "metadata": {},
     "output_type": "execute_result"
    }
   ],
   "source": [
    "data.keys()"
   ]
  },
  {
   "cell_type": "code",
   "execution_count": 12,
   "metadata": {},
   "outputs": [
    {
     "ename": "KeyError",
     "evalue": "'__globals__'",
     "output_type": "error",
     "traceback": [
      "\u001b[1;31m---------------------------------------------------------------------------\u001b[0m",
      "\u001b[1;31mKeyError\u001b[0m                                  Traceback (most recent call last)",
      "\u001b[1;32m<ipython-input-12-fd53f79b357e>\u001b[0m in \u001b[0;36m<module>\u001b[1;34m\u001b[0m\n\u001b[0;32m      1\u001b[0m \u001b[0mdata\u001b[0m\u001b[1;33m.\u001b[0m\u001b[0mpop\u001b[0m\u001b[1;33m(\u001b[0m\u001b[1;34m'__header__'\u001b[0m\u001b[1;33m,\u001b[0m \u001b[1;34m'__version__'\u001b[0m\u001b[1;33m)\u001b[0m\u001b[1;33m\u001b[0m\u001b[1;33m\u001b[0m\u001b[0m\n\u001b[1;32m----> 2\u001b[1;33m \u001b[0mdata\u001b[0m\u001b[1;33m.\u001b[0m\u001b[0mpop\u001b[0m\u001b[1;33m(\u001b[0m\u001b[1;34m'__globals__'\u001b[0m\u001b[1;33m)\u001b[0m\u001b[1;33m\u001b[0m\u001b[1;33m\u001b[0m\u001b[0m\n\u001b[0m",
      "\u001b[1;31mKeyError\u001b[0m: '__globals__'"
     ]
    }
   ],
   "source": [
    "data.pop('__header__', '__version__')\n",
    "data.pop('__globals__')"
   ]
  },
  {
   "cell_type": "code",
   "execution_count": 13,
   "metadata": {},
   "outputs": [
    {
     "data": {
      "text/plain": [
       "dict_keys(['__version__', 'faces', 'vertices', 'scale', 'n_elem', 'face_matching_dot'])"
      ]
     },
     "execution_count": 13,
     "metadata": {},
     "output_type": "execute_result"
    }
   ],
   "source": [
    "data.keys()"
   ]
  },
  {
   "cell_type": "code",
   "execution_count": 14,
   "metadata": {},
   "outputs": [
    {
     "data": {
      "text/plain": [
       "'1.0'"
      ]
     },
     "execution_count": 14,
     "metadata": {},
     "output_type": "execute_result"
    }
   ],
   "source": [
    "data.pop('__version__')"
   ]
  },
  {
   "cell_type": "code",
   "execution_count": 16,
   "metadata": {},
   "outputs": [
    {
     "data": {
      "text/plain": [
       "dict_keys(['faces', 'vertices', 'scale', 'n_elem', 'face_matching_dot'])"
      ]
     },
     "execution_count": 16,
     "metadata": {},
     "output_type": "execute_result"
    }
   ],
   "source": [
    "data.keys()"
   ]
  },
  {
   "cell_type": "code",
   "execution_count": 29,
   "metadata": {},
   "outputs": [],
   "source": [
    "# import scipy.io\n",
    "from scipy.io import loadmat\n",
    "import numpy as np\n",
    "import pandas as pd\n",
    "import xlsxwriter\n",
    "\n",
    "\n",
    "\n",
    "# mat = scipy.io.loadmat('C:/Users/OBELAB_JH_DESKTOP/Documents/GitHub/Data_AnalysisTool/ActivationMap/brainmodel.mat')\n",
    "mat = loadmat('C:/Users/OBELAB_JH_DESKTOP/Documents/GitHub/Data_AnalysisTool/ActivationMap/brainmodel.mat')\n",
    "\n",
    "# for i in mat:\n",
    "#     if '__' not in i and 'readme' not in i:\n",
    "#           np.savetxt((\"file.csv\"),mat[i],delimiter=',')\n",
    "\n",
    "\n",
    "# mat.pop('__header__')\n",
    "# mat.pop('__version__')\n",
    "# mat.pop('__globals__')\n",
    "\n",
    "\n",
    "workbook =  xlsxwriter.Workbook('brainmodel.xlsx')\n",
    "worksheet = workbook.add_worksheet()\n",
    "\n",
    "row = 0\n",
    "col = 0\n"
   ]
  },
  {
   "cell_type": "code",
   "execution_count": 30,
   "metadata": {},
   "outputs": [
    {
     "data": {
      "text/plain": [
       "str"
      ]
     },
     "execution_count": 30,
     "metadata": {},
     "output_type": "execute_result"
    }
   ],
   "source": [
    "a = \"abc\"\n",
    "type(a)"
   ]
  },
  {
   "cell_type": "code",
   "execution_count": null,
   "metadata": {},
   "outputs": [],
   "source": [
    "for k in mat.keys():\n",
    "    row += 1\n",
    "    worksheet.write(row, col, k)\n",
    "    for v in mat[k]:\n",
    "        if v.type\n",
    "        worksheet.write(row, col + 1, v)\n",
    "        row += 1\n",
    "        \n",
    "workbook.close()"
   ]
  }
 ],
 "metadata": {
  "kernelspec": {
   "display_name": "Python 3",
   "language": "python",
   "name": "python3"
  },
  "language_info": {
   "codemirror_mode": {
    "name": "ipython",
    "version": 3
   },
   "file_extension": ".py",
   "mimetype": "text/x-python",
   "name": "python",
   "nbconvert_exporter": "python",
   "pygments_lexer": "ipython3",
   "version": "3.7.1"
  }
 },
 "nbformat": 4,
 "nbformat_minor": 2
}
