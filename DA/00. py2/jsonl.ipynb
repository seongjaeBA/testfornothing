{
 "cells": [
  {
   "cell_type": "code",
   "execution_count": null,
   "id": "verified-residence",
   "metadata": {},
   "outputs": [],
   "source": [
    "import json\n",
    "\n",
    "result = [json.loads(jline) for jline in jsonl_content.splitlines()]\n",
    "# result = [json.loads(jline) for jline in response.read().splitlines()]\n",
    "\n"
   ]
  },
  {
   "cell_type": "code",
   "execution_count": null,
   "id": "cooked-effects",
   "metadata": {},
   "outputs": [],
   "source": [
    "with open('./data/my_filename.jsonl', 'r') as json_file:\n",
    "    json_list = list(json_file)\n",
    "\n",
    "for json_str in json_list:\n",
    "    result = json.loads(json_str)\n",
    "    print(f\"result: {result}\")\n",
    "    print(isinstance(result, dict))"
   ]
  },
  {
   "cell_type": "code",
   "execution_count": null,
   "id": "peripheral-commerce",
   "metadata": {},
   "outputs": [],
   "source": [
    "import json \n",
    "import pandas as pd\n",
    "import timeit\n",
    "\n",
    "def jsonl_to_df(jsonl, path = ''):\n",
    "    start_time = timeit.default_timer()\n",
    "    df = pd.DataFrame()\n",
    "    jsonl_path = path+jsonl\n",
    "    print('load file : ', jsonl_path)\n",
    "    with open(jsonl_path, 'r') as jsonl_file:\n",
    "        print('load start')\n",
    "        for idx, json_line in enumerate(json_list):\n",
    "            line = json.loads(json_line)\n",
    "            df = df.append(line, ignore_index=True)\n",
    "            if idx%500 == 0:\n",
    "              print(f'{jsonl} loadind {idx}/{len(json_list)} lines')\n",
    "    print('load end : ', jsonl_file.closed)\n",
    "    terminate_time = timeit.default_timer()\n",
    "    print(f'{terminate_time - start_time}초 걸렸습니다.' )\n",
    "    return df\n",
    "\n",
    "\n",
    "test_df =  jsonl_to_df('extractive_test_v2.jsonl', '/content/gdrive/MyDrive/Colab Notebooks/Korean_nlp_bert/data/')\n",
    "train_df =  jsonl_to_df('train.jsonl', '/content/gdrive/MyDrive/Colab Notebooks/Korean_nlp_bert/data/')\n",
    "\n"
   ]
  }
 ],
 "metadata": {
  "kernelspec": {
   "display_name": "Python 3.7",
   "language": "python",
   "name": "py37"
  },
  "language_info": {
   "codemirror_mode": {
    "name": "ipython",
    "version": 3
   },
   "file_extension": ".py",
   "mimetype": "text/x-python",
   "name": "python",
   "nbconvert_exporter": "python",
   "pygments_lexer": "ipython3",
   "version": "3.7.9"
  }
 },
 "nbformat": 4,
 "nbformat_minor": 5
}
