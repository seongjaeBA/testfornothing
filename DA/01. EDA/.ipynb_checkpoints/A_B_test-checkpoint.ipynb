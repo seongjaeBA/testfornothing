{
 "cells": [
  {
   "cell_type": "markdown",
   "metadata": {},
   "source": [
    "A group\n",
    "B group\n",
    "\n",
    "randomize\n",
    "\n",
    "populations\n",
    "\n",
    "goal\n",
    "\n",
    "내생, 외생\n",
    "행동\n"
   ]
  },
  {
   "cell_type": "code",
   "execution_count": null,
   "metadata": {},
   "outputs": [],
   "source": [
    "'''\n",
    "contingency = [[A_purchase , A_no_purchase ],\n",
    "               [B_purchase , B_no_purchase ],\n",
    "               [C_purchase , C_no_purchase ]]\n",
    "'''\n",
    "contingency = [[316, 1350],\n",
    "               [183 , 1483],\n",
    "               [83 , 1583]]\n",
    "from scipy.stats import chi2_contingency\n",
    "chi2, pval, dof, expected = chi2_contingency(contingency)\n",
    "print(pval)"
   ]
  }
 ],
 "metadata": {
  "kernelspec": {
   "display_name": "Python 3",
   "language": "python",
   "name": "python3"
  },
  "language_info": {
   "codemirror_mode": {
    "name": "ipython",
    "version": 3
   },
   "file_extension": ".py",
   "mimetype": "text/x-python",
   "name": "python",
   "nbconvert_exporter": "python",
   "pygments_lexer": "ipython3",
   "version": "3.8.3"
  }
 },
 "nbformat": 4,
 "nbformat_minor": 4
}
