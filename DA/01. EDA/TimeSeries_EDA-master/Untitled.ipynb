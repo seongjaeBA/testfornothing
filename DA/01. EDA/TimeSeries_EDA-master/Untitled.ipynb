{
 "cells": [
  {
   "cell_type": "code",
   "execution_count": 2,
   "metadata": {},
   "outputs": [
    {
     "data": {
      "text/html": [
       "'C:/Users/seong/WorkSpace/testfornothing/DA/01. EDA/TimeSeries_EDA-master'"
      ],
      "text/latex": [
       "'C:/Users/seong/WorkSpace/testfornothing/DA/01. EDA/TimeSeries\\_EDA-master'"
      ],
      "text/markdown": [
       "'C:/Users/seong/WorkSpace/testfornothing/DA/01. EDA/TimeSeries_EDA-master'"
      ],
      "text/plain": [
       "[1] \"C:/Users/seong/WorkSpace/testfornothing/DA/01. EDA/TimeSeries_EDA-master\""
      ]
     },
     "metadata": {},
     "output_type": "display_data"
    }
   ],
   "source": [
    "getwd()"
   ]
  },
  {
   "cell_type": "code",
   "execution_count": 3,
   "metadata": {},
   "outputs": [
    {
     "data": {
      "text/plain": [
       "ALLUSERSPROFILE         C:\\ProgramData\n",
       "APPDATA                 C:\\Users\\seong\\AppData\\Roaming\n",
       "CHROME_CRASHPAD_PIPE_NAME\n",
       "                        \\\\.\\pipe\\crashpad_24836_DHXNJTRFVHLWKGLG\n",
       "COLORTERM               truecolor\n",
       "COMMONPROGRAMFILES      C:\\Program Files\\Common Files\n",
       "COMMONPROGRAMFILES(X86)\n",
       "                        C:\\Program Files (x86)\\Common Files\n",
       "COMMONPROGRAMW6432      C:\\Program Files\\Common Files\n",
       "COMPUTERNAME            DESKTOP-JPEKCOU\n",
       "COMSPEC                 C:\\WINDOWS\\system32\\cmd.exe\n",
       "DRIVERDATA              C:\\Windows\\System32\\Drivers\\DriverData\n",
       "GIT_ASKPASS             c:\\Users\\seong\\AppData\\Local\\Programs\\Microsoft\n",
       "                        VS\n",
       "                        Code\\resources\\app\\extensions\\git\\dist\\askpass.sh\n",
       "GOOGLE_API_KEY          no\n",
       "GOOGLE_DEFAULT_CLIENT_ID\n",
       "                        no\n",
       "GOOGLE_DEFAULT_CLIENT_SECRET\n",
       "                        no\n",
       "HOME                    C:\\Users\\seong\\OneDrive\\문서\n",
       "HOMEDRIVE               C:\n",
       "HOMEPATH                \\Users\\seong\n",
       "IPY_INTERRUPT_EVENT     3280\n",
       "JPY_INTERRUPT_EVENT     3280\n",
       "JPY_PARENT_PID          3276\n",
       "KERNEL_LAUNCH_TIMEOUT   40\n",
       "LANG                    ko_KR.UTF-8\n",
       "LOCALAPPDATA            C:\\Users\\seong\\AppData\\Local\n",
       "LOGONSERVER             \\\\DESKTOP-JPEKCOU\n",
       "MSYS2_ENV_CONV_EXCL     R_ARCH\n",
       "NUMBER_OF_PROCESSORS    8\n",
       "ONEDRIVE                C:\\Users\\seong\\OneDrive\n",
       "ONEDRIVECONSUMER        C:\\Users\\seong\\OneDrive\n",
       "ORIGINAL_XDG_CURRENT_DESKTOP\n",
       "                        undefined\n",
       "OS                      Windows_NT\n",
       "PATH                    C:\\Users\\seong\\anaconda3\\Library\\mingw-w64\\bin;C:\\Users\\seong\\anaconda3\\Library\\usr\\bin;C:\\WINDOWS\\system32;C:\\WINDOWS;C:\\WINDOWS\\System32\\Wbem;C:\\WINDOWS\\System32\\WindowsPowerShell\\v1.0\\;C:\\WINDOWS\\System32\\OpenSSH\\;C:\\Program\n",
       "                        Files\\Git\\cmd;C:\\Users\\seong\\anaconda3;C:\\Users\\seong\\anaconda3\\Library\\bin;C:\\Users\\seong\\anaconda3\\scripts;C:\\Users\\seong\\ANACONda3\\envs\\rstudio\\lib\\R;C:\\Users\\seong\\anaconda3\\envs\\rstudio\\Scripts;C:\\Users\\seong\\anaconda3\\envs\\rstudio\\lib\\R\\bin;C:\\Users\\seong\\anaconda3\\lib\\R\\bin;C:\\Users\\seong\\anaconda3\\lib\\R\\bin\\x64;C:\\Ruby30\\bin;C:\\WINDOWS\\system32;C:\\WINDOWS;C:\\WINDOWS\\System32\\Wbem;C:\\WINDOWS\\System32\\WindowsPowerShell\\v1.0\\;C:\\WINDOWS\\System32\\OpenSSH\\;C:\\Program\n",
       "                        Files\\Git\\cmd;C:\\Users\\seong\\AppData\\Local\\Microsoft\\WindowsApps;C:\\Program\n",
       "                        Files\\Bandizip\\;C:\\Users\\seong\\AppData\\Local\\Programs\\Microsoft\n",
       "                        VS\n",
       "                        Code\\bin;C:\\Users\\seong\\AppData\\Local\\GitHubDesktop\\bin;C:\\Users\\seong\\anaconda3;C:\\Users\\seong\\anaconda3\\Library\\bin;C:\\Users\\seong\\ANACONda3\\envs\\rstudio\\lib\\R;C:\\Users\\seong\\anaconda3\\envs\\rstudio\\Scripts;C:\\Users\\seong\\anaconda3\\envs\\rstudio\\lib\\R\\bin;C:\\Users\\seong\\anaconda3\\lib\\R\\bin;C:\\Users\\seong\\anaconda3\\lib\\R\\bin\\x64;\n",
       "PATHEXT                 .COM;.EXE;.BAT;.CMD;.VBS;.VBE;.JS;.JSE;.WSF;.WSH;.MSC;.RB;.RBW\n",
       "PROCESSOR_ARCHITECTURE\n",
       "                        AMD64\n",
       "PROCESSOR_IDENTIFIER    Intel64 Family 6 Model 126 Stepping 5,\n",
       "                        GenuineIntel\n",
       "PROCESSOR_LEVEL         6\n",
       "PROCESSOR_REVISION      7e05\n",
       "PROGRAMDATA             C:\\ProgramData\n",
       "PROGRAMFILES            C:\\Program Files\n",
       "PROGRAMFILES(X86)       C:\\Program Files (x86)\n",
       "PROGRAMW6432            C:\\Program Files\n",
       "PROMPT                  $P$G\n",
       "PSMODULEPATH            C:\\Program\n",
       "                        Files\\WindowsPowerShell\\Modules;C:\\WINDOWS\\system32\\WindowsPowerShell\\v1.0\\Modules\n",
       "PUBLIC                  C:\\Users\\Public\n",
       "R_ARCH                  /x64\n",
       "R_COMPILED_BY           gcc 5.3.0\n",
       "R_HOME                  C:/Users/seong/anaconda3/lib/R\n",
       "R_LIBS_USER             C:\\Users\\seong\\OneDrive\\문서/R/win-library/3.6\n",
       "R_USER                  C:\\Users\\seong\\OneDrive\\문서\n",
       "SESSIONNAME             Console\n",
       "SYSTEMDRIVE             C:\n",
       "SYSTEMROOT              C:\\WINDOWS\n",
       "TEMP                    C:\\Users\\seong\\AppData\\Local\\Temp\n",
       "TERM_PROGRAM            vscode\n",
       "TERM_PROGRAM_VERSION    1.53.2\n",
       "TMP                     C:\\Users\\seong\\AppData\\Local\\Temp\n",
       "USERDOMAIN              DESKTOP-JPEKCOU\n",
       "USERDOMAIN_ROAMINGPROFILE\n",
       "                        DESKTOP-JPEKCOU\n",
       "USERNAME                seong\n",
       "USERPROFILE             C:\\Users\\seong\n",
       "VSCODE_GIT_ASKPASS_MAIN\n",
       "                        c:\\Users\\seong\\AppData\\Local\\Programs\\Microsoft\n",
       "                        VS\n",
       "                        Code\\resources\\app\\extensions\\git\\dist\\askpass-main.js\n",
       "VSCODE_GIT_ASKPASS_NODE\n",
       "                        C:\\Users\\seong\\AppData\\Local\\Programs\\Microsoft\n",
       "                        VS Code\\Code.exe\n",
       "VSCODE_GIT_IPC_HANDLE   \\\\.\\pipe\\vscode-git-5099225ce5-sock\n",
       "WINDIR                  C:\\WINDOWS"
      ]
     },
     "metadata": {},
     "output_type": "display_data"
    }
   ],
   "source": [
    "Sys.getenv()"
   ]
  },
  {
   "cell_type": "code",
   "execution_count": null,
   "metadata": {},
   "outputs": [],
   "source": []
  }
 ],
 "metadata": {
  "kernelspec": {
   "display_name": "R",
   "language": "R",
   "name": "ir"
  },
  "language_info": {
   "codemirror_mode": "r",
   "file_extension": ".r",
   "mimetype": "text/x-r-source",
   "name": "R",
   "pygments_lexer": "r",
   "version": "3.6.1"
  }
 },
 "nbformat": 4,
 "nbformat_minor": 4
}
