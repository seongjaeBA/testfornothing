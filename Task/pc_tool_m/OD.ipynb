{
 "cells": [
  {
   "cell_type": "code",
   "execution_count": null,
   "metadata": {},
   "outputs": [],
   "source": [
    "def OD(self, obj, init_s, init_f):\n",
    "    import numpy as np\n",
    "    import math\n",
    "    from math import exp\n",
    "\n",
    "    LoadConstants();\n",
    "    init_s = round(init_s * Fs);\n",
    "    init_f = round(init_f * Fs);\n",
    "\n",
    "    if (obj.DataInfo.is_RejectCh == 1):\n",
    "        demod_data_780 = obj.TimeSeries.chRejData.D780\n",
    "        demod_data_850 = obj.TimeSeries.chRejData.D850\n",
    "    elif (obj.DataInfo.is_LPF == 1 || mdata_DataInfo.is_HPF == 1):\n",
    "        demod_data_780 = obj.TimeSeries.fData.D780\n",
    "        demod_data_850 = obj.TimeSeries.fData.D850\n",
    "    else:\n",
    "        demod_data_780 = obj.TimeSeries.rawData.D780\n",
    "        demod_data_850 = obj.TimeSeries.rawData.D850\n",
    "\n",
    "\n",
    "    for ch in len(ch_num):\n",
    "        demod_data_780_ini(ch) = np.mean(demod_data_780(ch, init_s:init_f))\n",
    "        demod_data_850_ini(ch) = np.mean(demod_data_850(ch, init_s:init_f))\n",
    "\n",
    "\n",
    "    for ch in len(ch_num):\n",
    "        dOD_780(ch, :) = -math.log(demod_data_780(ch,:)/demod_data_780_ini(ch))\n",
    "        dOD_850(ch, :) = -math.log(demod_data_850(ch,:)/demod_data_850_ini(ch))\n",
    "\n",
    "\n",
    "    obj.TimeSeries.dOD.D780 = dOD_780.real\n",
    "    obj.TimeSeries.dOD.D850 = dOD_850.real\n",
    "\n",
    "    obj.DataInfo.is_dOD = 1;"
   ]
  }
 ],
 "metadata": {
  "kernelspec": {
   "display_name": "Python 3",
   "language": "python",
   "name": "python3"
  },
  "language_info": {
   "codemirror_mode": {
    "name": "ipython",
    "version": 3
   },
   "file_extension": ".py",
   "mimetype": "text/x-python",
   "name": "python",
   "nbconvert_exporter": "python",
   "pygments_lexer": "ipython3",
   "version": "3.7.1"
  }
 },
 "nbformat": 4,
 "nbformat_minor": 2
}
