{
 "cells": [
  {
   "cell_type": "code",
   "execution_count": 1,
   "metadata": {},
   "outputs": [
    {
     "ename": "TypeError",
     "evalue": "parser_f() got an unexpected keyword argument 'index'",
     "output_type": "error",
     "traceback": [
      "\u001b[1;31m---------------------------------------------------------------------------\u001b[0m",
      "\u001b[1;31mTypeError\u001b[0m                                 Traceback (most recent call last)",
      "\u001b[1;32m<ipython-input-1-361696eccdbd>\u001b[0m in \u001b[0;36m<module>\u001b[1;34m\u001b[0m\n\u001b[0;32m      6\u001b[0m             \u001b[0mindex\u001b[0m\u001b[1;33m=\u001b[0m\u001b[1;32mFalse\u001b[0m\u001b[1;33m,\u001b[0m \u001b[0mindex_col\u001b[0m\u001b[1;33m=\u001b[0m\u001b[1;34m'c1'\u001b[0m\u001b[1;33m,\u001b[0m\u001b[1;33m\u001b[0m\u001b[1;33m\u001b[0m\u001b[0m\n\u001b[0;32m      7\u001b[0m             \u001b[0mskiprows\u001b[0m\u001b[1;33m=\u001b[0m\u001b[1;33m[\u001b[0m\u001b[1;36m0\u001b[0m\u001b[1;33m,\u001b[0m \u001b[1;36m1\u001b[0m\u001b[1;33m]\u001b[0m\u001b[1;33m,\u001b[0m\u001b[1;33m\u001b[0m\u001b[1;33m\u001b[0m\u001b[0m\n\u001b[1;32m----> 8\u001b[1;33m             na_values=['누락'], na_rep='누락')\n\u001b[0m\u001b[0;32m      9\u001b[0m \u001b[1;31m# 인덱스 수정에 대한 추가 정보는 https://datascienceschool.net/view-notebook/a49bde24674a46699639c1fa9bb7e213/\u001b[0m\u001b[1;33m\u001b[0m\u001b[1;33m\u001b[0m\u001b[1;33m\u001b[0m\u001b[0m\n\u001b[0;32m     10\u001b[0m \u001b[1;31m### 0-1  그 외 패키지 pandas_datareader\u001b[0m\u001b[1;33m\u001b[0m\u001b[1;33m\u001b[0m\u001b[1;33m\u001b[0m\u001b[0m\n",
      "\u001b[1;31mTypeError\u001b[0m: parser_f() got an unexpected keyword argument 'index'"
     ]
    }
   ],
   "source": [
    "import pandas as pd\n",
    "\n",
    "### 0. 데이터 불러오기\n",
    "pd.read_csv('https://raw.githubusercontent.com/datascienceschool/docker_rpython/master/data/titanic.csv',\n",
    "            names=['c1', 'c2', 'c3'], \n",
    "            index=False, index_col='c1', \n",
    "            skiprows=[0, 1],\n",
    "            na_values=['누락'], na_rep='누락')\n",
    "# 인덱스 수정에 대한 추가 정보는 https://datascienceschool.net/view-notebook/a49bde24674a46699639c1fa9bb7e213/\n",
    "### 0-1  그 외 패키지 pandas_datareader\n",
    "\n",
    "### 1. 결측값 처리 - 기댓값 최대화 알고리즘(E-M 알고리즘)\n",
    "\n",
    "from io import StringIO\n",
    "csv_dat = '''가열,나열,다열,라열,마열\n",
    "1.0,2.0,3.0,4.0,3.0\n",
    "5.0,6.0,,8.0, 4.0\n",
    "0.0,11.0,12.0,,7.0\n",
    "1.0,7.5,3.0,7.0,3.0'''\n",
    "###csv_dat = unicode(csv_dat) # 파이썬 2.7 계열인 경우 필요하다.\n",
    "df = pd.read_csv(StringIO(csv_dat)) # 데이터 읽어오기 / 위는 임의의 데이터\n",
    "print(df)\n",
    "\n",
    "df.values # df의 배열\n",
    "\n",
    "\n",
    "\n",
    "\n"
   ]
  },
  {
   "cell_type": "code",
   "execution_count": null,
   "metadata": {},
   "outputs": [],
   "source": [
    "df.isnull().sum() # df = null 을 sum\n",
    "\n",
    "### 결측값 제거\n",
    "\n",
    "df.dropna() # 결측값 제거 drop na\n",
    "'''thresh=3, subset=['나열'], how='all', axis = ? 로 정하여 사용 가능'''\n",
    "\n",
    "### 결측값 대치"
   ]
  }
 ],
 "metadata": {
  "kernelspec": {
   "display_name": "Python 3",
   "language": "python",
   "name": "python3"
  },
  "language_info": {
   "codemirror_mode": {
    "name": "ipython",
    "version": 3
   },
   "file_extension": ".py",
   "mimetype": "text/x-python",
   "name": "python",
   "nbconvert_exporter": "python",
   "pygments_lexer": "ipython3",
   "version": "3.7.1"
  }
 },
 "nbformat": 4,
 "nbformat_minor": 2
}
