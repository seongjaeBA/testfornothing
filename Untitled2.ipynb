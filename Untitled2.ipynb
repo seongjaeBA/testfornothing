{
 "cells": [
  {
   "cell_type": "code",
   "execution_count": null,
   "metadata": {},
   "outputs": [],
   "source": [
    "import math\n",
    "import operator\n",
    "import numpy as np\n",
    "import pandas as pd\n",
    "import matplotlib as mpl\n",
    "import matplotlib.pylab as plt\n",
    "import sklearn\n",
    "\n",
    "train=pd.read_csv('data/train.csv')\n",
    "test=pd.read_csv('data/test.csv')\n",
    "\n",
    "test.head()\n",
    "\n",
    "train[train.dtypes[(train.dtypes==\"float64\")|(train.dtypes==\"int64\")]\n",
    "                        .index.values].hist(figsize=[15,15])"
   ]
  }
 ],
 "metadata": {
  "kernelspec": {
   "display_name": "Python 3",
   "language": "python",
   "name": "python3"
  },
  "language_info": {
   "codemirror_mode": {
    "name": "ipython",
    "version": 3
   },
   "file_extension": ".py",
   "mimetype": "text/x-python",
   "name": "python",
   "nbconvert_exporter": "python",
   "pygments_lexer": "ipython3",
   "version": "3.7.1"
  }
 },
 "nbformat": 4,
 "nbformat_minor": 2
}
