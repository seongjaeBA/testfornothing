{
 "cells": [
  {
   "cell_type": "code",
   "execution_count": 4,
   "metadata": {},
   "outputs": [
    {
     "name": "stdout",
     "output_type": "stream",
     "text": [
      "{'hello': 1, 'world': 10, 'bye': 100}\n"
     ]
    }
   ],
   "source": [
    "### 특정 데이터 추출 저장용 바이너리 파일 pickle\n",
    "\n",
    "import pickle \n",
    "\n",
    "myDict = dict()\n",
    "myDict['hello'] = 1\n",
    "myDict['world'] = 10\n",
    "myDict['bye'] = 100\n",
    "### myDict 객체를 바이너리 파일로 저장한다.\n",
    "with open('myDict.pkl', 'wb') as fout: # 파이썬 2.x 에서는 w,r로도 사용 가능\n",
    "    pickle.dump(myDict, fout)\n",
    "### 피클로 저장한 객체를 yourDict로 불러온다.\n",
    "with open('myDict.pkl', 'rb') as fin:\n",
    "    yourDict = pickle.load(fin)\n",
    "\n",
    "print(yourDict)\n",
    "\n"
   ]
  }
 ],
 "metadata": {
  "kernelspec": {
   "display_name": "Python 3",
   "language": "python",
   "name": "python3"
  },
  "language_info": {
   "codemirror_mode": {
    "name": "ipython",
    "version": 3
   },
   "file_extension": ".py",
   "mimetype": "text/x-python",
   "name": "python",
   "nbconvert_exporter": "python",
   "pygments_lexer": "ipython3",
   "version": "3.7.1"
  }
 },
 "nbformat": 4,
 "nbformat_minor": 2
}
