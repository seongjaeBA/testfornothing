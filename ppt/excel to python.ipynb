{
 "cells": [
  {
   "cell_type": "code",
   "execution_count": 4,
   "metadata": {},
   "outputs": [
    {
     "ename": "NameError",
     "evalue": "name 'slide' is not defined",
     "output_type": "error",
     "traceback": [
      "\u001b[1;31m---------------------------------------------------------------------------\u001b[0m",
      "\u001b[1;31mNameError\u001b[0m                                 Traceback (most recent call last)",
      "\u001b[1;32m<ipython-input-4-d3fba2b46e6f>\u001b[0m in \u001b[0;36m<module>\u001b[1;34m\u001b[0m\n\u001b[0;32m      8\u001b[0m \u001b[1;33m\u001b[0m\u001b[0m\n\u001b[0;32m      9\u001b[0m \u001b[1;31m#shape 리스트에 접근\u001b[0m\u001b[1;33m\u001b[0m\u001b[1;33m\u001b[0m\u001b[1;33m\u001b[0m\u001b[0m\n\u001b[1;32m---> 10\u001b[1;33m \u001b[0mshapes\u001b[0m \u001b[1;33m=\u001b[0m \u001b[0mslide\u001b[0m\u001b[1;33m.\u001b[0m\u001b[0mshapes\u001b[0m\u001b[1;33m\u001b[0m\u001b[1;33m\u001b[0m\u001b[0m\n\u001b[0m\u001b[0;32m     11\u001b[0m \u001b[0mleft\u001b[0m \u001b[1;33m=\u001b[0m \u001b[0mtop\u001b[0m \u001b[1;33m=\u001b[0m \u001b[0mwidth\u001b[0m \u001b[1;33m=\u001b[0m \u001b[0mheight\u001b[0m \u001b[1;33m=\u001b[0m \u001b[0mInches\u001b[0m\u001b[1;33m(\u001b[0m\u001b[1;36m1.0\u001b[0m\u001b[1;33m)\u001b[0m\u001b[1;33m\u001b[0m\u001b[1;33m\u001b[0m\u001b[0m\n\u001b[0;32m     12\u001b[0m shape = shapes.add_shape(\n",
      "\u001b[1;31mNameError\u001b[0m: name 'slide' is not defined"
     ]
    }
   ],
   "source": [
    "import os\n",
    "import pptx\n",
    "from pptx import Presentation\n",
    "\n",
    "#파일 불러오기\n",
    "\n",
    "prs = Presentation('./ppt templet/1066.pptx')\n",
    "\n",
    "#shape 리스트에 접근\n",
    "slide = slides.get()\n",
    "shapes = slide.shapes\n",
    "left = top = width = height = Inches(1.0)\n",
    "shape = shapes.add_shape(\n",
    "    MSO_SHAPE.ROUNDED_RECTANGLE, left, top, width, height\n",
    "    ) \n",
    "#shape 채우기\n",
    "shape.fill.background()\n",
    "'''\n",
    "#place-holder 알아보기\n",
    "'''\n",
    "for shape in slide.placeholders:\n",
    "    print('%d %s' % (shape.placeholder_format.idx, shape.name))\n",
    "\n",
    "\n",
    "    ##place-holder 접근\n",
    "    #slide.placeholder[idx] - name \n",
    "\n",
    "    ## 그림 placeholder를 찾아서 접근.\n",
    "#     picture = slide.placeholders[1].insert_picture('./picture/%s' % (i))\n",
    "    \n",
    "\n",
    "\n",
    "#파일로 저장(파일로 하기)\n",
    "# prs.save('./test1.pptx')"
   ]
  }
 ],
 "metadata": {
  "kernelspec": {
   "display_name": "Python 3",
   "language": "python",
   "name": "python3"
  },
  "language_info": {
   "codemirror_mode": {
    "name": "ipython",
    "version": 3
   },
   "file_extension": ".py",
   "mimetype": "text/x-python",
   "name": "python",
   "nbconvert_exporter": "python",
   "pygments_lexer": "ipython3",
   "version": "3.7.1"
  }
 },
 "nbformat": 4,
 "nbformat_minor": 2
}
